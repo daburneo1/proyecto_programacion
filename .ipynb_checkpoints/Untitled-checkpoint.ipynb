{
 "cells": [
  {
   "cell_type": "markdown",
   "metadata": {},
   "source": [
    "# PROYECTO - SEGUNDO BIMESTRE - PROGRAMACION DE ALGORITMOS"
   ]
  },
  {
   "cell_type": "markdown",
   "metadata": {},
   "source": [
    "#### PROGRAMA ELABORADO EN PYTHON PARA TABULACION Y VISUALIZACION DE DATOS UTILIZANDO LAS LIBRERIAS DE PANDAS Y BOKEH"
   ]
  },
  {
   "cell_type": "markdown",
   "metadata": {},
   "source": [
    "# Nombre: David Burneo"
   ]
  },
  {
   "cell_type": "markdown",
   "metadata": {},
   "source": [
    "#### SET DE DATOS\n",
    "Los datos que se trabajaran son los datos basicos de jugadores pertenecientes a la primera división de futbol de España"
   ]
  },
  {
   "cell_type": "markdown",
   "metadata": {},
   "source": [
    "Para proceder a la lectura de datos se procede a importar la libreria pandas"
   ]
  },
  {
   "cell_type": "code",
   "execution_count": 1,
   "metadata": {},
   "outputs": [],
   "source": [
    "import pandas as pd"
   ]
  },
  {
   "cell_type": "markdown",
   "metadata": {},
   "source": [
    "Los datos estan ingresados en un archivo .csv, por lo cual se utilizará el comando read_csv haciendo referencia a pandas"
   ]
  },
  {
   "cell_type": "code",
   "execution_count": 2,
   "metadata": {},
   "outputs": [
    {
     "name": "stdout",
     "output_type": "stream",
     "text": [
      "                      Pais  Jugadores  Porcentaje  Arqueros  Defensa  \\\n",
      "0                   España       7931       73.49      1012     2424   \n",
      "1                Argentina        554        5.13        40      140   \n",
      "2                   Brasil        299        2.77         9       79   \n",
      "3                  Francia        215        1.99        14       74   \n",
      "4                  Uruguay        196        1.82        14       54   \n",
      "5                 Portugal        126        1.17         8       41   \n",
      "6                 Paraguay        122        1.13         6       28   \n",
      "7                   Serbia         93        0.86         8       28   \n",
      "8             Paises Bajos         68        0.63         5       17   \n",
      "9                   Italia         66        0.61         7       22   \n",
      "10                 Croacia         53        0.49         5       12   \n",
      "11                Colombia         53        0.49         4       13   \n",
      "12                Alemania         48        0.44         7       14   \n",
      "13                   Chile         47        0.44         2       11   \n",
      "14                 Rumania         45        0.42         4       13   \n",
      "15                  Mexico         40        0.37         1        8   \n",
      "16               Marruecos         39        0.36         3        8   \n",
      "17               Dinamarca         37        0.34         1        7   \n",
      "18                 Nigeria         36        0.33         3        5   \n",
      "19             Reino Unido         33        0.31         0        7   \n",
      "20                 Hungria         32        0.30         5        2   \n",
      "21                 Camerun         30        0.28         3        8   \n",
      "22                    Peru         27        0.25         0        8   \n",
      "23                  Bosnia         27        0.25         0        6   \n",
      "24                 Belgica         27        0.25         7        3   \n",
      "25         Costa de Marfil         26        0.24         0        4   \n",
      "26                   Ghana         24        0.22         0        1   \n",
      "27                   Rusia         24        0.22         2        3   \n",
      "28               Venezuela         23        0.21         1        6   \n",
      "29                  Suecia         22        0.20         2        4   \n",
      "..                     ...        ...         ...       ...      ...   \n",
      "76                   Gabon          3        0.03         0        1   \n",
      "77                 Albania          3        0.03         0        0   \n",
      "78                 Georgia          2        0.02         0        0   \n",
      "79                    Togo          2        0.02         0        1   \n",
      "80                  Gambia          2        0.02         0        0   \n",
      "81                   Kenia          2        0.02         0        0   \n",
      "82                 Andorra          2        0.02         0        0   \n",
      "83                 Letonia          2        0.02         0        1   \n",
      "84       Sahara Occidental          2        0.02         0        0   \n",
      "85                    Iran          2        0.02         0        0   \n",
      "86     Republica del Congo          2        0.02         0        0   \n",
      "87             El Salvador          2        0.02         0        1   \n",
      "88            Burkina Faso          2        0.02         0        1   \n",
      "89                 Liberia          1        0.01         0        0   \n",
      "90               Nicaragua          1        0.01         0        1   \n",
      "91                   Qatar          1        0.01         0        0   \n",
      "92               Tailandia          1        0.01         0        0   \n",
      "93                  Uganda          1        0.01         0        0   \n",
      "94             Puerto Rico          1        0.01         0        0   \n",
      "95    Republica Dominicana          1        0.01         0        1   \n",
      "96                Moldavia          1        0.01         0        0   \n",
      "97              Madagascar          1        0.01         0        0   \n",
      "98                  Egipto          1        0.01         0        0   \n",
      "99   Santo Tome y Principe          1        0.01         1        0   \n",
      "100                Estonia          1        0.01         0        0   \n",
      "101             Tayikistan          1        0.01         0        0   \n",
      "102                Burundi          1        0.01         0        0   \n",
      "103             Azerbaiyan          1        0.01         0        0   \n",
      "104                  China          1        0.01         0        0   \n",
      "105                  Tunez          1        0.01         0        1   \n",
      "\n",
      "     Medio_Campo  Delanteros  Goles  Goles/Jugador  Amarillas  \\\n",
      "0           2365        2129  47971           6.05      46976   \n",
      "1            172         202   4987           9.00       5454   \n",
      "2             96         115   2954           9.88       3025   \n",
      "3             81          46   1305           6.07       1730   \n",
      "4             53          75   1641           8.37       1714   \n",
      "5             49          28    822           6.52       1310   \n",
      "6             27          61   1204           9.87        465   \n",
      "7             33          24    441           4.74        740   \n",
      "8             23          23    655           9.63        536   \n",
      "9             18          19    203           3.08        526   \n",
      "10            20          16    422           7.96        538   \n",
      "11            13          23    222           4.19        412   \n",
      "12            17          10    315           6.56        378   \n",
      "13            15          19    322           6.85        315   \n",
      "14            11          17    302           6.71        430   \n",
      "15            16          15    465          11.62        302   \n",
      "16            12          16    337           8.64        261   \n",
      "17            13          16    230           6.22        255   \n",
      "18             8          20    242           6.72        175   \n",
      "19            13          13    269           8.15        164   \n",
      "20            10          15    451          14.09         55   \n",
      "21            11           8    243           8.10        244   \n",
      "22            11           8    125           4.63        105   \n",
      "23             7          14    359          13.30        273   \n",
      "24            10           7     46           1.70         96   \n",
      "25            12          10     55           2.12        164   \n",
      "26            14           9     53           2.21        140   \n",
      "27             9          10    262          10.92        246   \n",
      "28             5          11    157           6.83        224   \n",
      "29             8           8    126           5.73        101   \n",
      "..           ...         ...    ...            ...        ...   \n",
      "76             1           1      0           0.00          2   \n",
      "77             2           1      0           0.00          1   \n",
      "78             0           2      1           0.50          1   \n",
      "79             0           1      6           3.00         17   \n",
      "80             1           1      9           4.50          7   \n",
      "81             1           1      3           1.50          1   \n",
      "82             1           1      0           0.00          0   \n",
      "83             0           1      1           0.50          9   \n",
      "84             2           0      2           1.00          9   \n",
      "85             1           1     32          16.00         52   \n",
      "86             2           0      0           0.00          1   \n",
      "87             0           1     43          21.50         10   \n",
      "88             0           1      3           1.50          6   \n",
      "89             1           0      0           0.00          1   \n",
      "90             0           0      1           1.00         10   \n",
      "91             0           1      0           0.00          2   \n",
      "92             0           1      0           0.00          0   \n",
      "93             1           0     10          10.00          3   \n",
      "94             1           0      3           3.00          0   \n",
      "95             0           0      5           5.00          8   \n",
      "96             1           0      2           2.00          0   \n",
      "97             1           0      0           0.00          0   \n",
      "98             0           1      4           4.00          3   \n",
      "99             0           0      0           0.00          2   \n",
      "100            1           0     68          68.00         85   \n",
      "101            1           0      0           0.00          0   \n",
      "102            0           1     24          24.00         11   \n",
      "103            0           1      4           4.00          1   \n",
      "104            0           1      0           0.00          0   \n",
      "105            0           0      0           0.00          8   \n",
      "\n",
      "     Amarillas/Jugador  Rojas  Rojas/Jugador   Longitud  Latitud  \n",
      "0                 5.92   3592            0.45     -4.00    40.00  \n",
      "1                 9.84    427            0.77    -64.00   -34.00  \n",
      "2                10.12    231            0.77    -55.00   -10.00  \n",
      "3                 8.05    137            0.64      2.00    46.00  \n",
      "4                 8.74    122            0.62    -56.00   -34.50  \n",
      "5                10.40    105            0.83     -8.00    39.30  \n",
      "6                 3.81     60            0.49    -58.00   -23.00  \n",
      "7                 7.96     49            0.53     21.00    44.00  \n",
      "8                 7.88     48            0.71      5.45    52.30  \n",
      "9                 7.97     58            0.88     12.49    42.49  \n",
      "10               10.15     30            0.57     15.30    45.10  \n",
      "11                7.77     22            0.42    -72.00     4.00  \n",
      "12                7.88     27            0.56      9.00    51.00  \n",
      "13                6.70     27            0.57    -70.38   -33.28  \n",
      "14                9.56     35            0.78     25.00    46.00  \n",
      "15                7.55     29            0.73    -99.08    19.25  \n",
      "16                6.69     37            0.95     -5.00    32.00  \n",
      "17                6.89     14            0.38     10.00    56.00  \n",
      "18                4.86     14            0.39      8.00    10.00  \n",
      "19                4.97      9           -2.00     54.00      NaN  \n",
      "20                1.72     12            0.38     20.00    47.00  \n",
      "21                8.13     17            0.57     12.00     6.00  \n",
      "22                3.89     11            0.41    -77.10   -12.20  \n",
      "23               10.11     17            0.63     18.00    44.00  \n",
      "24                3.56      6            0.22      4.00    50.49  \n",
      "25                6.31     13            0.50     -5.00     8.00  \n",
      "26                5.83      6            0.25     -2.00     8.00  \n",
      "27               10.25     21            0.88    100.00    60.00  \n",
      "28                9.74     15            0.65    -66.00     8.00  \n",
      "29                4.59      9            0.41     15.00    62.00  \n",
      "..                 ...    ...             ...       ...      ...  \n",
      "76                0.67      0            0.00     11.45    -1.00  \n",
      "77                0.33      0            0.00     19.49    41.19  \n",
      "78                0.50      0            0.00     43.30    42.00  \n",
      "79                8.50      1            0.50      1.10     8.00  \n",
      "80                3.50      1            0.50    -16.34    13.28  \n",
      "81                0.50      0            0.00     38.00     1.00  \n",
      "82                0.00      0            0.00      1.36    42.30  \n",
      "83                4.50      0            0.00     25.00    57.00  \n",
      "84                4.50      0            0.00    -12.07    25.00  \n",
      "85               26.00      3            1.50     53.00    32.00  \n",
      "86                0.50      0            0.00     15.00    -1.00  \n",
      "87                5.00      0            0.00    -88.55    13.49  \n",
      "88                3.00      1            0.50     -2.00    13.00  \n",
      "89                1.00      0            0.00     -9.30     6.30  \n",
      "90               10.00      0            0.00     85.00    13.00  \n",
      "91                2.00      0            0.00     51.15    25.30  \n",
      "92                0.00      0            0.00    100.00    15.00  \n",
      "93                3.00      0            0.00     32.17     1.22  \n",
      "94                0.00      0            0.00    -66.35    18.13  \n",
      "95                8.00      0            0.00    -70.40    19.00  \n",
      "96                0.00      0            0.00     29.00    47.00  \n",
      "97                0.00      0            0.00     47.00   -20.00  \n",
      "98                3.00      1            1.00     30.00    27.00  \n",
      "99                2.00      1            1.00      6.36     0.11  \n",
      "100              85.00      6            6.00     26.00    59.00  \n",
      "101               0.00      0            0.00     71.00    39.00  \n",
      "102              11.00      1            1.00     30.00    -3.30  \n",
      "103               1.00      1            1.00     47.30    40.30  \n",
      "104               0.00      0            0.00    105.00    35.00  \n",
      "105               8.00      0            0.00      9.00    34.00  \n",
      "\n",
      "[106 rows x 15 columns]\n"
     ]
    }
   ],
   "source": [
    "df = pd.read_csv('Jugadores_primera_division_Espania.csv', engine = 'python', header = 0, sep = ';', decimal = \".\")\n",
    "\n",
    "print(df)"
   ]
  },
  {
   "cell_type": "markdown",
   "metadata": {},
   "source": [
    "El comando read_csv crea un DataFrame que contiene las filas y columnas proporcionadas por pandas. \n",
    "\n",
    "Al ejecutar el comando print(df) se genera una representación de los datos cargados"
   ]
  },
  {
   "cell_type": "markdown",
   "metadata": {},
   "source": [
    "Esto muestra que se tienen 106 registros de futbolistas, con 13 columnas por registro.\n",
    "\n",
    "Para visualizar los nombres de las columnas se puede utilizar el comando df.columns.tolist()"
   ]
  },
  {
   "cell_type": "code",
   "execution_count": 3,
   "metadata": {},
   "outputs": [
    {
     "data": {
      "text/plain": [
       "['Pais',\n",
       " 'Jugadores',\n",
       " 'Porcentaje',\n",
       " 'Arqueros',\n",
       " 'Defensa',\n",
       " 'Medio_Campo',\n",
       " 'Delanteros',\n",
       " 'Goles',\n",
       " 'Goles/Jugador',\n",
       " 'Amarillas',\n",
       " 'Amarillas/Jugador',\n",
       " 'Rojas',\n",
       " 'Rojas/Jugador ',\n",
       " 'Longitud',\n",
       " 'Latitud']"
      ]
     },
     "execution_count": 3,
     "metadata": {},
     "output_type": "execute_result"
    }
   ],
   "source": [
    "df.columns.tolist()"
   ]
  },
  {
   "cell_type": "markdown",
   "metadata": {},
   "source": [
    "## Gráficas utilizando Bokeh"
   ]
  },
  {
   "cell_type": "markdown",
   "metadata": {},
   "source": [
    "Para visualizar los datos tabulados por pandas de una manera gráfica integrando Pandas Data Frame con visualizaciones de Bokeh."
   ]
  },
  {
   "cell_type": "markdown",
   "metadata": {},
   "source": [
    "# Gráfica de Dispersión"
   ]
  },
  {
   "cell_type": "markdown",
   "metadata": {},
   "source": [
    "A mas de la importacion de Pandas se procede a importar el objeto \"figure\", las funciones basicas de bokeh y la herramienta de HoverTool.\n",
    "\n",
    "Se crea un archivo de salida en formato html\n",
    "\n",
    "Seguidamente se procede al metodo read_csv para cargar los datos a un DataFrame"
   ]
  },
  {
   "cell_type": "code",
   "execution_count": 4,
   "metadata": {},
   "outputs": [],
   "source": [
    "from bokeh.plotting import figure, output_file, show\n",
    "from bokeh.models import ColumnDataSource\n",
    "from bokeh.models.tools import HoverTool\n",
    "\n",
    "output_file('grafico_dispersion.html')\n",
    "\n",
    "df = pd.read_csv('Jugadores_primera_division_Espania.csv', engine='python', header=0, sep=';', decimal = '.')"
   ]
  },
  {
   "cell_type": "markdown",
   "metadata": {},
   "source": [
    "Para evitar una grafica sumamente confusa debido a la superposicion de datos, se procede a seleccionar 60 datos aleatoriamente para la grafica mediante el metodo sample, seguidamente al constructor ColumnDataSource almacenando la variable source"
   ]
  },
  {
   "cell_type": "code",
   "execution_count": 5,
   "metadata": {},
   "outputs": [],
   "source": [
    "sample = df.sample(60)\n",
    "source = ColumnDataSource(sample)"
   ]
  },
  {
   "cell_type": "markdown",
   "metadata": {},
   "source": [
    "Se crea un objeto llamado figura y se llama al metodo circle para trazar los datos, definiendo los argumentos que seran los valores de x e y"
   ]
  },
  {
   "cell_type": "code",
   "execution_count": 6,
   "metadata": {},
   "outputs": [
    {
     "data": {
      "text/html": [
       "<div style=\"display: table;\"><div style=\"display: table-row;\"><div style=\"display: table-cell;\"><b title=\"bokeh.models.renderers.GlyphRenderer\">GlyphRenderer</b>(</div><div style=\"display: table-cell;\">id&nbsp;=&nbsp;'1039', <span id=\"1042\" style=\"cursor: pointer;\">&hellip;)</span></div></div><div class=\"1041\" style=\"display: none;\"><div style=\"display: table-cell;\"></div><div style=\"display: table-cell;\">data_source&nbsp;=&nbsp;ColumnDataSource(id='1001', ...),</div></div><div class=\"1041\" style=\"display: none;\"><div style=\"display: table-cell;\"></div><div style=\"display: table-cell;\">glyph&nbsp;=&nbsp;Circle(id='1037', ...),</div></div><div class=\"1041\" style=\"display: none;\"><div style=\"display: table-cell;\"></div><div style=\"display: table-cell;\">hover_glyph&nbsp;=&nbsp;None,</div></div><div class=\"1041\" style=\"display: none;\"><div style=\"display: table-cell;\"></div><div style=\"display: table-cell;\">js_event_callbacks&nbsp;=&nbsp;{},</div></div><div class=\"1041\" style=\"display: none;\"><div style=\"display: table-cell;\"></div><div style=\"display: table-cell;\">js_property_callbacks&nbsp;=&nbsp;{},</div></div><div class=\"1041\" style=\"display: none;\"><div style=\"display: table-cell;\"></div><div style=\"display: table-cell;\">level&nbsp;=&nbsp;'glyph',</div></div><div class=\"1041\" style=\"display: none;\"><div style=\"display: table-cell;\"></div><div style=\"display: table-cell;\">muted&nbsp;=&nbsp;False,</div></div><div class=\"1041\" style=\"display: none;\"><div style=\"display: table-cell;\"></div><div style=\"display: table-cell;\">muted_glyph&nbsp;=&nbsp;None,</div></div><div class=\"1041\" style=\"display: none;\"><div style=\"display: table-cell;\"></div><div style=\"display: table-cell;\">name&nbsp;=&nbsp;None,</div></div><div class=\"1041\" style=\"display: none;\"><div style=\"display: table-cell;\"></div><div style=\"display: table-cell;\">nonselection_glyph&nbsp;=&nbsp;Circle(id='1038', ...),</div></div><div class=\"1041\" style=\"display: none;\"><div style=\"display: table-cell;\"></div><div style=\"display: table-cell;\">selection_glyph&nbsp;=&nbsp;None,</div></div><div class=\"1041\" style=\"display: none;\"><div style=\"display: table-cell;\"></div><div style=\"display: table-cell;\">subscribed_events&nbsp;=&nbsp;[],</div></div><div class=\"1041\" style=\"display: none;\"><div style=\"display: table-cell;\"></div><div style=\"display: table-cell;\">tags&nbsp;=&nbsp;[],</div></div><div class=\"1041\" style=\"display: none;\"><div style=\"display: table-cell;\"></div><div style=\"display: table-cell;\">view&nbsp;=&nbsp;CDSView(id='1040', ...),</div></div><div class=\"1041\" style=\"display: none;\"><div style=\"display: table-cell;\"></div><div style=\"display: table-cell;\">visible&nbsp;=&nbsp;True,</div></div><div class=\"1041\" style=\"display: none;\"><div style=\"display: table-cell;\"></div><div style=\"display: table-cell;\">x_range_name&nbsp;=&nbsp;'default',</div></div><div class=\"1041\" style=\"display: none;\"><div style=\"display: table-cell;\"></div><div style=\"display: table-cell;\">y_range_name&nbsp;=&nbsp;'default')</div></div></div>\n",
       "<script>\n",
       "(function() {\n",
       "  var expanded = false;\n",
       "  var ellipsis = document.getElementById(\"1042\");\n",
       "  ellipsis.addEventListener(\"click\", function() {\n",
       "    var rows = document.getElementsByClassName(\"1041\");\n",
       "    for (var i = 0; i < rows.length; i++) {\n",
       "      var el = rows[i];\n",
       "      el.style.display = expanded ? \"none\" : \"table-row\";\n",
       "    }\n",
       "    ellipsis.innerHTML = expanded ? \"&hellip;)\" : \"&lsaquo;&lsaquo;&lsaquo;\";\n",
       "    expanded = !expanded;\n",
       "  });\n",
       "})();\n",
       "</script>\n"
      ],
      "text/plain": [
       "GlyphRenderer(id='1039', ...)"
      ]
     },
     "execution_count": 6,
     "metadata": {},
     "output_type": "execute_result"
    }
   ],
   "source": [
    "p = figure() \n",
    "p.circle(x = 'Jugadores', y = 'Goles', source = source, size = 10, color = 'green')"
   ]
  },
  {
   "cell_type": "markdown",
   "metadata": {},
   "source": [
    "A continuacion se añade el titulo y se da nombre a los ejes"
   ]
  },
  {
   "cell_type": "code",
   "execution_count": 7,
   "metadata": {},
   "outputs": [],
   "source": [
    "p.title.text = 'Numero de Jugadores'\n",
    "p.xaxis.axis_label = 'Jugadores'\n",
    "p.yaxis.axis_label = 'Goles por pais'"
   ]
  },
  {
   "cell_type": "markdown",
   "metadata": {},
   "source": [
    "Se utiliza la herramienta de trazado HoverTool para visualizar datos específicos en cada punto de la gráfica "
   ]
  },
  {
   "cell_type": "code",
   "execution_count": 8,
   "metadata": {},
   "outputs": [],
   "source": [
    "hover = HoverTool()\n",
    "hover.tooltips =[('Goles', '@Goles'), ('Pais', '@Pais'), ('Jugadores del pais', '@Jugadores'), ('Tarjetas amarillas', '@Amarillas'), ('Tarjetas rojas', '@Rojas')]\n",
    "\n",
    "#metodo para añadir \n",
    "p.add_tools(hover)"
   ]
  },
  {
   "cell_type": "markdown",
   "metadata": {},
   "source": [
    "Finalmente se agrega el comando para presentar la gráfica e interactuar con ella"
   ]
  },
  {
   "cell_type": "code",
   "execution_count": 9,
   "metadata": {},
   "outputs": [],
   "source": [
    "show(p)"
   ]
  },
  {
   "cell_type": "markdown",
   "metadata": {},
   "source": [
    "## Gráfico de barras"
   ]
  },
  {
   "cell_type": "markdown",
   "metadata": {},
   "source": [
    "Se añaden unas importaciones adicionales como el ¨palettes¨ y el transform"
   ]
  },
  {
   "cell_type": "code",
   "execution_count": 10,
   "metadata": {},
   "outputs": [],
   "source": [
    "from bokeh.palettes import Inferno256 # paletas de colores para las graficas\n",
    "from bokeh.palettes import Blues3\n",
    "from bokeh.transform import factor_cmap # método auxiliar para la asignacion de colores a las barras "
   ]
  },
  {
   "cell_type": "markdown",
   "metadata": {},
   "source": [
    "Mediante el método groupby se realizará la agrupación de datos para la gráfica\n",
    "\n",
    "Luego de esto se emplea el metodo sum para que Pandas agrege las filas diferentes"
   ]
  },
  {
   "cell_type": "code",
   "execution_count": 11,
   "metadata": {},
   "outputs": [],
   "source": [
    "output_file('grafico_barras.html')\n",
    "\n",
    "grouped = df.groupby('Pais')['Arqueros', 'Defensa', 'Medio_Campo', 'Delanteros'].sum()"
   ]
  },
  {
   "cell_type": "markdown",
   "metadata": {},
   "source": [
    "Se crea el ColumnDataSource a partir de los paises agrupados\n",
    "\n",
    "Seguidamente se definen los paises en el eje x mediante el objeto source.data y el nombre de la columna.\n",
    "\n",
    "Luego se pasa la lista de paises al constructor figure como x_range. Como es una lista de datos de texto, el eje x es categórico. En el mismo constructor se define el ancho y alto de la gráfica"
   ]
  },
  {
   "cell_type": "code",
   "execution_count": 12,
   "metadata": {},
   "outputs": [],
   "source": [
    "source = ColumnDataSource(grouped)\n",
    "paises = source.data['Pais'].tolist()\n",
    "p = figure(x_range = paises, plot_width = 6000, plot_height = 1000)"
   ]
  },
  {
   "cell_type": "markdown",
   "metadata": {},
   "source": [
    "Para dar color a las barras se emplea la función factor_cmap, la cual hace coincidir un color con cada categoria, empleando la paleta de colores Inferno 256, seguidamente se envia el mapa de color como argumento al vbar.\n",
    "\n",
    "Seguidamente se dan nombre a los ejes y un titulo a la gráfica\n"
   ]
  },
  {
   "cell_type": "code",
   "execution_count": 13,
   "metadata": {},
   "outputs": [],
   "source": [
    "color_map = factor_cmap(field_name = 'Pais', palette = Inferno256, factors = paises)\n",
    "\n",
    "p.vbar(x = 'Pais', top = 'Arqueros', source = source, width = 0.50, color = color_map)\n",
    "\n",
    "p.title.text = 'Jugadores en la primera division de España clasificados por Pais'\n",
    "p.xaxis.axis_label = 'Pais'\n",
    "p.yaxis.axis_label = 'Jugadores'"
   ]
  },
  {
   "cell_type": "markdown",
   "metadata": {},
   "source": [
    "Se inserta el metodo HoverTool para visualizar datos especificos en cada barra\n",
    "\n",
    "con el vline cada vez que el cursor pase por una barra imaginaria se mostrará una ventana emergente.\n",
    "\n",
    "Posteriormente se presenta la gráfica"
   ]
  },
  {
   "cell_type": "code",
   "execution_count": 14,
   "metadata": {},
   "outputs": [],
   "source": [
    "hover = HoverTool()\n",
    "hover.tooltips = [('Arqueros', '@Arqueros'), ('Defensas', '@Defensa'), ('Medio Campo', '@Medio_Campo'), ('Delanteros', '@Delanteros')]\n",
    "\n",
    "hover.mode = 'vline'\n",
    "\n",
    "p.add_tools(hover)\n",
    "\n",
    "show(p)"
   ]
  },
  {
   "cell_type": "markdown",
   "metadata": {},
   "source": [
    "## Gráfico de barras apiladas"
   ]
  },
  {
   "cell_type": "markdown",
   "metadata": {},
   "source": [
    "Se utilizan las mismas importaciones en el codigo anterior, haciendo enfasis en la paleta Blues3, la cual dispone de 3 colores para cada dato a graficar."
   ]
  },
  {
   "cell_type": "code",
   "execution_count": 15,
   "metadata": {},
   "outputs": [],
   "source": [
    "output_file('grafico_barras_apiladas.html')"
   ]
  },
  {
   "cell_type": "markdown",
   "metadata": {},
   "source": [
    "Se define el eje x con los datos categóricos que se van a graficar, especificando que solo debe tomar en cuenta datos de Argentina y Francia con el .isin\n",
    "\n",
    "El df es el encargado de verificar si \"Pais\" tiene un dato de Argentina o Francia. Si lo hace, el valor de la variable es True, caso contrario es False descartando la fila"
   ]
  },
  {
   "cell_type": "code",
   "execution_count": 16,
   "metadata": {},
   "outputs": [],
   "source": [
    "filter = df['Pais'].isin(('Argentina','Francia'))\n",
    "df = df[filter]"
   ]
  },
  {
   "cell_type": "markdown",
   "metadata": {},
   "source": [
    "Se agrupan los datos a graficarse y se agregan las 3 columnas que contienen los hitos a graficar, seguidamente los mismos pasos del programa anterior para establecer el eje x"
   ]
  },
  {
   "cell_type": "code",
   "execution_count": 17,
   "metadata": {},
   "outputs": [],
   "source": [
    "grouped = df.groupby('Pais')['Goles', 'Amarillas', 'Rojas'].sum()"
   ]
  },
  {
   "cell_type": "code",
   "execution_count": 18,
   "metadata": {},
   "outputs": [],
   "source": [
    "source = ColumnDataSource(grouped)\n",
    "paises = source.data['Pais'].tolist()\n",
    "p = figure(x_range = paises)"
   ]
  },
  {
   "cell_type": "markdown",
   "metadata": {},
   "source": [
    "Para crear la grafica se llama al metodo vbar_stack, el cual envia una lista de nombres en lugar de uno. EL legend proporciona el texto para cada apilador y el Blues3 el color de cada uno"
   ]
  },
  {
   "cell_type": "code",
   "execution_count": 19,
   "metadata": {},
   "outputs": [
    {
     "data": {
      "text/plain": [
       "[GlyphRenderer(id='1278', ...),\n",
       " GlyphRenderer(id='1292', ...),\n",
       " GlyphRenderer(id='1307', ...)]"
      ]
     },
     "execution_count": 19,
     "metadata": {},
     "output_type": "execute_result"
    }
   ],
   "source": [
    "p.vbar_stack(stackers = ['Goles', 'Amarillas', 'Rojas'], x = 'Pais', source = source,\n",
    "\tlegend = ['Goles', 'Tarjetas amarillas', 'Tarjetas Rojas'], width = 0.5, color = Blues3)"
   ]
  },
  {
   "cell_type": "markdown",
   "metadata": {},
   "source": [
    "Posteriormente se da nombre a los ejes y a la grafica "
   ]
  },
  {
   "cell_type": "code",
   "execution_count": 20,
   "metadata": {},
   "outputs": [],
   "source": [
    "p.title.text = 'Hitos por pais'\n",
    "p.legend.location = 'top_left'\n",
    "\n",
    "p.xaxis.axis_label = 'Pais'\n",
    "p.yaxis.axis_label = 'Hitos'\n",
    "p.xgrid.grid_line_color = None # para que no se vean las lineas verticales\n",
    "\n",
    "show(p)\n"
   ]
  },
  {
   "cell_type": "markdown",
   "metadata": {},
   "source": [
    "## Datos Espaciales"
   ]
  },
  {
   "cell_type": "code",
   "execution_count": 21,
   "metadata": {},
   "outputs": [],
   "source": [
    "from bokeh.layouts import layout\n",
    "from bokeh.tile_providers import CARTODBPOSITRON\n",
    "from pyproj import Proj, transform\n",
    "from bokeh.models import Range1d\n",
    "\n",
    "output_file('mapping_targets.html')"
   ]
  },
  {
   "cell_type": "markdown",
   "metadata": {},
   "source": [
    "Se define la funcion de conversion"
   ]
  },
  {
   "cell_type": "code",
   "execution_count": 22,
   "metadata": {},
   "outputs": [],
   "source": [
    "def LongLat_to_EN(long, lat):\n",
    "    try:\n",
    "        easting, northing = transform(\n",
    "            Proj(init = 'epsg:4326'), Proj(init = 'epsg:3857'), long, lat)\n",
    "        return easting, northing\n",
    "    except:\n",
    "        return None, None\n",
    "df = pd.read_csv('Jugadores_primera_division_Espania.csv', engine='python', header=0, sep=';', decimal = '.')\n",
    "\n",
    "df['E'], df['N'] = zip(*df.apply(lambda x: LongLat_to_EN(x['Longitud'], x['Latitud']), axis=1))"
   ]
  },
  {
   "cell_type": "code",
   "execution_count": 23,
   "metadata": {},
   "outputs": [],
   "source": [
    "grouped = df.groupby(['E', 'N'])['Jugadores', 'Porcentaje'].sum().reset_index()\n",
    "\n",
    "filter = grouped['Porcentaje']!=0\n",
    "grouped = grouped[filter]\n",
    "\n",
    "source = ColumnDataSource(grouped)"
   ]
  },
  {
   "cell_type": "code",
   "execution_count": 24,
   "metadata": {},
   "outputs": [],
   "source": [
    "left = -2150000\n",
    "right = 18000000\n",
    "bottom = -5300000\n",
    "top = 11000000\n",
    "\n",
    "p = figure(x_range=Range1d(left, right), y_range=Range1d(bottom, top))"
   ]
  },
  {
   "cell_type": "code",
   "execution_count": 25,
   "metadata": {},
   "outputs": [],
   "source": [
    "p.add_tile(CARTODBPOSITRON)\n",
    "p.circle(x = 'E', y = 'N', source = source, line_color = 'grey', fill_color = 'red')\n",
    "\n",
    "p.axis.visible = False\n",
    "\n",
    "hover = HoverTool()\n",
    "hover.tooltips = [('Jugadores', '@Jugadores'), ('Porcentaje', '@Porcentaje')]\n",
    "\n",
    "p.add_tools(hover)\n",
    "\n",
    "show(p)"
   ]
  },
  {
   "cell_type": "markdown",
   "metadata": {},
   "source": [
    "## Grafica de lineas"
   ]
  },
  {
   "cell_type": "markdown",
   "metadata": {},
   "source": [
    "Se ha tomado los datos del Ecu911 a nivel nacional en cuanto a respuesta a incidencias"
   ]
  },
  {
   "cell_type": "code",
   "execution_count": 26,
   "metadata": {},
   "outputs": [
    {
     "name": "stdout",
     "output_type": "stream",
     "text": [
      "          CENTRO  ANIO         MES  INCIDENTE_POLICIAL INCIDENTE_TRANSITO  \\\n",
      "0    SAMBORONDÓN  2012     FEBRERO              17.684              2.602   \n",
      "1    SAMBORONDÓN  2012       MARZO              21.836              2.945   \n",
      "2    SAMBORONDÓN  2012       ABRIL              20.856              3.161   \n",
      "3    SAMBORONDÓN  2012        MAYO              24.164              3.736   \n",
      "4    SAMBORONDÓN  2012       JUNIO              23.639              3.819   \n",
      "5    SAMBORONDÓN  2012       JULIO              25.994              4.800   \n",
      "6    SAMBORONDÓN  2012      AGOSTO              23.662              3.128   \n",
      "7    SAMBORONDÓN  2012  SEPTIEMBRE              21.233              3.399   \n",
      "8    SAMBORONDÓN  2012     OCTUBRE              19.950              3.754   \n",
      "9    SAMBORONDÓN  2012   NOVIEMBRE              20.685              3.410   \n",
      "10   SAMBORONDÓN  2012   DICIEMBRE              25.570              4.604   \n",
      "11   SAMBORONDÓN  2013       ENERO              37.598              3.234   \n",
      "12   SAMBORONDÓN  2013     FEBRERO              37.623              3.660   \n",
      "13   SAMBORONDÓN  2013       MARZO              42.649              3.840   \n",
      "14   SAMBORONDÓN  2013       ABRIL              40.124              3.552   \n",
      "15   SAMBORONDÓN  2013        MAYO              40.168              3.834   \n",
      "16   SAMBORONDÓN  2013       JUNIO              40.253              3.748   \n",
      "17   SAMBORONDÓN  2013       JULIO              36.345              3.667   \n",
      "18   SAMBORONDÓN  2013      AGOSTO              34.370              3.628   \n",
      "19   SAMBORONDÓN  2013  SEPTIEMBRE              37.540              3.749   \n",
      "20   SAMBORONDÓN  2013     OCTUBRE              35.998              3.789   \n",
      "21   SAMBORONDÓN  2013   NOVIEMBRE              37.178              3.619   \n",
      "22   SAMBORONDÓN  2013   DICIEMBRE              45.080              4.628   \n",
      "23   SAMBORONDÓN  2014       ENERO              42.914              3.790   \n",
      "24   SAMBORONDÓN  2014     FEBRERO              41.736              3.505   \n",
      "25   SAMBORONDÓN  2014       MARZO              50.254              3.828   \n",
      "26   SAMBORONDÓN  2014       ABRIL              44.752              3.424   \n",
      "27   SAMBORONDÓN  2014        MAYO              43.184              3.730   \n",
      "28   SAMBORONDÓN  2014       JUNIO              41.602              3.097   \n",
      "29   SAMBORONDÓN  2014       JULIO              42.966              3.732   \n",
      "..           ...   ...         ...                 ...                ...   \n",
      "292        MACAS  2014      AGOSTO               1.606                175   \n",
      "293        MACAS  2014  SEPTIEMBRE               1.455                151   \n",
      "294        MACAS  2014     OCTUBRE               1.292                169   \n",
      "295        MACAS  2014   NOVIEMBRE               1.471                134   \n",
      "296        MACAS  2014   DICIEMBRE               1.776                187   \n",
      "297        MACAS  2015       ENERO               1.602                212   \n",
      "298        MACAS  2015     FEBRERO               1.430                246   \n",
      "299        MACAS  2015       MARZO               1.519                266   \n",
      "300        MACAS  2015       ABRIL               1.494                326   \n",
      "301        MACAS  2015        MAYO               1.694                329   \n",
      "302        MACAS  2015       JUNIO               1.491                287   \n",
      "303   NUEVA LOJA  2014  SEPTIEMBRE               2.019                  -   \n",
      "304   NUEVA LOJA  2014     OCTUBRE               2.065                  9   \n",
      "305   NUEVA LOJA  2014   DICIEMBRE               2.104                165   \n",
      "306   NUEVA LOJA  2015       ENERO               1.855                112   \n",
      "307   NUEVA LOJA  2015     FEBRERO               1.905                115   \n",
      "308   NUEVA LOJA  2015       MARZO               2.085                129   \n",
      "309   NUEVA LOJA  2015       ABRIL               2.161                492   \n",
      "310   NUEVA LOJA  2015        MAYO               2.175                266   \n",
      "311   NUEVA LOJA  2015       JUNIO               1.950                243   \n",
      "312       TULCÁN  2014  SEPTIEMBRE               1.174                142   \n",
      "313       TULCÁN  2014     OCTUBRE             988.000                120   \n",
      "314       TULCÁN  2014   NOVIEMBRE               2.324                200   \n",
      "315       TULCÁN  2014   DICIEMBRE               2.455                237   \n",
      "316       TULCÁN  2015       ENERO               2.142                232   \n",
      "317       TULCÁN  2015     FEBRERO               1.886                245   \n",
      "318       TULCÁN  2015       MARZO               2.196                265   \n",
      "319       TULCÁN  2015       ABRIL               2.355                254   \n",
      "320       TULCÁN  2015        MAYO               2.447                221   \n",
      "321       TULCÁN  2015       JUNIO               1.722                230   \n",
      "\n",
      "     INCIDENTE_SALUD INCIDENTE_SERVICIOS_MUNICIPALES  INCIDENTE_BOMBEROS  \\\n",
      "0              2.762                           3.439             690.000   \n",
      "1              3.568                           3.171             700.000   \n",
      "2              3.114                           2.541             730.000   \n",
      "3              2.836                           2.213             610.000   \n",
      "4              2.598                           1.148             611.000   \n",
      "5              2.648                           1.379             921.000   \n",
      "6              2.313                             767               1.075   \n",
      "7              1.993                             562               1.188   \n",
      "8              2.421                             701               1.340   \n",
      "9              2.289                             803               1.465   \n",
      "10             3.100                           2.066               1.518   \n",
      "11             2.302                           2.285             644.000   \n",
      "12             2.674                           2.201             489.000   \n",
      "13             3.653                           4.144             619.000   \n",
      "14             3.637                           2.673             661.000   \n",
      "15             3.928                           1.669             824.000   \n",
      "16             3.850                           1.089             764.000   \n",
      "17             4.364                             983             941.000   \n",
      "18             5.165                           1.114               1.357   \n",
      "19             5.235                           1.437               1.469   \n",
      "20             5.256                           1.069               1.378   \n",
      "21             5.769                             688               1.300   \n",
      "22             5.870                             619               1.712   \n",
      "23             6.222                               0               1.007   \n",
      "24             6.161                               0             635.000   \n",
      "25             6.559                               0             835.000   \n",
      "26             6.170                               0             741.000   \n",
      "27             6.637                               0             789.000   \n",
      "28             6.560                               0             773.000   \n",
      "29             6.710                               0               1.080   \n",
      "..               ...                             ...                 ...   \n",
      "292          491.000                               2              57.000   \n",
      "293          519.000                               -              58.000   \n",
      "294          522.000                               4              33.000   \n",
      "295          590.000                              33              33.000   \n",
      "296          542.000                              11              35.000   \n",
      "297          726.000                               1              43.000   \n",
      "298          558.000                              40              54.000   \n",
      "299          733.000                              68              52.000   \n",
      "300          685.000                              66             111.000   \n",
      "301          681.000                              86              50.000   \n",
      "302          634.000                              40              71.000   \n",
      "303          361.000                              31              54.000   \n",
      "304          318.000                              47              26.000   \n",
      "305          450.000                              58              59.000   \n",
      "306          391.000                              36              29.000   \n",
      "307          380.000                              41              40.000   \n",
      "308          361.000                              35              35.000   \n",
      "309          492.000                              54              27.000   \n",
      "310          536.000                              52              37.000   \n",
      "311          535.000                              68              27.000   \n",
      "312          231.000                              56             201.000   \n",
      "313          207.000                              82             113.000   \n",
      "314          661.000                             167             151.000   \n",
      "315          702.000                             159             143.000   \n",
      "316          690.000                             104              97.000   \n",
      "317          636.000                             117             133.000   \n",
      "318          666.000                             156             162.000   \n",
      "319          656.000                             133             153.000   \n",
      "320          725.000                             117             175.000   \n",
      "321          715.000                               0             108.000   \n",
      "\n",
      "    INCIDENTE_GESTIÓN_DE_RIESGO INCIDENTE_MILITAR  \\\n",
      "0                           327                 3   \n",
      "1                           219                18   \n",
      "2                            34                53   \n",
      "3                            15                15   \n",
      "4                            10                12   \n",
      "5                             7                13   \n",
      "6                             1                25   \n",
      "7                             5                14   \n",
      "8                             3                 6   \n",
      "9                             2                 4   \n",
      "10                            7                 7   \n",
      "11                           12                16   \n",
      "12                           45                42   \n",
      "13                          480                46   \n",
      "14                           29                22   \n",
      "15                            6                24   \n",
      "16                            2                 6   \n",
      "17                            5                30   \n",
      "18                           14                22   \n",
      "19                           16                12   \n",
      "20                           13                14   \n",
      "21                            6                14   \n",
      "22                           10                16   \n",
      "23                          114                26   \n",
      "24                           51                22   \n",
      "25                           61                47   \n",
      "26                           25                37   \n",
      "27                          255                17   \n",
      "28                            9                16   \n",
      "29                           27                37   \n",
      "..                          ...               ...   \n",
      "292                           2                60   \n",
      "293                           4                45   \n",
      "294                           0                39   \n",
      "295                           -                18   \n",
      "296                           0                21   \n",
      "297                           0                33   \n",
      "298                           1                25   \n",
      "299                           0                55   \n",
      "300                           0                19   \n",
      "301                           0                38   \n",
      "302                           -                51   \n",
      "303                           4                81   \n",
      "304                           3               243   \n",
      "305                           3               450   \n",
      "306                           3               290   \n",
      "307                           5               301   \n",
      "308                           5               370   \n",
      "309                           6               333   \n",
      "310                           1               365   \n",
      "311                           8               470   \n",
      "312                           -                30   \n",
      "313                           -                 9   \n",
      "314                           2                58   \n",
      "315                           6                59   \n",
      "316                           -               106   \n",
      "317                           1                58   \n",
      "318                           1                99   \n",
      "319                           7                53   \n",
      "320                           1                62   \n",
      "321                           0                 0   \n",
      "\n",
      "     TOTAL_DE_INCIDENTES_RECEPTADOS  \n",
      "0                            27.507  \n",
      "1                            32.457  \n",
      "2                            30.489  \n",
      "3                            33.589  \n",
      "4                            31.837  \n",
      "5                            35.762  \n",
      "6                            30.971  \n",
      "7                            28.394  \n",
      "8                            28.175  \n",
      "9                            28.658  \n",
      "10                           36.872  \n",
      "11                           46.091  \n",
      "12                           46.734  \n",
      "13                           55.431  \n",
      "14                           50.698  \n",
      "15                           50.453  \n",
      "16                           49.712  \n",
      "17                           46.335  \n",
      "18                           45.670  \n",
      "19                           49.458  \n",
      "20                           47.517  \n",
      "21                           48.574  \n",
      "22                           57.935  \n",
      "23                           54.073  \n",
      "24                           52.110  \n",
      "25                           61.584  \n",
      "26                           55.149  \n",
      "27                           54.612  \n",
      "28                           52.057  \n",
      "29                           54.552  \n",
      "..                              ...  \n",
      "292                           2.393  \n",
      "293                           2.232  \n",
      "294                           2.059  \n",
      "295                           2.279  \n",
      "296                           2.572  \n",
      "297                           2.617  \n",
      "298                           2.354  \n",
      "299                           2.693  \n",
      "300                           2.701  \n",
      "301                           2.878  \n",
      "302                           2.574  \n",
      "303                           2.550  \n",
      "304                           2.711  \n",
      "305                           3.289  \n",
      "306                           2.716  \n",
      "307                           2.787  \n",
      "308                           3.020  \n",
      "309                           3.565  \n",
      "310                           3.432  \n",
      "311                           3.301  \n",
      "312                           1.834  \n",
      "313                           1.519  \n",
      "314                           3.563  \n",
      "315                           3.761  \n",
      "316                           3.371  \n",
      "317                           3.076  \n",
      "318                           3.545  \n",
      "319                           3.611  \n",
      "320                           3.748  \n",
      "321                           2.775  \n",
      "\n",
      "[322 rows x 11 columns]\n"
     ]
    }
   ],
   "source": [
    "from bokeh.palettes import Plasma11\n",
    "from bokeh.layouts import gridplot\n",
    "\n",
    "output_file('lineas_de_dispersion.html')\n",
    "\n",
    "dff = pd.read_csv('estadisticas911.csv', sep = ',', decimal = '.')\n",
    "df = dff.fillna(value = 0) # los espacios en blanco los convierte en 0\n",
    "print(df)"
   ]
  },
  {
   "cell_type": "markdown",
   "metadata": {},
   "source": [
    "Se implementa el to_datetime para asegurar de que la columna ANIO sera leida como tiempo. Se envia datetime al constructor de figuras como dato del eje x como tiempo.\n",
    "\n",
    "Seguidamente se envian al constructor los datos que seran graficados y especificando un color"
   ]
  },
  {
   "cell_type": "code",
   "execution_count": 27,
   "metadata": {},
   "outputs": [],
   "source": [
    "df['ANIO'] = pd.to_datetime(df['ANIO'], format='%Y')\n",
    "\n",
    "grouped = df.groupby('ANIO')['INCIDENTE_POLICIAL', 'INCIDENTE_TRANSITO', 'INCIDENTE_SALUD', 'INCIDENTE_SERVICIOS_MUNICIPALES', 'INCIDENTE_BOMBEROS', 'INCIDENTE_GESTIÓN_DE_RIESGO', 'INCIDENTE_MILITAR'].sum()\n",
    "\n",
    "source = ColumnDataSource(grouped)\n",
    "\n",
    "p = figure(x_axis_type = 'datetime',\n",
    "\tplot_height = 500,\n",
    "\tplot_width = 900)\n",
    "\n",
    "p.line(x = 'ANIO', y = 'INCIDENTE_POLICIAL', line_width = 2, source = source, legend = 'Incidentes policiacos')\n",
    "p.line(x = 'ANIO', y = 'INCIDENTE_SALUD', line_width = 2, source = source, color = Plasma11[1],  legend = 'Incidentes de salud')\n",
    "p.line(x = 'ANIO', y = 'INCIDENTE_BOMBEROS', line_width = 2, source = source, color = Plasma11[5],  legend = 'Incidentes de bomberos')\n",
    "\n",
    "p.yaxis.axis_label = 'Incidencia'\n",
    "\n",
    "show(p)"
   ]
  },
  {
   "cell_type": "markdown",
   "metadata": {},
   "source": [
    "La grafica nos demuestra los aumentos y disminuciones de incidencias en bomberos, policia y servicios de salud en el intervalo 2012, 2015"
   ]
  }
 ],
 "metadata": {
  "kernelspec": {
   "display_name": "Python 3",
   "language": "python",
   "name": "python3"
  },
  "language_info": {
   "codemirror_mode": {
    "name": "ipython",
    "version": 3
   },
   "file_extension": ".py",
   "mimetype": "text/x-python",
   "name": "python",
   "nbconvert_exporter": "python",
   "pygments_lexer": "ipython3",
   "version": "3.7.1"
  }
 },
 "nbformat": 4,
 "nbformat_minor": 2
}
