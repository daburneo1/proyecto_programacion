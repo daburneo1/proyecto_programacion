{
 "cells": [
  {
   "cell_type": "markdown",
   "metadata": {},
   "source": [
    "# PROYECTO - SEGUNDO BIMESTRE - PROGRAMACION DE ALGORITMOS"
   ]
  },
  {
   "cell_type": "markdown",
   "metadata": {},
   "source": [
    "#### PROGRAMA ELABORADO EN PYTHON PARA TABULACION Y VISUALIZACION DE DATOS UTILIZANDO LAS LIBRERIAS DE PANDAS Y BOKEH"
   ]
  },
  {
   "cell_type": "markdown",
   "metadata": {},
   "source": [
    "# Nombre: David Burneo"
   ]
  },
  {
   "cell_type": "markdown",
   "metadata": {},
   "source": [
    "#### SET DE DATOS\n",
    "Los datos que se trabajaran son los datos basicos de jugadores pertenecientes a la primera división de futbol de España"
   ]
  },
  {
   "cell_type": "markdown",
   "metadata": {},
   "source": [
    "Para proceder a la lectura de datos se procede a importar la libreria pandas"
   ]
  },
  {
   "cell_type": "code",
   "execution_count": 1,
   "metadata": {},
   "outputs": [],
   "source": [
    "import pandas as pd"
   ]
  },
  {
   "cell_type": "markdown",
   "metadata": {},
   "source": [
    "Los datos estan ingresados en un archivo .csv, por lo cual se utilizará el comando read_csv haciendo referencia a pandas"
   ]
  },
  {
   "cell_type": "code",
   "execution_count": 2,
   "metadata": {},
   "outputs": [
    {
     "name": "stdout",
     "output_type": "stream",
     "text": [
      "                      Pais  Jugadores  Porcentaje  Arqueros  Defensa  \\\n",
      "0                   España       7931       73.49      1012     2424   \n",
      "1                Argentina        554        5.13        40      140   \n",
      "2                   Brasil        299        2.77         9       79   \n",
      "3                  Francia        215        1.99        14       74   \n",
      "4                  Uruguay        196        1.82        14       54   \n",
      "5                 Portugal        126        1.17         8       41   \n",
      "6                 Paraguay        122        1.13         6       28   \n",
      "7                   Serbia         93        0.86         8       28   \n",
      "8             Paises Bajos         68        0.63         5       17   \n",
      "9                   Italia         66        0.61         7       22   \n",
      "10                 Croacia         53        0.49         5       12   \n",
      "11                Colombia         53        0.49         4       13   \n",
      "12                Alemania         48        0.44         7       14   \n",
      "13                   Chile         47        0.44         2       11   \n",
      "14                 Rumania         45        0.42         4       13   \n",
      "15                  Mexico         40        0.37         1        8   \n",
      "16               Marruecos         39        0.36         3        8   \n",
      "17               Dinamarca         37        0.34         1        7   \n",
      "18                 Nigeria         36        0.33         3        5   \n",
      "19             Reino Unido         33        0.31         0        7   \n",
      "20                 Hungria         32        0.30         5        2   \n",
      "21                 Camerun         30        0.28         3        8   \n",
      "22                    Peru         27        0.25         0        8   \n",
      "23                  Bosnia         27        0.25         0        6   \n",
      "24                 Belgica         27        0.25         7        3   \n",
      "25         Costa de Marfil         26        0.24         0        4   \n",
      "26                   Ghana         24        0.22         0        1   \n",
      "27                   Rusia         24        0.22         2        3   \n",
      "28               Venezuela         23        0.21         1        6   \n",
      "29                  Suecia         22        0.20         2        4   \n",
      "..                     ...        ...         ...       ...      ...   \n",
      "76                   Gabon          3        0.03         0        1   \n",
      "77                 Albania          3        0.03         0        0   \n",
      "78                 Georgia          2        0.02         0        0   \n",
      "79                    Togo          2        0.02         0        1   \n",
      "80                  Gambia          2        0.02         0        0   \n",
      "81                   Kenia          2        0.02         0        0   \n",
      "82                 Andorra          2        0.02         0        0   \n",
      "83                 Letonia          2        0.02         0        1   \n",
      "84       Sahara Occidental          2        0.02         0        0   \n",
      "85                    Iran          2        0.02         0        0   \n",
      "86     Republica del Congo          2        0.02         0        0   \n",
      "87             El Salvador          2        0.02         0        1   \n",
      "88            Burkina Faso          2        0.02         0        1   \n",
      "89                 Liberia          1        0.01         0        0   \n",
      "90               Nicaragua          1        0.01         0        1   \n",
      "91                   Qatar          1        0.01         0        0   \n",
      "92               Tailandia          1        0.01         0        0   \n",
      "93                  Uganda          1        0.01         0        0   \n",
      "94             Puerto Rico          1        0.01         0        0   \n",
      "95    Republica Dominicana          1        0.01         0        1   \n",
      "96                Moldavia          1        0.01         0        0   \n",
      "97              Madagascar          1        0.01         0        0   \n",
      "98                  Egipto          1        0.01         0        0   \n",
      "99   Santo Tome y Principe          1        0.01         1        0   \n",
      "100                Estonia          1        0.01         0        0   \n",
      "101             Tayikistan          1        0.01         0        0   \n",
      "102                Burundi          1        0.01         0        0   \n",
      "103             Azerbaiyan          1        0.01         0        0   \n",
      "104                  China          1        0.01         0        0   \n",
      "105                  Tunez          1        0.01         0        1   \n",
      "\n",
      "     Medio_Campo  Delanteros  Goles  Goles/Jugador  Amarillas  \\\n",
      "0           2365        2129  47971           6.05      46976   \n",
      "1            172         202   4987           9.00       5454   \n",
      "2             96         115   2954           9.88       3025   \n",
      "3             81          46   1305           6.07       1730   \n",
      "4             53          75   1641           8.37       1714   \n",
      "5             49          28    822           6.52       1310   \n",
      "6             27          61   1204           9.87        465   \n",
      "7             33          24    441           4.74        740   \n",
      "8             23          23    655           9.63        536   \n",
      "9             18          19    203           3.08        526   \n",
      "10            20          16    422           7.96        538   \n",
      "11            13          23    222           4.19        412   \n",
      "12            17          10    315           6.56        378   \n",
      "13            15          19    322           6.85        315   \n",
      "14            11          17    302           6.71        430   \n",
      "15            16          15    465          11.62        302   \n",
      "16            12          16    337           8.64        261   \n",
      "17            13          16    230           6.22        255   \n",
      "18             8          20    242           6.72        175   \n",
      "19            13          13    269           8.15        164   \n",
      "20            10          15    451          14.09         55   \n",
      "21            11           8    243           8.10        244   \n",
      "22            11           8    125           4.63        105   \n",
      "23             7          14    359          13.30        273   \n",
      "24            10           7     46           1.70         96   \n",
      "25            12          10     55           2.12        164   \n",
      "26            14           9     53           2.21        140   \n",
      "27             9          10    262          10.92        246   \n",
      "28             5          11    157           6.83        224   \n",
      "29             8           8    126           5.73        101   \n",
      "..           ...         ...    ...            ...        ...   \n",
      "76             1           1      0           0.00          2   \n",
      "77             2           1      0           0.00          1   \n",
      "78             0           2      1           0.50          1   \n",
      "79             0           1      6           3.00         17   \n",
      "80             1           1      9           4.50          7   \n",
      "81             1           1      3           1.50          1   \n",
      "82             1           1      0           0.00          0   \n",
      "83             0           1      1           0.50          9   \n",
      "84             2           0      2           1.00          9   \n",
      "85             1           1     32          16.00         52   \n",
      "86             2           0      0           0.00          1   \n",
      "87             0           1     43          21.50         10   \n",
      "88             0           1      3           1.50          6   \n",
      "89             1           0      0           0.00          1   \n",
      "90             0           0      1           1.00         10   \n",
      "91             0           1      0           0.00          2   \n",
      "92             0           1      0           0.00          0   \n",
      "93             1           0     10          10.00          3   \n",
      "94             1           0      3           3.00          0   \n",
      "95             0           0      5           5.00          8   \n",
      "96             1           0      2           2.00          0   \n",
      "97             1           0      0           0.00          0   \n",
      "98             0           1      4           4.00          3   \n",
      "99             0           0      0           0.00          2   \n",
      "100            1           0     68          68.00         85   \n",
      "101            1           0      0           0.00          0   \n",
      "102            0           1     24          24.00         11   \n",
      "103            0           1      4           4.00          1   \n",
      "104            0           1      0           0.00          0   \n",
      "105            0           0      0           0.00          8   \n",
      "\n",
      "     Amarillas/Jugador  Rojas  Rojas/Jugador   Longitud  Latitud  \n",
      "0                 5.92   3592            0.45     -4.00    40.00  \n",
      "1                 9.84    427            0.77    -64.00   -34.00  \n",
      "2                10.12    231            0.77    -55.00   -10.00  \n",
      "3                 8.05    137            0.64      2.00    46.00  \n",
      "4                 8.74    122            0.62    -56.00   -34.50  \n",
      "5                10.40    105            0.83     -8.00    39.30  \n",
      "6                 3.81     60            0.49    -58.00   -23.00  \n",
      "7                 7.96     49            0.53     21.00    44.00  \n",
      "8                 7.88     48            0.71      5.45    52.30  \n",
      "9                 7.97     58            0.88     12.49    42.49  \n",
      "10               10.15     30            0.57     15.30    45.10  \n",
      "11                7.77     22            0.42    -72.00     4.00  \n",
      "12                7.88     27            0.56      9.00    51.00  \n",
      "13                6.70     27            0.57    -70.38   -33.28  \n",
      "14                9.56     35            0.78     25.00    46.00  \n",
      "15                7.55     29            0.73    -99.08    19.25  \n",
      "16                6.69     37            0.95     -5.00    32.00  \n",
      "17                6.89     14            0.38     10.00    56.00  \n",
      "18                4.86     14            0.39      8.00    10.00  \n",
      "19                4.97      9           -2.00     54.00      NaN  \n",
      "20                1.72     12            0.38     20.00    47.00  \n",
      "21                8.13     17            0.57     12.00     6.00  \n",
      "22                3.89     11            0.41    -77.10   -12.20  \n",
      "23               10.11     17            0.63     18.00    44.00  \n",
      "24                3.56      6            0.22      4.00    50.49  \n",
      "25                6.31     13            0.50     -5.00     8.00  \n",
      "26                5.83      6            0.25     -2.00     8.00  \n",
      "27               10.25     21            0.88    100.00    60.00  \n",
      "28                9.74     15            0.65    -66.00     8.00  \n",
      "29                4.59      9            0.41     15.00    62.00  \n",
      "..                 ...    ...             ...       ...      ...  \n",
      "76                0.67      0            0.00     11.45    -1.00  \n",
      "77                0.33      0            0.00     19.49    41.19  \n",
      "78                0.50      0            0.00     43.30    42.00  \n",
      "79                8.50      1            0.50      1.10     8.00  \n",
      "80                3.50      1            0.50    -16.34    13.28  \n",
      "81                0.50      0            0.00     38.00     1.00  \n",
      "82                0.00      0            0.00      1.36    42.30  \n",
      "83                4.50      0            0.00     25.00    57.00  \n",
      "84                4.50      0            0.00    -12.07    25.00  \n",
      "85               26.00      3            1.50     53.00    32.00  \n",
      "86                0.50      0            0.00     15.00    -1.00  \n",
      "87                5.00      0            0.00    -88.55    13.49  \n",
      "88                3.00      1            0.50     -2.00    13.00  \n",
      "89                1.00      0            0.00     -9.30     6.30  \n",
      "90               10.00      0            0.00     85.00    13.00  \n",
      "91                2.00      0            0.00     51.15    25.30  \n",
      "92                0.00      0            0.00    100.00    15.00  \n",
      "93                3.00      0            0.00     32.17     1.22  \n",
      "94                0.00      0            0.00    -66.35    18.13  \n",
      "95                8.00      0            0.00    -70.40    19.00  \n",
      "96                0.00      0            0.00     29.00    47.00  \n",
      "97                0.00      0            0.00     47.00   -20.00  \n",
      "98                3.00      1            1.00     30.00    27.00  \n",
      "99                2.00      1            1.00      6.36     0.11  \n",
      "100              85.00      6            6.00     26.00    59.00  \n",
      "101               0.00      0            0.00     71.00    39.00  \n",
      "102              11.00      1            1.00     30.00    -3.30  \n",
      "103               1.00      1            1.00     47.30    40.30  \n",
      "104               0.00      0            0.00    105.00    35.00  \n",
      "105               8.00      0            0.00      9.00    34.00  \n",
      "\n",
      "[106 rows x 15 columns]\n"
     ]
    }
   ],
   "source": [
    "df = pd.read_csv('Jugadores_primera_division_Espania.csv', engine = 'python', header = 0, sep = ';', decimal = \".\")\n",
    "\n",
    "print(df)"
   ]
  },
  {
   "cell_type": "markdown",
   "metadata": {},
   "source": [
    "El comando read_csv crea un DataFrame que contiene las filas y columnas proporcionadas por pandas. \n",
    "\n",
    "Al ejecutar el comando print(df) se genera una representación de los datos cargados"
   ]
  },
  {
   "cell_type": "markdown",
   "metadata": {},
   "source": [
    "Esto muestra que se tienen 106 registros de futbolistas, con 13 columnas por registro.\n",
    "\n",
    "Para visualizar los nombres de las columnas se puede utilizar el comando df.columns.tolist()"
   ]
  },
  {
   "cell_type": "code",
   "execution_count": 3,
   "metadata": {},
   "outputs": [
    {
     "data": {
      "text/plain": [
       "['Pais',\n",
       " 'Jugadores',\n",
       " 'Porcentaje',\n",
       " 'Arqueros',\n",
       " 'Defensa',\n",
       " 'Medio_Campo',\n",
       " 'Delanteros',\n",
       " 'Goles',\n",
       " 'Goles/Jugador',\n",
       " 'Amarillas',\n",
       " 'Amarillas/Jugador',\n",
       " 'Rojas',\n",
       " 'Rojas/Jugador ',\n",
       " 'Longitud',\n",
       " 'Latitud']"
      ]
     },
     "execution_count": 3,
     "metadata": {},
     "output_type": "execute_result"
    }
   ],
   "source": [
    "df.columns.tolist()"
   ]
  },
  {
   "cell_type": "markdown",
   "metadata": {},
   "source": [
    "## Gráficas utilizando Bokeh"
   ]
  },
  {
   "cell_type": "markdown",
   "metadata": {},
   "source": [
    "Para visualizar los datos tabulados por pandas de una manera gráfica integrando Pandas Data Frame con visualizaciones de Bokeh."
   ]
  },
  {
   "cell_type": "markdown",
   "metadata": {},
   "source": [
    "# Gráfica de Dispersión"
   ]
  },
  {
   "cell_type": "markdown",
   "metadata": {},
   "source": [
    "A mas de la importacion de Pandas se procede a importar el objeto \"figure\", las funciones basicas de bokeh y la herramienta de HoverTool.\n",
    "\n",
    "Se crea un archivo de salida en formato html\n",
    "\n",
    "Seguidamente se procede al metodo read_csv para cargar los datos a un DataFrame"
   ]
  },
  {
   "cell_type": "code",
   "execution_count": 4,
   "metadata": {},
   "outputs": [
    {
     "data": {
      "text/html": [
       "\n",
       "    <div class=\"bk-root\">\n",
       "        <a href=\"https://bokeh.pydata.org\" target=\"_blank\" class=\"bk-logo bk-logo-small bk-logo-notebook\"></a>\n",
       "        <span id=\"1001\">Loading BokehJS ...</span>\n",
       "    </div>"
      ]
     },
     "metadata": {},
     "output_type": "display_data"
    },
    {
     "data": {
      "application/javascript": [
       "\n",
       "(function(root) {\n",
       "  function now() {\n",
       "    return new Date();\n",
       "  }\n",
       "\n",
       "  var force = true;\n",
       "\n",
       "  if (typeof (root._bokeh_onload_callbacks) === \"undefined\" || force === true) {\n",
       "    root._bokeh_onload_callbacks = [];\n",
       "    root._bokeh_is_loading = undefined;\n",
       "  }\n",
       "\n",
       "  var JS_MIME_TYPE = 'application/javascript';\n",
       "  var HTML_MIME_TYPE = 'text/html';\n",
       "  var EXEC_MIME_TYPE = 'application/vnd.bokehjs_exec.v0+json';\n",
       "  var CLASS_NAME = 'output_bokeh rendered_html';\n",
       "\n",
       "  /**\n",
       "   * Render data to the DOM node\n",
       "   */\n",
       "  function render(props, node) {\n",
       "    var script = document.createElement(\"script\");\n",
       "    node.appendChild(script);\n",
       "  }\n",
       "\n",
       "  /**\n",
       "   * Handle when an output is cleared or removed\n",
       "   */\n",
       "  function handleClearOutput(event, handle) {\n",
       "    var cell = handle.cell;\n",
       "\n",
       "    var id = cell.output_area._bokeh_element_id;\n",
       "    var server_id = cell.output_area._bokeh_server_id;\n",
       "    // Clean up Bokeh references\n",
       "    if (id != null && id in Bokeh.index) {\n",
       "      Bokeh.index[id].model.document.clear();\n",
       "      delete Bokeh.index[id];\n",
       "    }\n",
       "\n",
       "    if (server_id !== undefined) {\n",
       "      // Clean up Bokeh references\n",
       "      var cmd = \"from bokeh.io.state import curstate; print(curstate().uuid_to_server['\" + server_id + \"'].get_sessions()[0].document.roots[0]._id)\";\n",
       "      cell.notebook.kernel.execute(cmd, {\n",
       "        iopub: {\n",
       "          output: function(msg) {\n",
       "            var id = msg.content.text.trim();\n",
       "            if (id in Bokeh.index) {\n",
       "              Bokeh.index[id].model.document.clear();\n",
       "              delete Bokeh.index[id];\n",
       "            }\n",
       "          }\n",
       "        }\n",
       "      });\n",
       "      // Destroy server and session\n",
       "      var cmd = \"import bokeh.io.notebook as ion; ion.destroy_server('\" + server_id + \"')\";\n",
       "      cell.notebook.kernel.execute(cmd);\n",
       "    }\n",
       "  }\n",
       "\n",
       "  /**\n",
       "   * Handle when a new output is added\n",
       "   */\n",
       "  function handleAddOutput(event, handle) {\n",
       "    var output_area = handle.output_area;\n",
       "    var output = handle.output;\n",
       "\n",
       "    // limit handleAddOutput to display_data with EXEC_MIME_TYPE content only\n",
       "    if ((output.output_type != \"display_data\") || (!output.data.hasOwnProperty(EXEC_MIME_TYPE))) {\n",
       "      return\n",
       "    }\n",
       "\n",
       "    var toinsert = output_area.element.find(\".\" + CLASS_NAME.split(' ')[0]);\n",
       "\n",
       "    if (output.metadata[EXEC_MIME_TYPE][\"id\"] !== undefined) {\n",
       "      toinsert[toinsert.length - 1].firstChild.textContent = output.data[JS_MIME_TYPE];\n",
       "      // store reference to embed id on output_area\n",
       "      output_area._bokeh_element_id = output.metadata[EXEC_MIME_TYPE][\"id\"];\n",
       "    }\n",
       "    if (output.metadata[EXEC_MIME_TYPE][\"server_id\"] !== undefined) {\n",
       "      var bk_div = document.createElement(\"div\");\n",
       "      bk_div.innerHTML = output.data[HTML_MIME_TYPE];\n",
       "      var script_attrs = bk_div.children[0].attributes;\n",
       "      for (var i = 0; i < script_attrs.length; i++) {\n",
       "        toinsert[toinsert.length - 1].firstChild.setAttribute(script_attrs[i].name, script_attrs[i].value);\n",
       "      }\n",
       "      // store reference to server id on output_area\n",
       "      output_area._bokeh_server_id = output.metadata[EXEC_MIME_TYPE][\"server_id\"];\n",
       "    }\n",
       "  }\n",
       "\n",
       "  function register_renderer(events, OutputArea) {\n",
       "\n",
       "    function append_mime(data, metadata, element) {\n",
       "      // create a DOM node to render to\n",
       "      var toinsert = this.create_output_subarea(\n",
       "        metadata,\n",
       "        CLASS_NAME,\n",
       "        EXEC_MIME_TYPE\n",
       "      );\n",
       "      this.keyboard_manager.register_events(toinsert);\n",
       "      // Render to node\n",
       "      var props = {data: data, metadata: metadata[EXEC_MIME_TYPE]};\n",
       "      render(props, toinsert[toinsert.length - 1]);\n",
       "      element.append(toinsert);\n",
       "      return toinsert\n",
       "    }\n",
       "\n",
       "    /* Handle when an output is cleared or removed */\n",
       "    events.on('clear_output.CodeCell', handleClearOutput);\n",
       "    events.on('delete.Cell', handleClearOutput);\n",
       "\n",
       "    /* Handle when a new output is added */\n",
       "    events.on('output_added.OutputArea', handleAddOutput);\n",
       "\n",
       "    /**\n",
       "     * Register the mime type and append_mime function with output_area\n",
       "     */\n",
       "    OutputArea.prototype.register_mime_type(EXEC_MIME_TYPE, append_mime, {\n",
       "      /* Is output safe? */\n",
       "      safe: true,\n",
       "      /* Index of renderer in `output_area.display_order` */\n",
       "      index: 0\n",
       "    });\n",
       "  }\n",
       "\n",
       "  // register the mime type if in Jupyter Notebook environment and previously unregistered\n",
       "  if (root.Jupyter !== undefined) {\n",
       "    var events = require('base/js/events');\n",
       "    var OutputArea = require('notebook/js/outputarea').OutputArea;\n",
       "\n",
       "    if (OutputArea.prototype.mime_types().indexOf(EXEC_MIME_TYPE) == -1) {\n",
       "      register_renderer(events, OutputArea);\n",
       "    }\n",
       "  }\n",
       "\n",
       "  \n",
       "  if (typeof (root._bokeh_timeout) === \"undefined\" || force === true) {\n",
       "    root._bokeh_timeout = Date.now() + 5000;\n",
       "    root._bokeh_failed_load = false;\n",
       "  }\n",
       "\n",
       "  var NB_LOAD_WARNING = {'data': {'text/html':\n",
       "     \"<div style='background-color: #fdd'>\\n\"+\n",
       "     \"<p>\\n\"+\n",
       "     \"BokehJS does not appear to have successfully loaded. If loading BokehJS from CDN, this \\n\"+\n",
       "     \"may be due to a slow or bad network connection. Possible fixes:\\n\"+\n",
       "     \"</p>\\n\"+\n",
       "     \"<ul>\\n\"+\n",
       "     \"<li>re-rerun `output_notebook()` to attempt to load from CDN again, or</li>\\n\"+\n",
       "     \"<li>use INLINE resources instead, as so:</li>\\n\"+\n",
       "     \"</ul>\\n\"+\n",
       "     \"<code>\\n\"+\n",
       "     \"from bokeh.resources import INLINE\\n\"+\n",
       "     \"output_notebook(resources=INLINE)\\n\"+\n",
       "     \"</code>\\n\"+\n",
       "     \"</div>\"}};\n",
       "\n",
       "  function display_loaded() {\n",
       "    var el = document.getElementById(\"1001\");\n",
       "    if (el != null) {\n",
       "      el.textContent = \"BokehJS is loading...\";\n",
       "    }\n",
       "    if (root.Bokeh !== undefined) {\n",
       "      if (el != null) {\n",
       "        el.textContent = \"BokehJS \" + root.Bokeh.version + \" successfully loaded.\";\n",
       "      }\n",
       "    } else if (Date.now() < root._bokeh_timeout) {\n",
       "      setTimeout(display_loaded, 100)\n",
       "    }\n",
       "  }\n",
       "\n",
       "\n",
       "  function run_callbacks() {\n",
       "    try {\n",
       "      root._bokeh_onload_callbacks.forEach(function(callback) { callback() });\n",
       "    }\n",
       "    finally {\n",
       "      delete root._bokeh_onload_callbacks\n",
       "    }\n",
       "    console.info(\"Bokeh: all callbacks have finished\");\n",
       "  }\n",
       "\n",
       "  function load_libs(js_urls, callback) {\n",
       "    root._bokeh_onload_callbacks.push(callback);\n",
       "    if (root._bokeh_is_loading > 0) {\n",
       "      console.log(\"Bokeh: BokehJS is being loaded, scheduling callback at\", now());\n",
       "      return null;\n",
       "    }\n",
       "    if (js_urls == null || js_urls.length === 0) {\n",
       "      run_callbacks();\n",
       "      return null;\n",
       "    }\n",
       "    console.log(\"Bokeh: BokehJS not loaded, scheduling load and callback at\", now());\n",
       "    root._bokeh_is_loading = js_urls.length;\n",
       "    for (var i = 0; i < js_urls.length; i++) {\n",
       "      var url = js_urls[i];\n",
       "      var s = document.createElement('script');\n",
       "      s.src = url;\n",
       "      s.async = false;\n",
       "      s.onreadystatechange = s.onload = function() {\n",
       "        root._bokeh_is_loading--;\n",
       "        if (root._bokeh_is_loading === 0) {\n",
       "          console.log(\"Bokeh: all BokehJS libraries loaded\");\n",
       "          run_callbacks()\n",
       "        }\n",
       "      };\n",
       "      s.onerror = function() {\n",
       "        console.warn(\"failed to load library \" + url);\n",
       "      };\n",
       "      console.log(\"Bokeh: injecting script tag for BokehJS library: \", url);\n",
       "      document.getElementsByTagName(\"head\")[0].appendChild(s);\n",
       "    }\n",
       "  };var element = document.getElementById(\"1001\");\n",
       "  if (element == null) {\n",
       "    console.log(\"Bokeh: ERROR: autoload.js configured with elementid '1001' but no matching script tag was found. \")\n",
       "    return false;\n",
       "  }\n",
       "\n",
       "  var js_urls = [\"https://cdn.pydata.org/bokeh/release/bokeh-1.0.3.min.js\", \"https://cdn.pydata.org/bokeh/release/bokeh-widgets-1.0.3.min.js\", \"https://cdn.pydata.org/bokeh/release/bokeh-tables-1.0.3.min.js\", \"https://cdn.pydata.org/bokeh/release/bokeh-gl-1.0.3.min.js\"];\n",
       "\n",
       "  var inline_js = [\n",
       "    function(Bokeh) {\n",
       "      Bokeh.set_log_level(\"info\");\n",
       "    },\n",
       "    \n",
       "    function(Bokeh) {\n",
       "      \n",
       "    },\n",
       "    function(Bokeh) {\n",
       "      console.log(\"Bokeh: injecting CSS: https://cdn.pydata.org/bokeh/release/bokeh-1.0.3.min.css\");\n",
       "      Bokeh.embed.inject_css(\"https://cdn.pydata.org/bokeh/release/bokeh-1.0.3.min.css\");\n",
       "      console.log(\"Bokeh: injecting CSS: https://cdn.pydata.org/bokeh/release/bokeh-widgets-1.0.3.min.css\");\n",
       "      Bokeh.embed.inject_css(\"https://cdn.pydata.org/bokeh/release/bokeh-widgets-1.0.3.min.css\");\n",
       "      console.log(\"Bokeh: injecting CSS: https://cdn.pydata.org/bokeh/release/bokeh-tables-1.0.3.min.css\");\n",
       "      Bokeh.embed.inject_css(\"https://cdn.pydata.org/bokeh/release/bokeh-tables-1.0.3.min.css\");\n",
       "    }\n",
       "  ];\n",
       "\n",
       "  function run_inline_js() {\n",
       "    \n",
       "    if ((root.Bokeh !== undefined) || (force === true)) {\n",
       "      for (var i = 0; i < inline_js.length; i++) {\n",
       "        inline_js[i].call(root, root.Bokeh);\n",
       "      }if (force === true) {\n",
       "        display_loaded();\n",
       "      }} else if (Date.now() < root._bokeh_timeout) {\n",
       "      setTimeout(run_inline_js, 100);\n",
       "    } else if (!root._bokeh_failed_load) {\n",
       "      console.log(\"Bokeh: BokehJS failed to load within specified timeout.\");\n",
       "      root._bokeh_failed_load = true;\n",
       "    } else if (force !== true) {\n",
       "      var cell = $(document.getElementById(\"1001\")).parents('.cell').data().cell;\n",
       "      cell.output_area.append_execute_result(NB_LOAD_WARNING)\n",
       "    }\n",
       "\n",
       "  }\n",
       "\n",
       "  if (root._bokeh_is_loading === 0) {\n",
       "    console.log(\"Bokeh: BokehJS loaded, going straight to plotting\");\n",
       "    run_inline_js();\n",
       "  } else {\n",
       "    load_libs(js_urls, function() {\n",
       "      console.log(\"Bokeh: BokehJS plotting callback run at\", now());\n",
       "      run_inline_js();\n",
       "    });\n",
       "  }\n",
       "}(window));"
      ],
      "application/vnd.bokehjs_load.v0+json": "\n(function(root) {\n  function now() {\n    return new Date();\n  }\n\n  var force = true;\n\n  if (typeof (root._bokeh_onload_callbacks) === \"undefined\" || force === true) {\n    root._bokeh_onload_callbacks = [];\n    root._bokeh_is_loading = undefined;\n  }\n\n  \n\n  \n  if (typeof (root._bokeh_timeout) === \"undefined\" || force === true) {\n    root._bokeh_timeout = Date.now() + 5000;\n    root._bokeh_failed_load = false;\n  }\n\n  var NB_LOAD_WARNING = {'data': {'text/html':\n     \"<div style='background-color: #fdd'>\\n\"+\n     \"<p>\\n\"+\n     \"BokehJS does not appear to have successfully loaded. If loading BokehJS from CDN, this \\n\"+\n     \"may be due to a slow or bad network connection. Possible fixes:\\n\"+\n     \"</p>\\n\"+\n     \"<ul>\\n\"+\n     \"<li>re-rerun `output_notebook()` to attempt to load from CDN again, or</li>\\n\"+\n     \"<li>use INLINE resources instead, as so:</li>\\n\"+\n     \"</ul>\\n\"+\n     \"<code>\\n\"+\n     \"from bokeh.resources import INLINE\\n\"+\n     \"output_notebook(resources=INLINE)\\n\"+\n     \"</code>\\n\"+\n     \"</div>\"}};\n\n  function display_loaded() {\n    var el = document.getElementById(\"1001\");\n    if (el != null) {\n      el.textContent = \"BokehJS is loading...\";\n    }\n    if (root.Bokeh !== undefined) {\n      if (el != null) {\n        el.textContent = \"BokehJS \" + root.Bokeh.version + \" successfully loaded.\";\n      }\n    } else if (Date.now() < root._bokeh_timeout) {\n      setTimeout(display_loaded, 100)\n    }\n  }\n\n\n  function run_callbacks() {\n    try {\n      root._bokeh_onload_callbacks.forEach(function(callback) { callback() });\n    }\n    finally {\n      delete root._bokeh_onload_callbacks\n    }\n    console.info(\"Bokeh: all callbacks have finished\");\n  }\n\n  function load_libs(js_urls, callback) {\n    root._bokeh_onload_callbacks.push(callback);\n    if (root._bokeh_is_loading > 0) {\n      console.log(\"Bokeh: BokehJS is being loaded, scheduling callback at\", now());\n      return null;\n    }\n    if (js_urls == null || js_urls.length === 0) {\n      run_callbacks();\n      return null;\n    }\n    console.log(\"Bokeh: BokehJS not loaded, scheduling load and callback at\", now());\n    root._bokeh_is_loading = js_urls.length;\n    for (var i = 0; i < js_urls.length; i++) {\n      var url = js_urls[i];\n      var s = document.createElement('script');\n      s.src = url;\n      s.async = false;\n      s.onreadystatechange = s.onload = function() {\n        root._bokeh_is_loading--;\n        if (root._bokeh_is_loading === 0) {\n          console.log(\"Bokeh: all BokehJS libraries loaded\");\n          run_callbacks()\n        }\n      };\n      s.onerror = function() {\n        console.warn(\"failed to load library \" + url);\n      };\n      console.log(\"Bokeh: injecting script tag for BokehJS library: \", url);\n      document.getElementsByTagName(\"head\")[0].appendChild(s);\n    }\n  };var element = document.getElementById(\"1001\");\n  if (element == null) {\n    console.log(\"Bokeh: ERROR: autoload.js configured with elementid '1001' but no matching script tag was found. \")\n    return false;\n  }\n\n  var js_urls = [\"https://cdn.pydata.org/bokeh/release/bokeh-1.0.3.min.js\", \"https://cdn.pydata.org/bokeh/release/bokeh-widgets-1.0.3.min.js\", \"https://cdn.pydata.org/bokeh/release/bokeh-tables-1.0.3.min.js\", \"https://cdn.pydata.org/bokeh/release/bokeh-gl-1.0.3.min.js\"];\n\n  var inline_js = [\n    function(Bokeh) {\n      Bokeh.set_log_level(\"info\");\n    },\n    \n    function(Bokeh) {\n      \n    },\n    function(Bokeh) {\n      console.log(\"Bokeh: injecting CSS: https://cdn.pydata.org/bokeh/release/bokeh-1.0.3.min.css\");\n      Bokeh.embed.inject_css(\"https://cdn.pydata.org/bokeh/release/bokeh-1.0.3.min.css\");\n      console.log(\"Bokeh: injecting CSS: https://cdn.pydata.org/bokeh/release/bokeh-widgets-1.0.3.min.css\");\n      Bokeh.embed.inject_css(\"https://cdn.pydata.org/bokeh/release/bokeh-widgets-1.0.3.min.css\");\n      console.log(\"Bokeh: injecting CSS: https://cdn.pydata.org/bokeh/release/bokeh-tables-1.0.3.min.css\");\n      Bokeh.embed.inject_css(\"https://cdn.pydata.org/bokeh/release/bokeh-tables-1.0.3.min.css\");\n    }\n  ];\n\n  function run_inline_js() {\n    \n    if ((root.Bokeh !== undefined) || (force === true)) {\n      for (var i = 0; i < inline_js.length; i++) {\n        inline_js[i].call(root, root.Bokeh);\n      }if (force === true) {\n        display_loaded();\n      }} else if (Date.now() < root._bokeh_timeout) {\n      setTimeout(run_inline_js, 100);\n    } else if (!root._bokeh_failed_load) {\n      console.log(\"Bokeh: BokehJS failed to load within specified timeout.\");\n      root._bokeh_failed_load = true;\n    } else if (force !== true) {\n      var cell = $(document.getElementById(\"1001\")).parents('.cell').data().cell;\n      cell.output_area.append_execute_result(NB_LOAD_WARNING)\n    }\n\n  }\n\n  if (root._bokeh_is_loading === 0) {\n    console.log(\"Bokeh: BokehJS loaded, going straight to plotting\");\n    run_inline_js();\n  } else {\n    load_libs(js_urls, function() {\n      console.log(\"Bokeh: BokehJS plotting callback run at\", now());\n      run_inline_js();\n    });\n  }\n}(window));"
     },
     "metadata": {},
     "output_type": "display_data"
    }
   ],
   "source": [
    "from bokeh.plotting import figure, output_file\n",
    "from bokeh.io import show\n",
    "from bokeh.models import ColumnDataSource\n",
    "from bokeh.models.tools import HoverTool\n",
    "from bokeh.io import output_notebook\n",
    "output_notebook()\n",
    "\n",
    "output_file('grafico_dispersion.html')\n",
    "\n",
    "df = pd.read_csv('Jugadores_primera_division_Espania.csv', engine='python', header=0, sep=';', decimal = '.')"
   ]
  },
  {
   "cell_type": "markdown",
   "metadata": {},
   "source": [
    "Para evitar una grafica sumamente confusa debido a la superposicion de datos, se procede a seleccionar 60 datos aleatoriamente para la grafica mediante el metodo sample, seguidamente al constructor ColumnDataSource almacenando la variable source"
   ]
  },
  {
   "cell_type": "code",
   "execution_count": 5,
   "metadata": {},
   "outputs": [],
   "source": [
    "sample = df.sample(60)\n",
    "source = ColumnDataSource(sample)"
   ]
  },
  {
   "cell_type": "markdown",
   "metadata": {},
   "source": [
    "Se crea un objeto llamado figura y se llama al metodo circle para trazar los datos, definiendo los argumentos que seran los valores de x e y"
   ]
  },
  {
   "cell_type": "code",
   "execution_count": 6,
   "metadata": {},
   "outputs": [
    {
     "data": {
      "text/html": [
       "<div style=\"display: table;\"><div style=\"display: table-row;\"><div style=\"display: table-cell;\"><b title=\"bokeh.models.renderers.GlyphRenderer\">GlyphRenderer</b>(</div><div style=\"display: table-cell;\">id&nbsp;=&nbsp;'1040', <span id=\"1043\" style=\"cursor: pointer;\">&hellip;)</span></div></div><div class=\"1042\" style=\"display: none;\"><div style=\"display: table-cell;\"></div><div style=\"display: table-cell;\">data_source&nbsp;=&nbsp;ColumnDataSource(id='1002', ...),</div></div><div class=\"1042\" style=\"display: none;\"><div style=\"display: table-cell;\"></div><div style=\"display: table-cell;\">glyph&nbsp;=&nbsp;Circle(id='1038', ...),</div></div><div class=\"1042\" style=\"display: none;\"><div style=\"display: table-cell;\"></div><div style=\"display: table-cell;\">hover_glyph&nbsp;=&nbsp;None,</div></div><div class=\"1042\" style=\"display: none;\"><div style=\"display: table-cell;\"></div><div style=\"display: table-cell;\">js_event_callbacks&nbsp;=&nbsp;{},</div></div><div class=\"1042\" style=\"display: none;\"><div style=\"display: table-cell;\"></div><div style=\"display: table-cell;\">js_property_callbacks&nbsp;=&nbsp;{},</div></div><div class=\"1042\" style=\"display: none;\"><div style=\"display: table-cell;\"></div><div style=\"display: table-cell;\">level&nbsp;=&nbsp;'glyph',</div></div><div class=\"1042\" style=\"display: none;\"><div style=\"display: table-cell;\"></div><div style=\"display: table-cell;\">muted&nbsp;=&nbsp;False,</div></div><div class=\"1042\" style=\"display: none;\"><div style=\"display: table-cell;\"></div><div style=\"display: table-cell;\">muted_glyph&nbsp;=&nbsp;None,</div></div><div class=\"1042\" style=\"display: none;\"><div style=\"display: table-cell;\"></div><div style=\"display: table-cell;\">name&nbsp;=&nbsp;None,</div></div><div class=\"1042\" style=\"display: none;\"><div style=\"display: table-cell;\"></div><div style=\"display: table-cell;\">nonselection_glyph&nbsp;=&nbsp;Circle(id='1039', ...),</div></div><div class=\"1042\" style=\"display: none;\"><div style=\"display: table-cell;\"></div><div style=\"display: table-cell;\">selection_glyph&nbsp;=&nbsp;None,</div></div><div class=\"1042\" style=\"display: none;\"><div style=\"display: table-cell;\"></div><div style=\"display: table-cell;\">subscribed_events&nbsp;=&nbsp;[],</div></div><div class=\"1042\" style=\"display: none;\"><div style=\"display: table-cell;\"></div><div style=\"display: table-cell;\">tags&nbsp;=&nbsp;[],</div></div><div class=\"1042\" style=\"display: none;\"><div style=\"display: table-cell;\"></div><div style=\"display: table-cell;\">view&nbsp;=&nbsp;CDSView(id='1041', ...),</div></div><div class=\"1042\" style=\"display: none;\"><div style=\"display: table-cell;\"></div><div style=\"display: table-cell;\">visible&nbsp;=&nbsp;True,</div></div><div class=\"1042\" style=\"display: none;\"><div style=\"display: table-cell;\"></div><div style=\"display: table-cell;\">x_range_name&nbsp;=&nbsp;'default',</div></div><div class=\"1042\" style=\"display: none;\"><div style=\"display: table-cell;\"></div><div style=\"display: table-cell;\">y_range_name&nbsp;=&nbsp;'default')</div></div></div>\n",
       "<script>\n",
       "(function() {\n",
       "  var expanded = false;\n",
       "  var ellipsis = document.getElementById(\"1043\");\n",
       "  ellipsis.addEventListener(\"click\", function() {\n",
       "    var rows = document.getElementsByClassName(\"1042\");\n",
       "    for (var i = 0; i < rows.length; i++) {\n",
       "      var el = rows[i];\n",
       "      el.style.display = expanded ? \"none\" : \"table-row\";\n",
       "    }\n",
       "    ellipsis.innerHTML = expanded ? \"&hellip;)\" : \"&lsaquo;&lsaquo;&lsaquo;\";\n",
       "    expanded = !expanded;\n",
       "  });\n",
       "})();\n",
       "</script>\n"
      ],
      "text/plain": [
       "GlyphRenderer(id='1040', ...)"
      ]
     },
     "execution_count": 6,
     "metadata": {},
     "output_type": "execute_result"
    }
   ],
   "source": [
    "p = figure() \n",
    "p.circle(x = 'Jugadores', y = 'Goles', source = source, size = 10, color = 'green')"
   ]
  },
  {
   "cell_type": "markdown",
   "metadata": {},
   "source": [
    "A continuacion se añade el titulo y se da nombre a los ejes"
   ]
  },
  {
   "cell_type": "code",
   "execution_count": 7,
   "metadata": {},
   "outputs": [],
   "source": [
    "p.title.text = 'Numero de Jugadores'\n",
    "p.xaxis.axis_label = 'Jugadores'\n",
    "p.yaxis.axis_label = 'Goles por pais'"
   ]
  },
  {
   "cell_type": "markdown",
   "metadata": {},
   "source": [
    "Se utiliza la herramienta de trazado HoverTool para visualizar datos específicos en cada punto de la gráfica "
   ]
  },
  {
   "cell_type": "code",
   "execution_count": 8,
   "metadata": {},
   "outputs": [],
   "source": [
    "hover = HoverTool()\n",
    "hover.tooltips =[('Goles', '@Goles'), ('Pais', '@Pais'), ('Jugadores del pais', '@Jugadores'), ('Tarjetas amarillas', '@Amarillas'), ('Tarjetas rojas', '@Rojas')]\n",
    "\n",
    "#metodo para añadir \n",
    "p.add_tools(hover)"
   ]
  },
  {
   "cell_type": "markdown",
   "metadata": {},
   "source": [
    "Finalmente se agrega el comando para presentar la gráfica e interactuar con ella"
   ]
  },
  {
   "cell_type": "code",
   "execution_count": 78,
   "metadata": {},
   "outputs": [
    {
     "data": {
      "text/html": [
       "\n",
       "\n",
       "\n",
       "\n",
       "\n",
       "\n",
       "  <div class=\"bk-root\" id=\"f661c317-005b-4291-81c6-a4ffe5644c1b\" data-root-id=\"2882\"></div>\n"
      ]
     },
     "metadata": {},
     "output_type": "display_data"
    },
    {
     "data": {
      "application/javascript": [
       "(function(root) {\n",
       "  function embed_document(root) {\n",
       "    \n",
       "  var docs_json = {\"e9b065f6-e6fd-4e96-b1c0-838b4191ae49\":{\"roots\":{\"references\":[{\"attributes\":{\"below\":[{\"id\":\"2891\",\"type\":\"LinearAxis\"}],\"left\":[{\"id\":\"2896\",\"type\":\"LinearAxis\"}],\"renderers\":[{\"id\":\"2891\",\"type\":\"LinearAxis\"},{\"id\":\"2895\",\"type\":\"Grid\"},{\"id\":\"2896\",\"type\":\"LinearAxis\"},{\"id\":\"2900\",\"type\":\"Grid\"},{\"id\":\"2909\",\"type\":\"BoxAnnotation\"},{\"id\":\"2919\",\"type\":\"GlyphRenderer\"}],\"title\":{\"id\":\"2923\",\"type\":\"Title\"},\"toolbar\":{\"id\":\"2907\",\"type\":\"Toolbar\"},\"x_range\":{\"id\":\"2883\",\"type\":\"DataRange1d\"},\"x_scale\":{\"id\":\"2887\",\"type\":\"LinearScale\"},\"y_range\":{\"id\":\"2885\",\"type\":\"DataRange1d\"},\"y_scale\":{\"id\":\"2889\",\"type\":\"LinearScale\"}},\"id\":\"2882\",\"subtype\":\"Figure\",\"type\":\"Plot\"},{\"attributes\":{},\"id\":\"2904\",\"type\":\"SaveTool\"},{\"attributes\":{},\"id\":\"2906\",\"type\":\"HelpTool\"},{\"attributes\":{},\"id\":\"2942\",\"type\":\"UnionRenderers\"},{\"attributes\":{\"callback\":null},\"id\":\"2885\",\"type\":\"DataRange1d\"},{\"attributes\":{\"bottom_units\":\"screen\",\"fill_alpha\":{\"value\":0.5},\"fill_color\":{\"value\":\"lightgrey\"},\"left_units\":\"screen\",\"level\":\"overlay\",\"line_alpha\":{\"value\":1.0},\"line_color\":{\"value\":\"black\"},\"line_dash\":[4,4],\"line_width\":{\"value\":2},\"plot\":null,\"render_mode\":\"css\",\"right_units\":\"screen\",\"top_units\":\"screen\"},\"id\":\"2909\",\"type\":\"BoxAnnotation\"},{\"attributes\":{\"callback\":null},\"id\":\"2883\",\"type\":\"DataRange1d\"},{\"attributes\":{\"data_source\":{\"id\":\"2881\",\"type\":\"ColumnDataSource\"},\"glyph\":{\"id\":\"2917\",\"type\":\"Circle\"},\"hover_glyph\":null,\"muted_glyph\":null,\"nonselection_glyph\":{\"id\":\"2918\",\"type\":\"Circle\"},\"selection_glyph\":null,\"view\":{\"id\":\"2920\",\"type\":\"CDSView\"}},\"id\":\"2919\",\"type\":\"GlyphRenderer\"},{\"attributes\":{},\"id\":\"2887\",\"type\":\"LinearScale\"},{\"attributes\":{\"fill_color\":{\"value\":\"green\"},\"line_color\":{\"value\":\"green\"},\"size\":{\"units\":\"screen\",\"value\":10},\"x\":{\"field\":\"Jugadores\"},\"y\":{\"field\":\"Goles\"}},\"id\":\"2917\",\"type\":\"Circle\"},{\"attributes\":{\"callback\":null,\"data\":{\"Amarillas\":[45,0,2,119,1,52,164,1714,0,7,101,740,84,0,40,378,67,85,1310,55,538,10,17,1,0,4,28,40,465,412,1,63,25,44,273,26,315,1,33,146,5454,246,3,6,11,255,20,1,2,67,29,9,20,62,20,8,0,176,51,119],\"Amarillas/Jugador\":{\"__ndarray__\":\"AAAAAAAAFEAAAAAAAAAAAHE9CtejcOU/zczMzMxMIkAfhetRuB7VP9ejcD0KVyFA4XoUrkfhE0B7FK5H4XohQAAAAAAAAAAAAAAAAAAADEBxPQrXo3AWQNejcD0K1x9AAAAAAAAANUAAAAAAAAAAAAAAAAAAACRAhetRuB6FH0DXo3A9ClcmQAAAAAAAQFVAzczMzMzMJECF61G4HoX7P83MzMzMTCRAAAAAAAAAFEAAAAAAAAAhQAAAAAAAAOA/AAAAAAAAAACamZmZmZnpPwAAAAAAABxAAAAAAAAAEEB7FK5H4XoOQBSuR+F6FB9AAAAAAAAA4D8zMzMzMzMpQK5H4XoUrhBAKVyPwvUoGUC4HoXrUTgkQK5H4XoUrg1AzczMzMzMGkAAAAAAAADgPwAAAAAAABZAj8L1KFyPGkCuR+F6FK4jQAAAAAAAgCRAAAAAAAAACEAAAAAAAAAIQAAAAAAAACZAj8L1KFyPG0AAAAAAAAAQQAAAAAAAAPA/AAAAAAAAAEBcj8L1KFwYQAAAAAAAAB1AAAAAAAAAEkCuR+F6FK4aQClcj8L1qCRApHA9CtejCkAAAAAAAAAgQAAAAAAAAAAAMzMzMzOzJECuR+F6FK4WQK5H4XoUrhZA\",\"dtype\":\"float64\",\"shape\":[60]},\"Arqueros\":[2,0,0,0,0,1,0,14,1,0,1,8,0,0,0,7,0,0,8,5,5,0,0,0,0,1,0,0,6,4,0,0,0,0,0,1,2,0,1,0,40,2,0,0,0,1,2,0,1,0,0,0,1,0,0,0,0,0,2,4],\"Defensa\":[0,1,1,3,0,2,7,54,1,0,2,28,2,0,0,14,0,0,41,2,12,1,1,0,0,0,2,2,28,13,0,2,1,4,6,3,11,0,2,8,140,3,0,1,0,7,1,0,0,1,0,0,1,1,4,1,0,1,3,1],\"Delanteros\":[4,2,1,5,1,1,13,75,1,1,10,24,2,0,4,10,2,0,28,15,16,1,1,1,0,2,1,4,61,23,2,1,3,2,14,2,19,0,0,8,202,10,1,1,1,16,2,1,0,7,4,0,1,1,2,0,1,12,2,11],\"Goles\":[52,2,0,112,0,15,269,1641,9,9,185,441,5,0,45,315,38,68,822,451,422,43,6,3,3,4,5,45,1204,222,1,25,19,32,359,65,322,0,4,32,4987,262,4,3,24,230,40,4,0,123,18,2,21,47,20,5,0,256,32,108],\"Goles/Jugador\":{\"__ndarray__\":\"H4XrUbgeF0BxPQrXo3DlPwAAAAAAAAAAPQrXo3A9IUAAAAAAAAAAAAAAAAAAAARAzczMzMxMIEA9CtejcL0gQAAAAAAAAAJAAAAAAAAAEkCPwvUoXI8kQPYoXI/C9RJAAAAAAAAA9D8AAAAAAAAAAAAAAAAAgCZAPQrXo3A9GkBSuB6F61EZQAAAAAAAAFFAFK5H4XoUGkCuR+F6FC4sQNejcD0K1x9AAAAAAACANUAAAAAAAAAIQAAAAAAAAPg/AAAAAAAACECamZmZmZnpPwAAAAAAAPQ/AAAAAAAAEkA9CtejcL0jQMP1KFyPwhBAAAAAAAAA4D8AAAAAAAAUQFyPwvUoXAlASOF6FK5HEkCamZmZmZkqQBSuR+F6lCJAZmZmZmZmG0AAAAAAAAAAAHE9CtejcOU/MzMzMzMz9z8AAAAAAAAiQNejcD0K1yVAAAAAAAAAEEAAAAAAAAD4PwAAAAAAADhA4XoUrkfhGEAAAAAAAAAgQAAAAAAAABBAAAAAAAAAAABcj8L1KFwmQAAAAAAAABJAAAAAAAAA8D8AAAAAAAAcQFK4HoXrUR9ApHA9CtejCkAAAAAAAAAUQAAAAAAAAAAAH4XrUbgeLkB7FK5H4XoMQI/C9ShcjxRA\",\"dtype\":\"float64\",\"shape\":[60]},\"Jugadores\":[9,3,3,13,3,6,33,196,4,2,18,93,4,1,4,48,6,1,126,32,53,2,2,2,1,5,4,10,122,53,2,5,6,7,27,7,47,2,6,22,554,24,1,2,1,37,5,1,1,11,4,2,3,6,6,1,2,17,9,21],\"Latitud\":{\"__ndarray__\":\"H4XrUbgeI0CF61G4HgUnQAAAAAAAAPC/AAAAAAAARUC4HoXrUZhEQDMzMzMzs0RAAAAAAAAA+H8AAAAAAEBBwAAAAAAAACpAj8L1KFyPKkC4HoXrUZhHQAAAAAAAAEZAhetRuB4FM0AAAAAAAIBDQAAAAAAAAABAAAAAAACASUAAAAAAAADwvwAAAAAAgE1AZmZmZmamQ0AAAAAAAIBHQM3MzMzMjEZAexSuR+H6KkAAAAAAAAAgQAAAAAAAAPA/4XoUrkchMkAAAAAAAAA8QAAAAAAAAEtAAAAAAAAAAMAAAAAAAAA3wAAAAAAAABBAAAAAAAAARUBmZmZmZiYywAAAAAAAQFBAAAAAAAAAPcAAAAAAAABGQAAAAAAAAENApHA9CtejQMAAAAAAAADwvwAAAAAAAEdAXI/C9SjcLEAAAAAAAABBwAAAAAAAAE5AAAAAAAAAO0AAAAAAAAAqQGZmZmZmZgrAAAAAAAAATEAAAAAAAAA7wGZmZmZmJkRAKVyPwvUovD+amZmZmZkowAAAAAAAACZAAAAAAAAAOUAAAAAAAABMQAAAAAAAADFAAAAAAACASkAAAAAAAAAzQGZmZmZmJkVAAAAAAACARUCF61G4HsVNQAAAAAAAAEpA\",\"dtype\":\"float64\",\"shape\":[60]},\"Longitud\":{\"__ndarray__\":\"MzMzMzMDVcAzMzMzM7MuwGZmZmZm5iZAAAAAAAAAM0A9CtejcH0zQDMzMzMzczVAAAAAAAAAS0AAAAAAAABMwAAAAAAAgF5A16NwPQpXMMDhehSuR2EqQAAAAAAAADVAmpmZmZlJUMAAAAAAAMBRQAAAAAAAACRAAAAAAAAAIkAAAAAAAAAuQAAAAAAAADpAAAAAAAAAIMAAAAAAAAA0QJqZmZmZmS5AMzMzMzMjVsCamZmZmZnxPwAAAAAAAENAZmZmZmaWUMAAAAAAAAAIQAAAAAAAADpAMzMzMzNTU8AAAAAAAABNwAAAAAAAAFLAZmZmZmamRUAAAAAAAIBBQAAAAAAAADLAAAAAAAAAOEAAAAAAAAAyQAAAAAAAQFjAuB6F61GYUcAAAAAAAAAuQAAAAAAAAC5AhetRuB5FMcAAAAAAAABQwAAAAAAAAFlAAAAAAAAAPkAAAAAAAAAAwAAAAAAAAD5AAAAAAAAAJEAAAAAAAKBgQGZmZmZmpkdAcT0K16NwGUDNzMzMzEwyQAAAAAAAACTApHA9CtcjKMAAAAAAAAA4QAAAAAAAABDAAAAAAAAAIMCamZmZmZlRwMP1KFyPwvU/AAAAAAAAOUDhehSuR+EkQAAAAAAAADRA\",\"dtype\":\"float64\",\"shape\":[60]},\"Medio_Campo\":[3,0,1,5,2,2,13,53,1,1,5,33,0,1,0,17,4,1,49,10,20,0,0,1,1,2,1,4,27,13,0,2,2,1,7,1,15,2,3,6,172,9,0,0,0,13,0,0,0,3,0,2,0,4,0,0,1,4,2,5],\"Pais\":[\"Costa Rica\",\"Guinea Bissau\",\"Gabon\",\"Montenegro\",\"Albania\",\"Macedonia\",\"Reino Unido\",\"Uruguay\",\"Filipinas\",\"Gambia\",\"Austria\",\"Serbia\",\"Bolivia\",\"Tayikistan\",\"Guinea Ecuatorial\",\"Alemania\",\"RD Congo\",\"Estonia\",\"Portugal\",\"Hungria\",\"Croacia\",\"El Salvador\",\"Togo\",\"Kenia\",\"Puerto Rico\",\"Argelia\",\"Finlandia\",\"Ecuador\",\"Paraguay\",\"Colombia\",\"Georgia\",\"Mozambique\",\"Islandia\",\"Sudafrica\",\"Bosnia\",\"Estados Unidos\",\"Chile\",\"Republica del Congo\",\"Eslovenia\",\"Senegal\",\"Argentina\",\"Rusia\",\"Egipto\",\"Burkina Faso\",\"Burundi\",\"Dinamarca\",\"Australia\",\"Azerbaiyan\",\"Santo Tome y Principe\",\"Angola\",\"Guinea\",\"Sahara Occidental\",\"Lituania\",\"Mali\",\"Irlanda\",\"Republica Dominicana\",\"Andorra\",\"Bulgaria\",\"Noruega\",\"Polonia\"],\"Porcentaje\":{\"__ndarray__\":\"exSuR+F6tD+4HoXrUbieP7gehetRuJ4/uB6F61G4vj+4HoXrUbieP7gehetRuK4/16NwPQrX0z8fhetRuB79P3sUrkfheqQ/exSuR+F6lD/D9Shcj8LFP4XrUbgehes/exSuR+F6pD97FK5H4XqEP3sUrkfheqQ/KVyPwvUo3D+4HoXrUbiuP3sUrkfheoQ/uB6F61G48j8zMzMzMzPTP1yPwvUoXN8/exSuR+F6lD97FK5H4XqUP3sUrkfhepQ/exSuR+F6hD+amZmZmZmpP3sUrkfheqQ/CtejcD0Ktz8UrkfhehTyP1yPwvUoXN8/exSuR+F6lD+amZmZmZmpP7gehetRuK4/uB6F61G4rj8AAAAAAADQP7gehetRuK4/KVyPwvUo3D97FK5H4XqUP7gehetRuK4/mpmZmZmZyT+F61G4HoUUQClcj8L1KMw/exSuR+F6hD97FK5H4XqUP3sUrkfheoQ/w/UoXI/C1T+amZmZmZmpP3sUrkfheoQ/exSuR+F6hD+amZmZmZm5P3sUrkfheqQ/exSuR+F6lD+4HoXrUbieP7gehetRuK4/uB6F61G4rj97FK5H4XqEP3sUrkfhepQ/exSuR+F6xD97FK5H4Xq0P1K4HoXrUcg/\",\"dtype\":\"float64\",\"shape\":[60]},\"Rojas\":[4,0,0,7,0,4,9,122,0,1,7,49,8,0,5,27,5,6,105,12,30,0,1,0,0,0,3,2,60,22,0,8,0,3,17,0,27,0,1,9,427,21,1,1,1,14,1,1,1,9,1,0,5,4,1,0,0,23,4,11],\"Rojas/Jugador \":{\"__ndarray__\":\"KVyPwvUo3D8AAAAAAAAAAAAAAAAAAAAASOF6FK5H4T8AAAAAAAAAAHE9CtejcOU/AAAAAAAAAMDXo3A9CtfjPwAAAAAAAAAAAAAAAAAA4D/2KFyPwvXYP/YoXI/C9eA/AAAAAAAAAEAAAAAAAAAAAAAAAAAAAPQ/7FG4HoXr4T+PwvUoXI/qPwAAAAAAABhAj8L1KFyP6j9SuB6F61HYPz0K16NwPeI/AAAAAAAAAAAAAAAAAADgPwAAAAAAAAAAAAAAAAAAAAAAAAAAAAAAAAAAAAAAAOg/mpmZmZmZyT9cj8L1KFzfP+F6FK5H4do/AAAAAAAAAACamZmZmZn5PwAAAAAAAAAAhetRuB6F2z8pXI/C9SjkPwAAAAAAAAAAPQrXo3A94j8AAAAAAAAAAMP1KFyPwsU/PQrXo3A92j+kcD0K16PoPylcj8L1KOw/AAAAAAAA8D8AAAAAAADgPwAAAAAAAPA/UrgehetR2D+amZmZmZnJPwAAAAAAAPA/AAAAAAAA8D89CtejcD3qPwAAAAAAANA/AAAAAAAAAAC4HoXrUbj6P3E9CtejcOU/w/UoXI/CxT8AAAAAAAAAAAAAAAAAAAAAmpmZmZmZ9T8pXI/C9SjcP6RwPQrXo+A/\",\"dtype\":\"float64\",\"shape\":[60]},\"index\":[45,73,76,39,77,56,19,4,66,80,33,7,62,101,68,12,50,100,5,20,10,87,79,81,94,57,69,44,6,11,78,59,55,49,23,48,13,86,54,30,1,27,98,88,102,17,58,103,99,43,70,84,74,51,52,95,82,34,46,32]},\"selected\":{\"id\":\"2943\",\"type\":\"Selection\"},\"selection_policy\":{\"id\":\"2942\",\"type\":\"UnionRenderers\"}},\"id\":\"2881\",\"type\":\"ColumnDataSource\"},{\"attributes\":{\"axis_label\":\"Goles por pais\",\"formatter\":{\"id\":\"2939\",\"type\":\"BasicTickFormatter\"},\"plot\":{\"id\":\"2882\",\"subtype\":\"Figure\",\"type\":\"Plot\"},\"ticker\":{\"id\":\"2897\",\"type\":\"BasicTicker\"}},\"id\":\"2896\",\"type\":\"LinearAxis\"},{\"attributes\":{\"fill_alpha\":{\"value\":0.1},\"fill_color\":{\"value\":\"#1f77b4\"},\"line_alpha\":{\"value\":0.1},\"line_color\":{\"value\":\"#1f77b4\"},\"size\":{\"units\":\"screen\",\"value\":10},\"x\":{\"field\":\"Jugadores\"},\"y\":{\"field\":\"Goles\"}},\"id\":\"2918\",\"type\":\"Circle\"},{\"attributes\":{\"source\":{\"id\":\"2881\",\"type\":\"ColumnDataSource\"}},\"id\":\"2920\",\"type\":\"CDSView\"},{\"attributes\":{},\"id\":\"2943\",\"type\":\"Selection\"},{\"attributes\":{},\"id\":\"2937\",\"type\":\"BasicTickFormatter\"},{\"attributes\":{\"callback\":null,\"tooltips\":[[\"Goles\",\"@Goles\"],[\"Pais\",\"@Pais\"],[\"Jugadores del pais\",\"@Jugadores\"],[\"Tarjetas amarillas\",\"@Amarillas\"],[\"Tarjetas rojas\",\"@Rojas\"]]},\"id\":\"2924\",\"type\":\"HoverTool\"},{\"attributes\":{},\"id\":\"2889\",\"type\":\"LinearScale\"},{\"attributes\":{\"plot\":null,\"text\":\"Numero de Jugadores\"},\"id\":\"2923\",\"type\":\"Title\"},{\"attributes\":{},\"id\":\"2892\",\"type\":\"BasicTicker\"},{\"attributes\":{\"axis_label\":\"Jugadores\",\"formatter\":{\"id\":\"2937\",\"type\":\"BasicTickFormatter\"},\"plot\":{\"id\":\"2882\",\"subtype\":\"Figure\",\"type\":\"Plot\"},\"ticker\":{\"id\":\"2892\",\"type\":\"BasicTicker\"}},\"id\":\"2891\",\"type\":\"LinearAxis\"},{\"attributes\":{\"plot\":{\"id\":\"2882\",\"subtype\":\"Figure\",\"type\":\"Plot\"},\"ticker\":{\"id\":\"2892\",\"type\":\"BasicTicker\"}},\"id\":\"2895\",\"type\":\"Grid\"},{\"attributes\":{\"dimension\":1,\"plot\":{\"id\":\"2882\",\"subtype\":\"Figure\",\"type\":\"Plot\"},\"ticker\":{\"id\":\"2897\",\"type\":\"BasicTicker\"}},\"id\":\"2900\",\"type\":\"Grid\"},{\"attributes\":{},\"id\":\"2897\",\"type\":\"BasicTicker\"},{\"attributes\":{\"active_drag\":\"auto\",\"active_inspect\":\"auto\",\"active_multi\":null,\"active_scroll\":\"auto\",\"active_tap\":\"auto\",\"tools\":[{\"id\":\"2901\",\"type\":\"PanTool\"},{\"id\":\"2902\",\"type\":\"WheelZoomTool\"},{\"id\":\"2903\",\"type\":\"BoxZoomTool\"},{\"id\":\"2904\",\"type\":\"SaveTool\"},{\"id\":\"2905\",\"type\":\"ResetTool\"},{\"id\":\"2906\",\"type\":\"HelpTool\"},{\"id\":\"2924\",\"type\":\"HoverTool\"}]},\"id\":\"2907\",\"type\":\"Toolbar\"},{\"attributes\":{},\"id\":\"2902\",\"type\":\"WheelZoomTool\"},{\"attributes\":{},\"id\":\"2939\",\"type\":\"BasicTickFormatter\"},{\"attributes\":{},\"id\":\"2901\",\"type\":\"PanTool\"},{\"attributes\":{\"overlay\":{\"id\":\"2909\",\"type\":\"BoxAnnotation\"}},\"id\":\"2903\",\"type\":\"BoxZoomTool\"},{\"attributes\":{},\"id\":\"2905\",\"type\":\"ResetTool\"}],\"root_ids\":[\"2882\"]},\"title\":\"Bokeh Application\",\"version\":\"1.0.3\"}};\n",
       "  var render_items = [{\"docid\":\"e9b065f6-e6fd-4e96-b1c0-838b4191ae49\",\"roots\":{\"2882\":\"f661c317-005b-4291-81c6-a4ffe5644c1b\"}}];\n",
       "  root.Bokeh.embed.embed_items_notebook(docs_json, render_items);\n",
       "\n",
       "  }\n",
       "  if (root.Bokeh !== undefined) {\n",
       "    embed_document(root);\n",
       "  } else {\n",
       "    var attempts = 0;\n",
       "    var timer = setInterval(function(root) {\n",
       "      if (root.Bokeh !== undefined) {\n",
       "        embed_document(root);\n",
       "        clearInterval(timer);\n",
       "      }\n",
       "      attempts++;\n",
       "      if (attempts > 100) {\n",
       "        console.log(\"Bokeh: ERROR: Unable to run BokehJS code because BokehJS library is missing\");\n",
       "        clearInterval(timer);\n",
       "      }\n",
       "    }, 10, root)\n",
       "  }\n",
       "})(window);"
      ],
      "application/vnd.bokehjs_exec.v0+json": ""
     },
     "metadata": {
      "application/vnd.bokehjs_exec.v0+json": {
       "id": "2882"
      }
     },
     "output_type": "display_data"
    }
   ],
   "source": [
    "show(p)"
   ]
  },
  {
   "cell_type": "markdown",
   "metadata": {},
   "source": [
    "## Gráfico de barras"
   ]
  },
  {
   "cell_type": "markdown",
   "metadata": {},
   "source": [
    "Se añaden unas importaciones adicionales como el ¨palettes¨ y el transform"
   ]
  },
  {
   "cell_type": "code",
   "execution_count": 9,
   "metadata": {},
   "outputs": [],
   "source": [
    "from bokeh.palettes import Inferno256 # paletas de colores para las graficas\n",
    "from bokeh.palettes import Blues3\n",
    "from bokeh.transform import factor_cmap # método auxiliar para la asignacion de colores a las barras "
   ]
  },
  {
   "cell_type": "markdown",
   "metadata": {},
   "source": [
    "Mediante el método groupby se realizará la agrupación de datos para la gráfica\n",
    "\n",
    "Luego de esto se emplea el metodo sum para que Pandas agrege las filas diferentes"
   ]
  },
  {
   "cell_type": "code",
   "execution_count": 10,
   "metadata": {},
   "outputs": [],
   "source": [
    "output_file('grafico_barras.html')\n",
    "\n",
    "grouped = df.groupby('Pais')['Arqueros', 'Defensa', 'Medio_Campo', 'Delanteros'].sum()"
   ]
  },
  {
   "cell_type": "markdown",
   "metadata": {},
   "source": [
    "Se crea el ColumnDataSource a partir de los paises agrupados\n",
    "\n",
    "Seguidamente se definen los paises en el eje x mediante el objeto source.data y el nombre de la columna.\n",
    "\n",
    "Luego se pasa la lista de paises al constructor figure como x_range. Como es una lista de datos de texto, el eje x es categórico. En el mismo constructor se define el ancho y alto de la gráfica"
   ]
  },
  {
   "cell_type": "code",
   "execution_count": 11,
   "metadata": {},
   "outputs": [],
   "source": [
    "source = ColumnDataSource(grouped)\n",
    "paises = source.data['Pais'].tolist()\n",
    "p = figure(x_range = paises, plot_width = 6000, plot_height = 1000)"
   ]
  },
  {
   "cell_type": "markdown",
   "metadata": {},
   "source": [
    "Para dar color a las barras se emplea la función factor_cmap, la cual hace coincidir un color con cada categoria, empleando la paleta de colores Inferno 256, seguidamente se envia el mapa de color como argumento al vbar.\n",
    "\n",
    "Seguidamente se dan nombre a los ejes y un titulo a la gráfica\n"
   ]
  },
  {
   "cell_type": "code",
   "execution_count": 12,
   "metadata": {},
   "outputs": [],
   "source": [
    "color_map = factor_cmap(field_name = 'Pais', palette = Inferno256, factors = paises)\n",
    "\n",
    "p.vbar(x = 'Pais', top = 'Arqueros', source = source, width = 0.50, color = color_map)\n",
    "\n",
    "p.title.text = 'Jugadores en la primera division de España clasificados por Pais'\n",
    "p.xaxis.axis_label = 'Pais'\n",
    "p.yaxis.axis_label = 'Jugadores'"
   ]
  },
  {
   "cell_type": "markdown",
   "metadata": {},
   "source": [
    "Se inserta el metodo HoverTool para visualizar datos especificos en cada barra\n",
    "\n",
    "con el vline cada vez que el cursor pase por una barra imaginaria se mostrará una ventana emergente.\n",
    "\n",
    "Posteriormente se presenta la gráfica"
   ]
  },
  {
   "cell_type": "code",
   "execution_count": 83,
   "metadata": {},
   "outputs": [
    {
     "data": {
      "text/html": [
       "\n",
       "\n",
       "\n",
       "\n",
       "\n",
       "\n",
       "  <div class=\"bk-root\" id=\"eabb2c8e-3f57-4e7b-8fba-1cfd14fcdca8\" data-root-id=\"3081\"></div>\n"
      ]
     },
     "metadata": {},
     "output_type": "display_data"
    },
    {
     "data": {
      "application/javascript": [
       "(function(root) {\n",
       "  function embed_document(root) {\n",
       "    \n",
       "  var docs_json = {\"a3f60895-5830-48d2-8f8a-5263099827e9\":{\"roots\":{\"references\":[{\"attributes\":{\"below\":[{\"id\":\"3090\",\"type\":\"CategoricalAxis\"}],\"left\":[{\"id\":\"3094\",\"type\":\"LinearAxis\"}],\"plot_height\":1000,\"plot_width\":6000,\"renderers\":[{\"id\":\"3090\",\"type\":\"CategoricalAxis\"},{\"id\":\"3093\",\"type\":\"Grid\"},{\"id\":\"3094\",\"type\":\"LinearAxis\"},{\"id\":\"3098\",\"type\":\"Grid\"},{\"id\":\"3107\",\"type\":\"BoxAnnotation\"},{\"id\":\"3118\",\"type\":\"GlyphRenderer\"}],\"title\":{\"id\":\"3120\",\"type\":\"Title\"},\"toolbar\":{\"id\":\"3105\",\"type\":\"Toolbar\"},\"x_range\":{\"id\":\"3082\",\"type\":\"FactorRange\"},\"x_scale\":{\"id\":\"3086\",\"type\":\"CategoricalScale\"},\"y_range\":{\"id\":\"3084\",\"type\":\"DataRange1d\"},\"y_scale\":{\"id\":\"3088\",\"type\":\"LinearScale\"}},\"id\":\"3081\",\"subtype\":\"Figure\",\"type\":\"Plot\"},{\"attributes\":{},\"id\":\"3091\",\"type\":\"CategoricalTicker\"},{\"attributes\":{\"callback\":null},\"id\":\"3084\",\"type\":\"DataRange1d\"},{\"attributes\":{\"fill_color\":{\"field\":\"Pais\",\"transform\":{\"id\":\"3114\",\"type\":\"CategoricalColorMapper\"}},\"line_color\":{\"field\":\"Pais\",\"transform\":{\"id\":\"3114\",\"type\":\"CategoricalColorMapper\"}},\"top\":{\"field\":\"Arqueros\"},\"width\":{\"value\":0.5},\"x\":{\"field\":\"Pais\"}},\"id\":\"3116\",\"type\":\"VBar\"},{\"attributes\":{},\"id\":\"3149\",\"type\":\"Selection\"},{\"attributes\":{},\"id\":\"3088\",\"type\":\"LinearScale\"},{\"attributes\":{},\"id\":\"3099\",\"type\":\"PanTool\"},{\"attributes\":{\"dimension\":1,\"plot\":{\"id\":\"3081\",\"subtype\":\"Figure\",\"type\":\"Plot\"},\"ticker\":{\"id\":\"3095\",\"type\":\"BasicTicker\"}},\"id\":\"3098\",\"type\":\"Grid\"},{\"attributes\":{},\"id\":\"3143\",\"type\":\"CategoricalTickFormatter\"},{\"attributes\":{\"axis_label\":\"Pais\",\"formatter\":{\"id\":\"3143\",\"type\":\"CategoricalTickFormatter\"},\"plot\":{\"id\":\"3081\",\"subtype\":\"Figure\",\"type\":\"Plot\"},\"ticker\":{\"id\":\"3091\",\"type\":\"CategoricalTicker\"}},\"id\":\"3090\",\"type\":\"CategoricalAxis\"},{\"attributes\":{\"active_drag\":\"auto\",\"active_inspect\":\"auto\",\"active_multi\":null,\"active_scroll\":\"auto\",\"active_tap\":\"auto\",\"tools\":[{\"id\":\"3099\",\"type\":\"PanTool\"},{\"id\":\"3100\",\"type\":\"WheelZoomTool\"},{\"id\":\"3101\",\"type\":\"BoxZoomTool\"},{\"id\":\"3102\",\"type\":\"SaveTool\"},{\"id\":\"3103\",\"type\":\"ResetTool\"},{\"id\":\"3104\",\"type\":\"HelpTool\"},{\"id\":\"3121\",\"type\":\"HoverTool\"}]},\"id\":\"3105\",\"type\":\"Toolbar\"},{\"attributes\":{},\"id\":\"3095\",\"type\":\"BasicTicker\"},{\"attributes\":{},\"id\":\"3100\",\"type\":\"WheelZoomTool\"},{\"attributes\":{\"factors\":[\"Albania\",\"Alemania\",\"Andorra\",\"Angola\",\"Arabia Saudi\",\"Argelia\",\"Argentina\",\"Australia\",\"Austria\",\"Azerbaiyan\",\"Belgica\",\"Bielorrusia\",\"Bolivia\",\"Bosnia\",\"Brasil\",\"Bulgaria\",\"Burkina Faso\",\"Burundi\",\"Cabo Verde\",\"Camerun\",\"Canada\",\"Chile\",\"China\",\"Colombia\",\"Corea del Sur\",\"Costa Rica\",\"Costa de Marfil\",\"Croacia\",\"Cuba\",\"Dinamarca\",\"Ecuador\",\"Egipto\",\"El Salvador\",\"Eslovaquia\",\"Eslovenia\",\"Espa\\u00f1a\",\"Estados Unidos\",\"Estonia\",\"Filipinas\",\"Finlandia\",\"Francia\",\"Gabon\",\"Gambia\",\"Georgia\",\"Ghana\",\"Grecia\",\"Guinea\",\"Guinea Bissau\",\"Guinea Ecuatorial\",\"Honduras\",\"Hungria\",\"Iran\",\"Irlanda\",\"Islandia\",\"Israel\",\"Italia\",\"Japon\",\"Kenia\",\"Kosovo\",\"Letonia\",\"Liberia\",\"Lituania\",\"Macedonia\",\"Madagascar\",\"Mali\",\"Marruecos\",\"Mauritania\",\"Mexico\",\"Moldavia\",\"Montenegro\",\"Mozambique\",\"Nicaragua\",\"Nigeria\",\"Noruega\",\"Paises Bajos\",\"Panama\",\"Paraguay\",\"Peru\",\"Polonia\",\"Portugal\",\"Puerto Rico\",\"Qatar\",\"RD Congo\",\"Reino Unido\",\"Republica Checa\",\"Republica Dominicana\",\"Republica del Congo\",\"Rumania\",\"Rusia\",\"Sahara Occidental\",\"Santo Tome y Principe\",\"Senegal\",\"Serbia\",\"Sudafrica\",\"Suecia\",\"Suiza\",\"Surinam\",\"Tailandia\",\"Tayikistan\",\"Togo\",\"Tunez\",\"Turquia\",\"Ucrania\",\"Uganda\",\"Uruguay\",\"Venezuela\"],\"palette\":[\"#000003\",\"#000004\",\"#000006\",\"#010007\",\"#010109\",\"#01010B\",\"#02010E\",\"#020210\",\"#030212\",\"#040314\",\"#040316\",\"#050418\",\"#06041B\",\"#07051D\",\"#08061F\",\"#090621\",\"#0A0723\",\"#0B0726\",\"#0D0828\",\"#0E082A\",\"#0F092D\",\"#10092F\",\"#120A32\",\"#130A34\",\"#140B36\",\"#160B39\",\"#170B3B\",\"#190B3E\",\"#1A0B40\",\"#1C0C43\",\"#1D0C45\",\"#1F0C47\",\"#200C4A\",\"#220B4C\",\"#240B4E\",\"#260B50\",\"#270B52\",\"#290B54\",\"#2B0A56\",\"#2D0A58\",\"#2E0A5A\",\"#300A5C\",\"#32095D\",\"#34095F\",\"#350960\",\"#370961\",\"#390962\",\"#3B0964\",\"#3C0965\",\"#3E0966\",\"#400966\",\"#410967\",\"#430A68\",\"#450A69\",\"#460A69\",\"#480B6A\",\"#4A0B6A\",\"#4B0C6B\",\"#4D0C6B\",\"#4F0D6C\",\"#500D6C\",\"#520E6C\",\"#530E6D\",\"#550F6D\",\"#570F6D\",\"#58106D\",\"#5A116D\",\"#5B116E\",\"#5D126E\",\"#5F126E\",\"#60136E\",\"#62146E\",\"#63146E\",\"#65156E\",\"#66156E\",\"#68166E\",\"#6A176E\",\"#6B176E\",\"#6D186E\",\"#6E186E\",\"#70196E\",\"#72196D\",\"#731A6D\",\"#751B6D\",\"#761B6D\",\"#781C6D\",\"#7A1C6D\",\"#7B1D6C\",\"#7D1D6C\",\"#7E1E6C\",\"#801F6B\",\"#811F6B\",\"#83206B\",\"#85206A\",\"#86216A\",\"#88216A\",\"#892269\",\"#8B2269\",\"#8D2369\",\"#8E2468\",\"#902468\",\"#912567\",\"#932567\",\"#952666\",\"#962666\",\"#982765\",\"#992864\",\"#9B2864\",\"#9C2963\",\"#9E2963\",\"#A02A62\",\"#A12B61\",\"#A32B61\",\"#A42C60\",\"#A62C5F\",\"#A72D5F\",\"#A92E5E\",\"#AB2E5D\",\"#AC2F5C\",\"#AE305B\",\"#AF315B\",\"#B1315A\",\"#B23259\",\"#B43358\",\"#B53357\",\"#B73456\",\"#B83556\",\"#BA3655\",\"#BB3754\",\"#BD3753\",\"#BE3852\",\"#BF3951\",\"#C13A50\",\"#C23B4F\",\"#C43C4E\",\"#C53D4D\",\"#C73E4C\",\"#C83E4B\",\"#C93F4A\",\"#CB4049\",\"#CC4148\",\"#CD4247\",\"#CF4446\",\"#D04544\",\"#D14643\",\"#D24742\",\"#D44841\",\"#D54940\",\"#D64A3F\",\"#D74B3E\",\"#D94D3D\",\"#DA4E3B\",\"#DB4F3A\",\"#DC5039\",\"#DD5238\",\"#DE5337\",\"#DF5436\",\"#E05634\",\"#E25733\",\"#E35832\",\"#E45A31\",\"#E55B30\",\"#E65C2E\",\"#E65E2D\",\"#E75F2C\",\"#E8612B\",\"#E9622A\",\"#EA6428\",\"#EB6527\",\"#EC6726\",\"#ED6825\",\"#ED6A23\",\"#EE6C22\",\"#EF6D21\",\"#F06F1F\",\"#F0701E\",\"#F1721D\",\"#F2741C\",\"#F2751A\",\"#F37719\",\"#F37918\",\"#F47A16\",\"#F57C15\",\"#F57E14\",\"#F68012\",\"#F68111\",\"#F78310\",\"#F7850E\",\"#F8870D\",\"#F8880C\",\"#F88A0B\",\"#F98C09\",\"#F98E08\",\"#F99008\",\"#FA9107\",\"#FA9306\",\"#FA9506\",\"#FA9706\",\"#FB9906\",\"#FB9B06\",\"#FB9D06\",\"#FB9E07\",\"#FBA007\",\"#FBA208\",\"#FBA40A\",\"#FBA60B\",\"#FBA80D\",\"#FBAA0E\",\"#FBAC10\",\"#FBAE12\",\"#FBB014\",\"#FBB116\",\"#FBB318\",\"#FBB51A\",\"#FBB71C\",\"#FBB91E\",\"#FABB21\",\"#FABD23\",\"#FABF25\",\"#FAC128\",\"#F9C32A\",\"#F9C52C\",\"#F9C72F\",\"#F8C931\",\"#F8CB34\",\"#F8CD37\",\"#F7CF3A\",\"#F7D13C\",\"#F6D33F\",\"#F6D542\",\"#F5D745\",\"#F5D948\",\"#F4DB4B\",\"#F4DC4F\",\"#F3DE52\",\"#F3E056\",\"#F3E259\",\"#F2E45D\",\"#F2E660\",\"#F1E864\",\"#F1E968\",\"#F1EB6C\",\"#F1ED70\",\"#F1EE74\",\"#F1F079\",\"#F1F27D\",\"#F2F381\",\"#F2F485\",\"#F3F689\",\"#F4F78D\",\"#F5F891\",\"#F6FA95\",\"#F7FB99\",\"#F9FC9D\",\"#FAFDA0\",\"#FCFEA4\"]},\"id\":\"3114\",\"type\":\"CategoricalColorMapper\"},{\"attributes\":{\"bottom_units\":\"screen\",\"fill_alpha\":{\"value\":0.5},\"fill_color\":{\"value\":\"lightgrey\"},\"left_units\":\"screen\",\"level\":\"overlay\",\"line_alpha\":{\"value\":1.0},\"line_color\":{\"value\":\"black\"},\"line_dash\":[4,4],\"line_width\":{\"value\":2},\"plot\":null,\"render_mode\":\"css\",\"right_units\":\"screen\",\"top_units\":\"screen\"},\"id\":\"3107\",\"type\":\"BoxAnnotation\"},{\"attributes\":{\"plot\":{\"id\":\"3081\",\"subtype\":\"Figure\",\"type\":\"Plot\"},\"ticker\":{\"id\":\"3091\",\"type\":\"CategoricalTicker\"}},\"id\":\"3093\",\"type\":\"Grid\"},{\"attributes\":{\"axis_label\":\"Jugadores\",\"formatter\":{\"id\":\"3145\",\"type\":\"BasicTickFormatter\"},\"plot\":{\"id\":\"3081\",\"subtype\":\"Figure\",\"type\":\"Plot\"},\"ticker\":{\"id\":\"3095\",\"type\":\"BasicTicker\"}},\"id\":\"3094\",\"type\":\"LinearAxis\"},{\"attributes\":{\"callback\":null,\"mode\":\"vline\",\"tooltips\":[[\"Arqueros\",\"@Arqueros\"],[\"Defensas\",\"@Defensa\"],[\"Medio Campo\",\"@Medio_Campo\"],[\"Delanteros\",\"@Delanteros\"]]},\"id\":\"3121\",\"type\":\"HoverTool\"},{\"attributes\":{},\"id\":\"3086\",\"type\":\"CategoricalScale\"},{\"attributes\":{\"source\":{\"id\":\"3080\",\"type\":\"ColumnDataSource\"}},\"id\":\"3119\",\"type\":\"CDSView\"},{\"attributes\":{\"overlay\":{\"id\":\"3107\",\"type\":\"BoxAnnotation\"}},\"id\":\"3101\",\"type\":\"BoxZoomTool\"},{\"attributes\":{},\"id\":\"3145\",\"type\":\"BasicTickFormatter\"},{\"attributes\":{},\"id\":\"3148\",\"type\":\"UnionRenderers\"},{\"attributes\":{\"data_source\":{\"id\":\"3080\",\"type\":\"ColumnDataSource\"},\"glyph\":{\"id\":\"3116\",\"type\":\"VBar\"},\"hover_glyph\":null,\"muted_glyph\":null,\"nonselection_glyph\":{\"id\":\"3117\",\"type\":\"VBar\"},\"selection_glyph\":null,\"view\":{\"id\":\"3119\",\"type\":\"CDSView\"}},\"id\":\"3118\",\"type\":\"GlyphRenderer\"},{\"attributes\":{},\"id\":\"3104\",\"type\":\"HelpTool\"},{\"attributes\":{\"callback\":null,\"factors\":[\"Albania\",\"Alemania\",\"Andorra\",\"Angola\",\"Arabia Saudi\",\"Argelia\",\"Argentina\",\"Australia\",\"Austria\",\"Azerbaiyan\",\"Belgica\",\"Bielorrusia\",\"Bolivia\",\"Bosnia\",\"Brasil\",\"Bulgaria\",\"Burkina Faso\",\"Burundi\",\"Cabo Verde\",\"Camerun\",\"Canada\",\"Chile\",\"China\",\"Colombia\",\"Corea del Sur\",\"Costa Rica\",\"Costa de Marfil\",\"Croacia\",\"Cuba\",\"Dinamarca\",\"Ecuador\",\"Egipto\",\"El Salvador\",\"Eslovaquia\",\"Eslovenia\",\"Espa\\u00f1a\",\"Estados Unidos\",\"Estonia\",\"Filipinas\",\"Finlandia\",\"Francia\",\"Gabon\",\"Gambia\",\"Georgia\",\"Ghana\",\"Grecia\",\"Guinea\",\"Guinea Bissau\",\"Guinea Ecuatorial\",\"Honduras\",\"Hungria\",\"Iran\",\"Irlanda\",\"Islandia\",\"Israel\",\"Italia\",\"Japon\",\"Kenia\",\"Kosovo\",\"Letonia\",\"Liberia\",\"Lituania\",\"Macedonia\",\"Madagascar\",\"Mali\",\"Marruecos\",\"Mauritania\",\"Mexico\",\"Moldavia\",\"Montenegro\",\"Mozambique\",\"Nicaragua\",\"Nigeria\",\"Noruega\",\"Paises Bajos\",\"Panama\",\"Paraguay\",\"Peru\",\"Polonia\",\"Portugal\",\"Puerto Rico\",\"Qatar\",\"RD Congo\",\"Reino Unido\",\"Republica Checa\",\"Republica Dominicana\",\"Republica del Congo\",\"Rumania\",\"Rusia\",\"Sahara Occidental\",\"Santo Tome y Principe\",\"Senegal\",\"Serbia\",\"Sudafrica\",\"Suecia\",\"Suiza\",\"Surinam\",\"Tailandia\",\"Tayikistan\",\"Togo\",\"Tunez\",\"Turquia\",\"Ucrania\",\"Uganda\",\"Uruguay\",\"Venezuela\"]},\"id\":\"3082\",\"type\":\"FactorRange\"},{\"attributes\":{\"fill_alpha\":{\"value\":0.1},\"fill_color\":{\"value\":\"#1f77b4\"},\"line_alpha\":{\"value\":0.1},\"line_color\":{\"value\":\"#1f77b4\"},\"top\":{\"field\":\"Arqueros\"},\"width\":{\"value\":0.5},\"x\":{\"field\":\"Pais\"}},\"id\":\"3117\",\"type\":\"VBar\"},{\"attributes\":{\"plot\":null,\"text\":\"Jugadores en la primera division de Espa\\u00f1a clasificados por Pais\"},\"id\":\"3120\",\"type\":\"Title\"},{\"attributes\":{},\"id\":\"3103\",\"type\":\"ResetTool\"},{\"attributes\":{\"callback\":null,\"data\":{\"Arqueros\":[0,7,0,0,0,1,40,2,1,0,7,0,0,0,9,0,0,0,0,3,1,2,0,4,0,2,0,5,1,1,0,0,0,1,1,1012,1,0,1,0,14,0,0,0,0,1,0,0,0,1,5,0,0,0,1,7,0,0,0,0,0,1,1,0,0,3,0,1,0,0,0,0,3,2,5,0,6,0,4,8,0,0,0,0,2,0,0,4,2,0,1,0,8,0,2,1,0,0,0,0,0,2,3,0,14,1],\"Defensa\":[0,14,0,1,0,0,140,1,2,0,3,3,2,6,79,1,1,0,1,8,0,11,0,13,0,0,4,12,0,7,2,0,1,1,2,2424,3,0,1,2,74,1,0,0,1,3,0,1,0,2,2,0,4,1,1,22,0,0,1,1,0,1,2,0,1,8,2,8,0,3,2,1,5,3,17,2,28,8,1,41,0,0,0,7,5,1,0,13,3,0,0,8,28,4,4,6,0,0,0,1,1,2,4,0,54,6],\"Delanteros\":[1,10,1,7,0,2,202,2,10,1,7,0,2,14,115,12,1,1,1,8,0,19,1,23,2,4,10,16,1,16,4,1,1,4,0,2129,2,0,1,1,46,1,1,2,9,3,4,2,4,5,15,1,2,3,7,19,5,1,1,1,0,1,1,0,1,16,0,15,0,5,1,0,20,2,23,3,61,8,11,28,0,1,2,13,1,0,0,17,10,0,0,8,24,2,8,4,2,1,0,1,0,4,3,0,75,11],\"Medio_Campo\":[2,17,1,3,3,2,172,0,5,0,10,1,0,7,96,4,0,0,2,11,2,15,0,13,4,3,12,20,3,13,4,0,0,7,3,2365,1,1,1,1,81,1,1,0,14,5,0,0,0,1,10,1,0,2,4,18,6,1,2,0,1,0,2,1,4,12,1,16,1,5,2,0,8,2,23,0,27,11,5,49,1,0,4,13,5,0,2,11,9,2,0,6,33,1,8,11,2,0,1,0,0,6,5,1,53,5],\"Pais\":[\"Albania\",\"Alemania\",\"Andorra\",\"Angola\",\"Arabia Saudi\",\"Argelia\",\"Argentina\",\"Australia\",\"Austria\",\"Azerbaiyan\",\"Belgica\",\"Bielorrusia\",\"Bolivia\",\"Bosnia\",\"Brasil\",\"Bulgaria\",\"Burkina Faso\",\"Burundi\",\"Cabo Verde\",\"Camerun\",\"Canada\",\"Chile\",\"China\",\"Colombia\",\"Corea del Sur\",\"Costa Rica\",\"Costa de Marfil\",\"Croacia\",\"Cuba\",\"Dinamarca\",\"Ecuador\",\"Egipto\",\"El Salvador\",\"Eslovaquia\",\"Eslovenia\",\"Espa\\u00f1a\",\"Estados Unidos\",\"Estonia\",\"Filipinas\",\"Finlandia\",\"Francia\",\"Gabon\",\"Gambia\",\"Georgia\",\"Ghana\",\"Grecia\",\"Guinea\",\"Guinea Bissau\",\"Guinea Ecuatorial\",\"Honduras\",\"Hungria\",\"Iran\",\"Irlanda\",\"Islandia\",\"Israel\",\"Italia\",\"Japon\",\"Kenia\",\"Kosovo\",\"Letonia\",\"Liberia\",\"Lituania\",\"Macedonia\",\"Madagascar\",\"Mali\",\"Marruecos\",\"Mauritania\",\"Mexico\",\"Moldavia\",\"Montenegro\",\"Mozambique\",\"Nicaragua\",\"Nigeria\",\"Noruega\",\"Paises Bajos\",\"Panama\",\"Paraguay\",\"Peru\",\"Polonia\",\"Portugal\",\"Puerto Rico\",\"Qatar\",\"RD Congo\",\"Reino Unido\",\"Republica Checa\",\"Republica Dominicana\",\"Republica del Congo\",\"Rumania\",\"Rusia\",\"Sahara Occidental\",\"Santo Tome y Principe\",\"Senegal\",\"Serbia\",\"Sudafrica\",\"Suecia\",\"Suiza\",\"Surinam\",\"Tailandia\",\"Tayikistan\",\"Togo\",\"Tunez\",\"Turquia\",\"Ucrania\",\"Uganda\",\"Uruguay\",\"Venezuela\"]},\"selected\":{\"id\":\"3149\",\"type\":\"Selection\"},\"selection_policy\":{\"id\":\"3148\",\"type\":\"UnionRenderers\"}},\"id\":\"3080\",\"type\":\"ColumnDataSource\"},{\"attributes\":{},\"id\":\"3102\",\"type\":\"SaveTool\"}],\"root_ids\":[\"3081\"]},\"title\":\"Bokeh Application\",\"version\":\"1.0.3\"}};\n",
       "  var render_items = [{\"docid\":\"a3f60895-5830-48d2-8f8a-5263099827e9\",\"roots\":{\"3081\":\"eabb2c8e-3f57-4e7b-8fba-1cfd14fcdca8\"}}];\n",
       "  root.Bokeh.embed.embed_items_notebook(docs_json, render_items);\n",
       "\n",
       "  }\n",
       "  if (root.Bokeh !== undefined) {\n",
       "    embed_document(root);\n",
       "  } else {\n",
       "    var attempts = 0;\n",
       "    var timer = setInterval(function(root) {\n",
       "      if (root.Bokeh !== undefined) {\n",
       "        embed_document(root);\n",
       "        clearInterval(timer);\n",
       "      }\n",
       "      attempts++;\n",
       "      if (attempts > 100) {\n",
       "        console.log(\"Bokeh: ERROR: Unable to run BokehJS code because BokehJS library is missing\");\n",
       "        clearInterval(timer);\n",
       "      }\n",
       "    }, 10, root)\n",
       "  }\n",
       "})(window);"
      ],
      "application/vnd.bokehjs_exec.v0+json": ""
     },
     "metadata": {
      "application/vnd.bokehjs_exec.v0+json": {
       "id": "3081"
      }
     },
     "output_type": "display_data"
    }
   ],
   "source": [
    "hover = HoverTool()\n",
    "hover.tooltips = [('Arqueros', '@Arqueros'), ('Defensas', '@Defensa'), ('Medio Campo', '@Medio_Campo'), ('Delanteros', '@Delanteros')]\n",
    "\n",
    "hover.mode = 'vline'\n",
    "\n",
    "p.add_tools(hover)\n",
    "\n",
    "show(p)"
   ]
  },
  {
   "cell_type": "markdown",
   "metadata": {},
   "source": [
    "## Gráfico de barras apiladas"
   ]
  },
  {
   "cell_type": "markdown",
   "metadata": {},
   "source": [
    "Se utilizan las mismas importaciones en el codigo anterior, haciendo enfasis en la paleta Blues3, la cual dispone de 3 colores para cada dato a graficar."
   ]
  },
  {
   "cell_type": "code",
   "execution_count": 13,
   "metadata": {},
   "outputs": [],
   "source": [
    "output_file('grafico_barras_apiladas.html')"
   ]
  },
  {
   "cell_type": "markdown",
   "metadata": {},
   "source": [
    "Se define el eje x con los datos categóricos que se van a graficar, especificando que solo debe tomar en cuenta datos de Argentina y Francia con el .isin\n",
    "\n",
    "El df es el encargado de verificar si \"Pais\" tiene un dato de Argentina o Francia. Si lo hace, el valor de la variable es True, caso contrario es False descartando la fila"
   ]
  },
  {
   "cell_type": "code",
   "execution_count": 14,
   "metadata": {},
   "outputs": [],
   "source": [
    "filter = df['Pais'].isin(('Argentina','Francia'))\n",
    "df = df[filter]"
   ]
  },
  {
   "cell_type": "markdown",
   "metadata": {},
   "source": [
    "Se agrupan los datos a graficarse y se agregan las 3 columnas que contienen los hitos a graficar, seguidamente los mismos pasos del programa anterior para establecer el eje x"
   ]
  },
  {
   "cell_type": "code",
   "execution_count": 15,
   "metadata": {},
   "outputs": [],
   "source": [
    "grouped = df.groupby('Pais')['Goles', 'Amarillas', 'Rojas'].sum()"
   ]
  },
  {
   "cell_type": "code",
   "execution_count": 16,
   "metadata": {},
   "outputs": [],
   "source": [
    "source = ColumnDataSource(grouped)\n",
    "paises = source.data['Pais'].tolist()\n",
    "p = figure(x_range = paises)"
   ]
  },
  {
   "cell_type": "markdown",
   "metadata": {},
   "source": [
    "Para crear la grafica se llama al metodo vbar_stack, el cual envia una lista de nombres en lugar de uno. EL legend proporciona el texto para cada apilador y el Blues3 el color de cada uno"
   ]
  },
  {
   "cell_type": "code",
   "execution_count": 17,
   "metadata": {},
   "outputs": [
    {
     "data": {
      "text/plain": [
       "[GlyphRenderer(id='1131', ...),\n",
       " GlyphRenderer(id='1145', ...),\n",
       " GlyphRenderer(id='1160', ...)]"
      ]
     },
     "execution_count": 17,
     "metadata": {},
     "output_type": "execute_result"
    }
   ],
   "source": [
    "p.vbar_stack(stackers = ['Goles', 'Amarillas', 'Rojas'], x = 'Pais', source = source,\n",
    "\tlegend = ['Goles', 'Tarjetas amarillas', 'Tarjetas Rojas'], width = 0.5, color = Blues3)"
   ]
  },
  {
   "cell_type": "markdown",
   "metadata": {},
   "source": [
    "Posteriormente se da nombre a los ejes y a la grafica "
   ]
  },
  {
   "cell_type": "code",
   "execution_count": 18,
   "metadata": {},
   "outputs": [
    {
     "data": {
      "text/html": [
       "\n",
       "\n",
       "\n",
       "\n",
       "\n",
       "\n",
       "  <div class=\"bk-root\" id=\"dfa10055-2bd4-4896-b00d-ba3714671f3d\" data-root-id=\"1089\"></div>\n"
      ]
     },
     "metadata": {},
     "output_type": "display_data"
    },
    {
     "data": {
      "application/javascript": [
       "(function(root) {\n",
       "  function embed_document(root) {\n",
       "    \n",
       "  var docs_json = {\"2b422eb6-556c-4ee4-a99c-c9870628ba81\":{\"roots\":{\"references\":[{\"attributes\":{\"below\":[{\"id\":\"1098\",\"type\":\"CategoricalAxis\"}],\"left\":[{\"id\":\"1102\",\"type\":\"LinearAxis\"}],\"renderers\":[{\"id\":\"1098\",\"type\":\"CategoricalAxis\"},{\"id\":\"1101\",\"type\":\"Grid\"},{\"id\":\"1102\",\"type\":\"LinearAxis\"},{\"id\":\"1106\",\"type\":\"Grid\"},{\"id\":\"1115\",\"type\":\"BoxAnnotation\"},{\"id\":\"1140\",\"type\":\"Legend\"},{\"id\":\"1131\",\"type\":\"GlyphRenderer\"},{\"id\":\"1145\",\"type\":\"GlyphRenderer\"},{\"id\":\"1160\",\"type\":\"GlyphRenderer\"}],\"title\":{\"id\":\"1133\",\"type\":\"Title\"},\"toolbar\":{\"id\":\"1113\",\"type\":\"Toolbar\"},\"x_range\":{\"id\":\"1090\",\"type\":\"FactorRange\"},\"x_scale\":{\"id\":\"1094\",\"type\":\"CategoricalScale\"},\"y_range\":{\"id\":\"1092\",\"type\":\"DataRange1d\"},\"y_scale\":{\"id\":\"1096\",\"type\":\"LinearScale\"}},\"id\":\"1089\",\"subtype\":\"Figure\",\"type\":\"Plot\"},{\"attributes\":{},\"id\":\"1155\",\"type\":\"UnionRenderers\"},{\"attributes\":{},\"id\":\"1103\",\"type\":\"BasicTicker\"},{\"attributes\":{\"source\":{\"id\":\"1088\",\"type\":\"ColumnDataSource\"}},\"id\":\"1146\",\"type\":\"CDSView\"},{\"attributes\":{\"dimension\":1,\"plot\":{\"id\":\"1089\",\"subtype\":\"Figure\",\"type\":\"Plot\"},\"ticker\":{\"id\":\"1103\",\"type\":\"BasicTicker\"}},\"id\":\"1106\",\"type\":\"Grid\"},{\"attributes\":{\"data_source\":{\"id\":\"1088\",\"type\":\"ColumnDataSource\"},\"glyph\":{\"id\":\"1143\",\"type\":\"VBar\"},\"hover_glyph\":null,\"muted_glyph\":null,\"name\":\"Amarillas\",\"nonselection_glyph\":{\"id\":\"1144\",\"type\":\"VBar\"},\"selection_glyph\":null,\"view\":{\"id\":\"1146\",\"type\":\"CDSView\"}},\"id\":\"1145\",\"type\":\"GlyphRenderer\"},{\"attributes\":{\"bottom\":{\"expr\":{\"id\":\"1124\",\"type\":\"Stack\"}},\"fill_alpha\":{\"value\":0.1},\"fill_color\":{\"value\":\"#1f77b4\"},\"line_alpha\":{\"value\":0.1},\"line_color\":{\"value\":\"#1f77b4\"},\"top\":{\"expr\":{\"id\":\"1125\",\"type\":\"Stack\"}},\"width\":{\"value\":0.5},\"x\":{\"field\":\"Pais\"}},\"id\":\"1144\",\"type\":\"VBar\"},{\"attributes\":{\"axis_label\":\"Pais\",\"formatter\":{\"id\":\"1138\",\"type\":\"CategoricalTickFormatter\"},\"plot\":{\"id\":\"1089\",\"subtype\":\"Figure\",\"type\":\"Plot\"},\"ticker\":{\"id\":\"1099\",\"type\":\"CategoricalTicker\"}},\"id\":\"1098\",\"type\":\"CategoricalAxis\"},{\"attributes\":{\"label\":{\"field\":\"Goles\"},\"renderers\":[{\"id\":\"1131\",\"type\":\"GlyphRenderer\"}]},\"id\":\"1141\",\"type\":\"LegendItem\"},{\"attributes\":{},\"id\":\"1138\",\"type\":\"CategoricalTickFormatter\"},{\"attributes\":{\"axis_label\":\"Hitos\",\"formatter\":{\"id\":\"1136\",\"type\":\"BasicTickFormatter\"},\"plot\":{\"id\":\"1089\",\"subtype\":\"Figure\",\"type\":\"Plot\"},\"ticker\":{\"id\":\"1103\",\"type\":\"BasicTicker\"}},\"id\":\"1102\",\"type\":\"LinearAxis\"},{\"attributes\":{\"bottom\":{\"expr\":{\"id\":\"1124\",\"type\":\"Stack\"}},\"fill_color\":{\"value\":\"#9ecae1\"},\"line_color\":{\"value\":\"#9ecae1\"},\"top\":{\"expr\":{\"id\":\"1125\",\"type\":\"Stack\"}},\"width\":{\"value\":0.5},\"x\":{\"field\":\"Pais\"}},\"id\":\"1143\",\"type\":\"VBar\"},{\"attributes\":{},\"id\":\"1136\",\"type\":\"BasicTickFormatter\"},{\"attributes\":{\"source\":{\"id\":\"1088\",\"type\":\"ColumnDataSource\"}},\"id\":\"1132\",\"type\":\"CDSView\"},{\"attributes\":{\"grid_line_color\":{\"value\":null},\"plot\":{\"id\":\"1089\",\"subtype\":\"Figure\",\"type\":\"Plot\"},\"ticker\":{\"id\":\"1099\",\"type\":\"CategoricalTicker\"}},\"id\":\"1101\",\"type\":\"Grid\"},{\"attributes\":{},\"id\":\"1094\",\"type\":\"CategoricalScale\"},{\"attributes\":{\"bottom\":{\"expr\":{\"id\":\"1122\",\"type\":\"Stack\"}},\"fill_color\":{\"value\":\"#3182bd\"},\"line_color\":{\"value\":\"#3182bd\"},\"top\":{\"expr\":{\"id\":\"1123\",\"type\":\"Stack\"}},\"width\":{\"value\":0.5},\"x\":{\"field\":\"Pais\"}},\"id\":\"1129\",\"type\":\"VBar\"},{\"attributes\":{\"fields\":[]},\"id\":\"1122\",\"type\":\"Stack\"},{\"attributes\":{\"fields\":[\"Goles\",\"Amarillas\",\"Rojas\"]},\"id\":\"1127\",\"type\":\"Stack\"},{\"attributes\":{\"plot\":null,\"text\":\"Hitos por pais\"},\"id\":\"1133\",\"type\":\"Title\"},{\"attributes\":{\"label\":{\"value\":\"Tarjetas amarillas\"},\"renderers\":[{\"id\":\"1145\",\"type\":\"GlyphRenderer\"}]},\"id\":\"1156\",\"type\":\"LegendItem\"},{\"attributes\":{\"fields\":[\"Goles\",\"Amarillas\"]},\"id\":\"1126\",\"type\":\"Stack\"},{\"attributes\":{\"callback\":null,\"data\":{\"Amarillas\":[5454,1730],\"Goles\":[4987,1305],\"Pais\":[\"Argentina\",\"Francia\"],\"Rojas\":[427,137]},\"selected\":{\"id\":\"1154\",\"type\":\"Selection\"},\"selection_policy\":{\"id\":\"1155\",\"type\":\"UnionRenderers\"}},\"id\":\"1088\",\"type\":\"ColumnDataSource\"},{\"attributes\":{\"callback\":null},\"id\":\"1092\",\"type\":\"DataRange1d\"},{\"attributes\":{\"fields\":[\"Goles\",\"Amarillas\"]},\"id\":\"1125\",\"type\":\"Stack\"},{\"attributes\":{\"fields\":[\"Goles\"]},\"id\":\"1124\",\"type\":\"Stack\"},{\"attributes\":{\"callback\":null,\"factors\":[\"Argentina\",\"Francia\"]},\"id\":\"1090\",\"type\":\"FactorRange\"},{\"attributes\":{\"items\":[{\"id\":\"1141\",\"type\":\"LegendItem\"},{\"id\":\"1156\",\"type\":\"LegendItem\"},{\"id\":\"1171\",\"type\":\"LegendItem\"}],\"location\":\"top_left\",\"plot\":{\"id\":\"1089\",\"subtype\":\"Figure\",\"type\":\"Plot\"}},\"id\":\"1140\",\"type\":\"Legend\"},{\"attributes\":{\"bottom_units\":\"screen\",\"fill_alpha\":{\"value\":0.5},\"fill_color\":{\"value\":\"lightgrey\"},\"left_units\":\"screen\",\"level\":\"overlay\",\"line_alpha\":{\"value\":1.0},\"line_color\":{\"value\":\"black\"},\"line_dash\":[4,4],\"line_width\":{\"value\":2},\"plot\":null,\"render_mode\":\"css\",\"right_units\":\"screen\",\"top_units\":\"screen\"},\"id\":\"1115\",\"type\":\"BoxAnnotation\"},{\"attributes\":{\"data_source\":{\"id\":\"1088\",\"type\":\"ColumnDataSource\"},\"glyph\":{\"id\":\"1129\",\"type\":\"VBar\"},\"hover_glyph\":null,\"muted_glyph\":null,\"name\":\"Goles\",\"nonselection_glyph\":{\"id\":\"1130\",\"type\":\"VBar\"},\"selection_glyph\":null,\"view\":{\"id\":\"1132\",\"type\":\"CDSView\"}},\"id\":\"1131\",\"type\":\"GlyphRenderer\"},{\"attributes\":{\"bottom\":{\"expr\":{\"id\":\"1122\",\"type\":\"Stack\"}},\"fill_alpha\":{\"value\":0.1},\"fill_color\":{\"value\":\"#1f77b4\"},\"line_alpha\":{\"value\":0.1},\"line_color\":{\"value\":\"#1f77b4\"},\"top\":{\"expr\":{\"id\":\"1123\",\"type\":\"Stack\"}},\"width\":{\"value\":0.5},\"x\":{\"field\":\"Pais\"}},\"id\":\"1130\",\"type\":\"VBar\"},{\"attributes\":{\"fields\":[\"Goles\"]},\"id\":\"1123\",\"type\":\"Stack\"},{\"attributes\":{\"label\":{\"value\":\"Tarjetas Rojas\"},\"renderers\":[{\"id\":\"1160\",\"type\":\"GlyphRenderer\"}]},\"id\":\"1171\",\"type\":\"LegendItem\"},{\"attributes\":{},\"id\":\"1112\",\"type\":\"HelpTool\"},{\"attributes\":{},\"id\":\"1111\",\"type\":\"ResetTool\"},{\"attributes\":{\"data_source\":{\"id\":\"1088\",\"type\":\"ColumnDataSource\"},\"glyph\":{\"id\":\"1158\",\"type\":\"VBar\"},\"hover_glyph\":null,\"muted_glyph\":null,\"name\":\"Rojas\",\"nonselection_glyph\":{\"id\":\"1159\",\"type\":\"VBar\"},\"selection_glyph\":null,\"view\":{\"id\":\"1161\",\"type\":\"CDSView\"}},\"id\":\"1160\",\"type\":\"GlyphRenderer\"},{\"attributes\":{},\"id\":\"1110\",\"type\":\"SaveTool\"},{\"attributes\":{\"source\":{\"id\":\"1088\",\"type\":\"ColumnDataSource\"}},\"id\":\"1161\",\"type\":\"CDSView\"},{\"attributes\":{\"bottom\":{\"expr\":{\"id\":\"1126\",\"type\":\"Stack\"}},\"fill_alpha\":{\"value\":0.1},\"fill_color\":{\"value\":\"#1f77b4\"},\"line_alpha\":{\"value\":0.1},\"line_color\":{\"value\":\"#1f77b4\"},\"top\":{\"expr\":{\"id\":\"1127\",\"type\":\"Stack\"}},\"width\":{\"value\":0.5},\"x\":{\"field\":\"Pais\"}},\"id\":\"1159\",\"type\":\"VBar\"},{\"attributes\":{},\"id\":\"1099\",\"type\":\"CategoricalTicker\"},{\"attributes\":{\"overlay\":{\"id\":\"1115\",\"type\":\"BoxAnnotation\"}},\"id\":\"1109\",\"type\":\"BoxZoomTool\"},{\"attributes\":{\"bottom\":{\"expr\":{\"id\":\"1126\",\"type\":\"Stack\"}},\"fill_color\":{\"value\":\"#deebf7\"},\"line_color\":{\"value\":\"#deebf7\"},\"top\":{\"expr\":{\"id\":\"1127\",\"type\":\"Stack\"}},\"width\":{\"value\":0.5},\"x\":{\"field\":\"Pais\"}},\"id\":\"1158\",\"type\":\"VBar\"},{\"attributes\":{},\"id\":\"1108\",\"type\":\"WheelZoomTool\"},{\"attributes\":{},\"id\":\"1107\",\"type\":\"PanTool\"},{\"attributes\":{},\"id\":\"1096\",\"type\":\"LinearScale\"},{\"attributes\":{\"active_drag\":\"auto\",\"active_inspect\":\"auto\",\"active_multi\":null,\"active_scroll\":\"auto\",\"active_tap\":\"auto\",\"tools\":[{\"id\":\"1107\",\"type\":\"PanTool\"},{\"id\":\"1108\",\"type\":\"WheelZoomTool\"},{\"id\":\"1109\",\"type\":\"BoxZoomTool\"},{\"id\":\"1110\",\"type\":\"SaveTool\"},{\"id\":\"1111\",\"type\":\"ResetTool\"},{\"id\":\"1112\",\"type\":\"HelpTool\"}]},\"id\":\"1113\",\"type\":\"Toolbar\"},{\"attributes\":{},\"id\":\"1154\",\"type\":\"Selection\"}],\"root_ids\":[\"1089\"]},\"title\":\"Bokeh Application\",\"version\":\"1.0.3\"}};\n",
       "  var render_items = [{\"docid\":\"2b422eb6-556c-4ee4-a99c-c9870628ba81\",\"roots\":{\"1089\":\"dfa10055-2bd4-4896-b00d-ba3714671f3d\"}}];\n",
       "  root.Bokeh.embed.embed_items_notebook(docs_json, render_items);\n",
       "\n",
       "  }\n",
       "  if (root.Bokeh !== undefined) {\n",
       "    embed_document(root);\n",
       "  } else {\n",
       "    var attempts = 0;\n",
       "    var timer = setInterval(function(root) {\n",
       "      if (root.Bokeh !== undefined) {\n",
       "        embed_document(root);\n",
       "        clearInterval(timer);\n",
       "      }\n",
       "      attempts++;\n",
       "      if (attempts > 100) {\n",
       "        console.log(\"Bokeh: ERROR: Unable to run BokehJS code because BokehJS library is missing\");\n",
       "        clearInterval(timer);\n",
       "      }\n",
       "    }, 10, root)\n",
       "  }\n",
       "})(window);"
      ],
      "application/vnd.bokehjs_exec.v0+json": ""
     },
     "metadata": {
      "application/vnd.bokehjs_exec.v0+json": {
       "id": "1089"
      }
     },
     "output_type": "display_data"
    }
   ],
   "source": [
    "p.title.text = 'Hitos por pais'\n",
    "p.legend.location = 'top_left'\n",
    "\n",
    "p.xaxis.axis_label = 'Pais'\n",
    "p.yaxis.axis_label = 'Hitos'\n",
    "p.xgrid.grid_line_color = None # para que no se vean las lineas verticales\n",
    "\n",
    "show(p)\n"
   ]
  },
  {
   "cell_type": "markdown",
   "metadata": {},
   "source": [
    "## Datos Espaciales"
   ]
  },
  {
   "cell_type": "code",
   "execution_count": 19,
   "metadata": {},
   "outputs": [],
   "source": [
    "from bokeh.layouts import layout\n",
    "from bokeh.tile_providers import CARTODBPOSITRON\n",
    "from pyproj import Proj, transform\n",
    "from bokeh.models import Range1d\n",
    "\n",
    "output_file('mapping_targets.html')"
   ]
  },
  {
   "cell_type": "markdown",
   "metadata": {},
   "source": [
    "Se define la funcion de conversion"
   ]
  },
  {
   "cell_type": "code",
   "execution_count": 20,
   "metadata": {},
   "outputs": [],
   "source": [
    "def Convertir(long, lat):\n",
    "    try:\n",
    "        easting, northing = transform(\n",
    "            Proj(init = 'epsg:4326'), Proj(init = 'epsg:3857'), long, lat)\n",
    "        return easting, northing\n",
    "    except:\n",
    "        return None, None\n",
    "\n",
    "df = pd.read_csv('Jugadores_primera_division_Espania.csv', engine='python', header=0, sep=';', decimal = '.')\n",
    "\n",
    "df['E'], df['N'] = zip(*df.apply(lambda x: Convertir(x['Longitud'], x['Latitud']), axis=1))"
   ]
  },
  {
   "cell_type": "code",
   "execution_count": 21,
   "metadata": {},
   "outputs": [],
   "source": [
    "grouped = df.groupby(['E', 'N'])['Jugadores', 'Porcentaje'].sum().reset_index()\n",
    "\n",
    "filter = grouped['Porcentaje']!=0\n",
    "grouped = grouped[filter]\n",
    "\n",
    "source = ColumnDataSource(grouped)"
   ]
  },
  {
   "cell_type": "code",
   "execution_count": 22,
   "metadata": {},
   "outputs": [],
   "source": [
    "left = -2150000\n",
    "right = 18000000\n",
    "bottom = -5300000\n",
    "top = 11000000\n",
    "\n",
    "p = figure(x_range=Range1d(left, right), y_range=Range1d(bottom, top))"
   ]
  },
  {
   "cell_type": "code",
   "execution_count": 23,
   "metadata": {},
   "outputs": [
    {
     "data": {
      "text/html": [
       "\n",
       "\n",
       "\n",
       "\n",
       "\n",
       "\n",
       "  <div class=\"bk-root\" id=\"58ee05c1-7026-4d82-a0a2-942ba411aa3a\" data-root-id=\"1304\"></div>\n"
      ]
     },
     "metadata": {},
     "output_type": "display_data"
    },
    {
     "data": {
      "application/javascript": [
       "(function(root) {\n",
       "  function embed_document(root) {\n",
       "    \n",
       "  var docs_json = {\"0454958a-c54b-41f9-8b83-4caa616dba55\":{\"roots\":{\"references\":[{\"attributes\":{\"below\":[{\"id\":\"1311\",\"type\":\"LinearAxis\"}],\"left\":[{\"id\":\"1316\",\"type\":\"LinearAxis\"}],\"renderers\":[{\"id\":\"1311\",\"type\":\"LinearAxis\"},{\"id\":\"1315\",\"type\":\"Grid\"},{\"id\":\"1316\",\"type\":\"LinearAxis\"},{\"id\":\"1320\",\"type\":\"Grid\"},{\"id\":\"1329\",\"type\":\"BoxAnnotation\"},{\"id\":\"1336\",\"type\":\"TileRenderer\"},{\"id\":\"1341\",\"type\":\"GlyphRenderer\"}],\"title\":{\"id\":\"1354\",\"type\":\"Title\"},\"toolbar\":{\"id\":\"1327\",\"type\":\"Toolbar\"},\"x_range\":{\"id\":\"1302\",\"type\":\"Range1d\"},\"x_scale\":{\"id\":\"1307\",\"type\":\"LinearScale\"},\"y_range\":{\"id\":\"1303\",\"type\":\"Range1d\"},\"y_scale\":{\"id\":\"1309\",\"type\":\"LinearScale\"}},\"id\":\"1304\",\"subtype\":\"Figure\",\"type\":\"Plot\"},{\"attributes\":{\"bottom_units\":\"screen\",\"fill_alpha\":{\"value\":0.5},\"fill_color\":{\"value\":\"lightgrey\"},\"left_units\":\"screen\",\"level\":\"overlay\",\"line_alpha\":{\"value\":1.0},\"line_color\":{\"value\":\"black\"},\"line_dash\":[4,4],\"line_width\":{\"value\":2},\"plot\":null,\"render_mode\":\"css\",\"right_units\":\"screen\",\"top_units\":\"screen\"},\"id\":\"1329\",\"type\":\"BoxAnnotation\"},{\"attributes\":{},\"id\":\"1326\",\"type\":\"HelpTool\"},{\"attributes\":{},\"id\":\"1325\",\"type\":\"ResetTool\"},{\"attributes\":{},\"id\":\"1324\",\"type\":\"SaveTool\"},{\"attributes\":{\"overlay\":{\"id\":\"1329\",\"type\":\"BoxAnnotation\"}},\"id\":\"1323\",\"type\":\"BoxZoomTool\"},{\"attributes\":{},\"id\":\"1322\",\"type\":\"WheelZoomTool\"},{\"attributes\":{},\"id\":\"1321\",\"type\":\"PanTool\"},{\"attributes\":{\"active_drag\":\"auto\",\"active_inspect\":\"auto\",\"active_multi\":null,\"active_scroll\":\"auto\",\"active_tap\":\"auto\",\"tools\":[{\"id\":\"1321\",\"type\":\"PanTool\"},{\"id\":\"1322\",\"type\":\"WheelZoomTool\"},{\"id\":\"1323\",\"type\":\"BoxZoomTool\"},{\"id\":\"1324\",\"type\":\"SaveTool\"},{\"id\":\"1325\",\"type\":\"ResetTool\"},{\"id\":\"1326\",\"type\":\"HelpTool\"},{\"id\":\"1343\",\"type\":\"HoverTool\"}]},\"id\":\"1327\",\"type\":\"Toolbar\"},{\"attributes\":{},\"id\":\"1359\",\"type\":\"BasicTickFormatter\"},{\"attributes\":{\"plot\":null,\"text\":\"\"},\"id\":\"1354\",\"type\":\"Title\"},{\"attributes\":{},\"id\":\"1317\",\"type\":\"BasicTicker\"},{\"attributes\":{\"dimension\":1,\"plot\":{\"id\":\"1304\",\"subtype\":\"Figure\",\"type\":\"Plot\"},\"ticker\":{\"id\":\"1317\",\"type\":\"BasicTicker\"}},\"id\":\"1320\",\"type\":\"Grid\"},{\"attributes\":{},\"id\":\"1357\",\"type\":\"BasicTickFormatter\"},{\"attributes\":{},\"id\":\"1361\",\"type\":\"Selection\"},{\"attributes\":{\"callback\":null,\"tooltips\":[[\"Jugadores\",\"@Jugadores\"],[\"Porcentaje\",\"@Porcentaje\"]]},\"id\":\"1343\",\"type\":\"HoverTool\"},{\"attributes\":{\"plot\":{\"id\":\"1304\",\"subtype\":\"Figure\",\"type\":\"Plot\"},\"ticker\":{\"id\":\"1312\",\"type\":\"BasicTicker\"}},\"id\":\"1315\",\"type\":\"Grid\"},{\"attributes\":{\"formatter\":{\"id\":\"1357\",\"type\":\"BasicTickFormatter\"},\"plot\":{\"id\":\"1304\",\"subtype\":\"Figure\",\"type\":\"Plot\"},\"ticker\":{\"id\":\"1317\",\"type\":\"BasicTicker\"},\"visible\":false},\"id\":\"1316\",\"type\":\"LinearAxis\"},{\"attributes\":{\"source\":{\"id\":\"1301\",\"type\":\"ColumnDataSource\"}},\"id\":\"1342\",\"type\":\"CDSView\"},{\"attributes\":{\"data_source\":{\"id\":\"1301\",\"type\":\"ColumnDataSource\"},\"glyph\":{\"id\":\"1339\",\"type\":\"Circle\"},\"hover_glyph\":null,\"muted_glyph\":null,\"nonselection_glyph\":{\"id\":\"1340\",\"type\":\"Circle\"},\"selection_glyph\":null,\"view\":{\"id\":\"1342\",\"type\":\"CDSView\"}},\"id\":\"1341\",\"type\":\"GlyphRenderer\"},{\"attributes\":{\"fill_alpha\":{\"value\":0.1},\"fill_color\":{\"value\":\"#1f77b4\"},\"line_alpha\":{\"value\":0.1},\"line_color\":{\"value\":\"#1f77b4\"},\"x\":{\"field\":\"E\"},\"y\":{\"field\":\"N\"}},\"id\":\"1340\",\"type\":\"Circle\"},{\"attributes\":{\"formatter\":{\"id\":\"1359\",\"type\":\"BasicTickFormatter\"},\"plot\":{\"id\":\"1304\",\"subtype\":\"Figure\",\"type\":\"Plot\"},\"ticker\":{\"id\":\"1312\",\"type\":\"BasicTicker\"},\"visible\":false},\"id\":\"1311\",\"type\":\"LinearAxis\"},{\"attributes\":{},\"id\":\"1309\",\"type\":\"LinearScale\"},{\"attributes\":{},\"id\":\"1312\",\"type\":\"BasicTicker\"},{\"attributes\":{\"fill_color\":{\"value\":\"red\"},\"line_color\":{\"value\":\"grey\"},\"x\":{\"field\":\"E\"},\"y\":{\"field\":\"N\"}},\"id\":\"1339\",\"type\":\"Circle\"},{\"attributes\":{\"tile_source\":{\"id\":\"1300\",\"type\":\"WMTSTileSource\"}},\"id\":\"1336\",\"type\":\"TileRenderer\"},{\"attributes\":{},\"id\":\"1362\",\"type\":\"UnionRenderers\"},{\"attributes\":{\"callback\":null,\"end\":11000000,\"start\":-5300000},\"id\":\"1303\",\"type\":\"Range1d\"},{\"attributes\":{\"callback\":null,\"data\":{\"E\":{\"__ndarray__\":\"X038IU4+asHrwbrkgwllwT0dbNN0mGTBPKAcnSfNYsEFU8YB21Jiwc4FcGaO2GHBn0du6Gr8YMFbRtZzXtZgwSoebZSoaWDB8mavl8leYMG3TZPVJpNewTfatwk35V3B+BvFcArjXcHWXbQN8CxcwZNcHJnjBlzBOMfPNHyqW8EwDErady1bwQ0b0500oVjBq8oA38jHV8GrygDfyMdXwXmil/8SW1fBJ4m34xliRMG3TZPVJpM+wRzOIpu3VT3BxpTEelDBO8GFcAUv0hI6wZXw/UCKgDTBIYm34xliNMGZR27oavwwwQB7XIcOmC/BPAxK2nctK8E8DErady0rwZlHbuhq/CDBmUdu6Gr8IME8DErady0bwTwMStp3LRvBPAxK2nctC8E8DErady0LwXPatwk35f1AaBJRDxR7AkE8DErady0LQRWJt+MZYhRBPAxK2nctG0F6CxxzxoMiQUyMQuwvmyVBPAxK2nctK0E8DErady0rQbdNk9Umky5Bt02T1SaTLkGZR27oavwwQZlHbuhq/DBBGa3fe7+7MUFTymkr8HIzQSGJt+MZYjRBD12kcCw3NUEpZ2QVkGc2QXJrpVygejlBcmulXKB6OUFya6VcoHo5QRYCijUU/TlBFgKKNRT9OUG3TZPVJpM+QVvkd66aFT9BOvebKf8iQEGNQg4WOWRAQTJhEnCIjUBBn0du6Gr8QEGfR27oavxAQchooivTcUFB/pdAp9bVQUH2COyJrTdCQWPoEmZCr0JBJ4m34xliREEnibfjGWJEQYbZiaKFO0VBhtmJooU7RUGG2YmihTtFQespXGHxFEZB6ylcYfEURkGoygDfyMdHQQ0b0500oUhBbGulXKB6SUFsa6VcoHpJQTAMStp3LUtBWK5oAm5SS0HsHZo6JkJNQVj9wBa7uU1BWP3AFru5TUE+95sp/yJQQdrl4nwpY1JBkxB8RfgbU0H0YE4EZPVTQZ2Gh/oAFlRBjpQP/Ym4VUEaUsVAp4FWQYglKvZwJl5BGSz1ljEMYkGG2YmihTtlQYbZiaKFO2VB/70QUUxLZkGfkw48VudpQe4KsmVrB2tBqfDQiD49bEEj1Vc3BU1tQQ==\",\"dtype\":\"float64\",\"shape\":[104]},\"Jugadores\":[3,40,7,2,9,9,5,5,10,27,53,1,47,1,23,4,554,122,196,4,299,4,6,22,2,3,2,3,4,1,126,6,26,39,6,7931,24,2,2,2,215,5,27,68,1,36,22,1,48,4,37,9,3,30,66,18,8,6,22,53,13,27,11,13,13,3,32,21,4,93,6,12,7,3,17,45,2,4,1,4,1,1,1,15,1,13,5,14,2,2,3,1,1,1,2,1,1,1,24,1,4,6,5,11],\"N\":{\"__ndarray__\":\"Q/YQDgMMWEGtUZDLY6pAQU0QBnQYeFFBXtqLpPkgN0HEV70jcMY5QdGyLPOCUDBBJ3qVRZOFQkHUcCEgirMuQX/0BKvhLgvBiIiTMJ7hNMFgq0lwIDMbQdiIIfXbcEBB5m6RQ7gATsHssshwolI/Qb26hIAvRCtBK73EXXV1QEFQX1gDwbxOwZVunFGpFETB/V8thUVAT8Fgq0lwIDMbQZFKkPmpEjHBGXApxLKJO0FkYFFwllNiQcc/LgAsxjhBMV4IzRvDNkFU23wzCa8zQTfG6k+w8EVBWIindoNXQUEnG0nN6swyQapkcYIUciVBSkWY4w8tUkGSqud6VaNaQb26hIAvRCtBpkZGUDe2TEF3LVYKOU89QUph45Hlj1JBvbqEgC9EK0HV9ZlFFEY2Qb26hIAvRCtBWdCFHQLcU0EYrhhO3wxWQXdIE+WmyUhBlM1b6nzqWEENoX4I5iVaQR6sqmST6sdAj0qQ+akSMUEWtqKEzqpWQUtfWAPBvE5B+19BbhtCWUF39ASr4S4LQXE+/elD1VxBsT20GounX0F3Qy5J0i37wEHnNB2qayRBqZkLAvr3U0Fru0yPJclWQXdDLknSLfvAGK4YTt8MVkH0O57ZwOVgQT/G64wngVVBoJIyM7M6WEFbj7uLWNlUQTVDEoIdDjXByE9r3ASwU0Hs9ewc94xXQdtKKMlFOlNBFraihM6qVkFx2BRdv/BZQQnSLMvU5FNBW4+7i1jZVEGuZe5zqFhTQQgnpeQBA1JBaTx4BA/BScFxPv3pQ9VcQcdaNPZ4Q1RBGK4YTt8MVkF31RCrPZpdQSjl0BIbWltBwSmzuKg0X0GSqud6VaNaQRa2ooTOqlZB/vJ9XRZvFsGkqOLfh9RHQV1nN1nL71dBH8XyVmCUAEE+L3K5bQNMQf/eu0XJWz/BCCel5AEDUkErQy5J0i37QMhPa9wEsFNBN8bqT7DwRUFaiKd2g1dBwXyUjG2QulJB5ximC784RkGmRkZQN7ZMQQgnpeQBA1JB1fWZRRRGNkHEV70jcMY5QVhkeTxvBWBB5LJwkpTET0HV9ZlFFEY2QUVQYrIQ71BBpqji34fUR8HGks9X02dQQQ==\",\"dtype\":\"float64\",\"shape\":[104]},\"Porcentaje\":{\"__ndarray__\":\"uB6F61G4nj+uR+F6FK7XP7gehetRuK4/exSuR+F6lD97FK5H4Xq0P3sUrkfherQ/mpmZmZmZqT+amZmZmZmpPwrXo3A9Crc/AAAAAAAA0D9cj8L1KFzfP3sUrkfheoQ/KVyPwvUo3D97FK5H4XqEP+F6FK5H4co/exSuR+F6pD+F61G4HoUUQBSuR+F6FPI/H4XrUbge/T97FK5H4XqkPylcj8L1KAZAexSuR+F6pD+4HoXrUbiuP5qZmZmZmck/exSuR+F6lD+4HoXrUbieP3sUrkfhepQ/uB6F61G4nj97FK5H4XqkP3sUrkfheoQ/uB6F61G48j+4HoXrUbiuP7gehetRuM4/CtejcD0K1z+4HoXrUbiuP4/C9ShcX1JAKVyPwvUozD97FK5H4XqUP3sUrkfhepQ/exSuR+F6lD/Xo3A9Ctf/P5qZmZmZmak/AAAAAAAA0D8pXI/C9SjkP3sUrkfheoQ/H4XrUbge1T+amZmZmZnJP3sUrkfheoQ/KVyPwvUo3D97FK5H4XqkP8P1KFyPwtU/exSuR+F6tD+4HoXrUbieP+xRuB6F69E/hetRuB6F4z/D9Shcj8LFP3sUrkfherQ/uB6F61G4rj+amZmZmZnJP1yPwvUoXN8/uB6F61G4vj8AAAAAAADQP5qZmZmZmbk/uB6F61G4vj+4HoXrUbi+P7gehetRuJ4/MzMzMzMz0z9SuB6F61HIP3sUrkfheqQ/hetRuB6F6z+4HoXrUbiuPylcj8L1KLw/uB6F61G4rj+4HoXrUbieP3sUrkfhesQ/4XoUrkfh2j97FK5H4XqUP3sUrkfheqQ/exSuR+F6hD97FK5H4XqkP3sUrkfheoQ/exSuR+F6hD97FK5H4XqEP+xRuB6F68E/exSuR+F6hD+4HoXrUbi+P5qZmZmZmak/pHA9CtejwD97FK5H4XqUP3sUrkfhepQ/uB6F61G4nj97FK5H4XqEP3sUrkfheoQ/exSuR+F6hD97FK5H4XqUP3sUrkfheoQ/exSuR+F6hD97FK5H4XqEPylcj8L1KMw/exSuR+F6hD97FK5H4XqkP7gehetRuK4/mpmZmZmZqT+amZmZmZm5Pw==\",\"dtype\":\"float64\",\"shape\":[104]},\"index\":[0,1,2,3,4,5,6,7,8,9,10,11,12,13,14,15,16,17,18,19,20,21,22,23,24,25,26,27,28,29,30,31,32,33,34,35,36,37,38,39,40,41,42,43,44,45,46,47,48,49,50,51,52,53,54,55,56,57,58,59,60,61,62,63,64,65,66,67,68,69,70,71,72,73,74,75,76,77,78,79,80,81,82,83,84,85,86,87,88,89,90,91,92,93,94,95,96,97,98,99,100,101,102,103]},\"selected\":{\"id\":\"1361\",\"type\":\"Selection\"},\"selection_policy\":{\"id\":\"1362\",\"type\":\"UnionRenderers\"}},\"id\":\"1301\",\"type\":\"ColumnDataSource\"},{\"attributes\":{},\"id\":\"1307\",\"type\":\"LinearScale\"},{\"attributes\":{\"attribution\":\"&copy; <a href=\\\"https://www.openstreetmap.org/copyright\\\">OpenStreetMap</a> contributors,&copy; <a href=\\\"https://cartodb.com/attributions\\\">CartoDB</a>\",\"url\":\"https://tiles.basemaps.cartocdn.com/light_all/{z}/{x}/{y}.png\"},\"id\":\"1300\",\"type\":\"WMTSTileSource\"},{\"attributes\":{\"callback\":null,\"end\":18000000,\"start\":-2150000},\"id\":\"1302\",\"type\":\"Range1d\"}],\"root_ids\":[\"1304\"]},\"title\":\"Bokeh Application\",\"version\":\"1.0.3\"}};\n",
       "  var render_items = [{\"docid\":\"0454958a-c54b-41f9-8b83-4caa616dba55\",\"roots\":{\"1304\":\"58ee05c1-7026-4d82-a0a2-942ba411aa3a\"}}];\n",
       "  root.Bokeh.embed.embed_items_notebook(docs_json, render_items);\n",
       "\n",
       "  }\n",
       "  if (root.Bokeh !== undefined) {\n",
       "    embed_document(root);\n",
       "  } else {\n",
       "    var attempts = 0;\n",
       "    var timer = setInterval(function(root) {\n",
       "      if (root.Bokeh !== undefined) {\n",
       "        embed_document(root);\n",
       "        clearInterval(timer);\n",
       "      }\n",
       "      attempts++;\n",
       "      if (attempts > 100) {\n",
       "        console.log(\"Bokeh: ERROR: Unable to run BokehJS code because BokehJS library is missing\");\n",
       "        clearInterval(timer);\n",
       "      }\n",
       "    }, 10, root)\n",
       "  }\n",
       "})(window);"
      ],
      "application/vnd.bokehjs_exec.v0+json": ""
     },
     "metadata": {
      "application/vnd.bokehjs_exec.v0+json": {
       "id": "1304"
      }
     },
     "output_type": "display_data"
    }
   ],
   "source": [
    "p.add_tile(CARTODBPOSITRON)\n",
    "p.circle(x = 'E', y = 'N', source = source, line_color = 'grey', fill_color = 'red')\n",
    "\n",
    "p.axis.visible = False\n",
    "\n",
    "hover = HoverTool()\n",
    "hover.tooltips = [('Jugadores', '@Jugadores'), ('Porcentaje', '@Porcentaje')]\n",
    "\n",
    "p.add_tools(hover)\n",
    "\n",
    "show(p)"
   ]
  },
  {
   "cell_type": "markdown",
   "metadata": {},
   "source": [
    "## Grafica de lineas"
   ]
  },
  {
   "cell_type": "markdown",
   "metadata": {},
   "source": [
    "Se ha tomado los datos del Ecu911 a nivel nacional en cuanto a respuesta a incidencias"
   ]
  },
  {
   "cell_type": "code",
   "execution_count": 24,
   "metadata": {},
   "outputs": [
    {
     "name": "stdout",
     "output_type": "stream",
     "text": [
      "          CENTRO  ANIO         MES  INCIDENTE_POLICIAL INCIDENTE_TRANSITO  \\\n",
      "0    SAMBORONDÓN  2012     FEBRERO              17.684              2.602   \n",
      "1    SAMBORONDÓN  2012       MARZO              21.836              2.945   \n",
      "2    SAMBORONDÓN  2012       ABRIL              20.856              3.161   \n",
      "3    SAMBORONDÓN  2012        MAYO              24.164              3.736   \n",
      "4    SAMBORONDÓN  2012       JUNIO              23.639              3.819   \n",
      "5    SAMBORONDÓN  2012       JULIO              25.994              4.800   \n",
      "6    SAMBORONDÓN  2012      AGOSTO              23.662              3.128   \n",
      "7    SAMBORONDÓN  2012  SEPTIEMBRE              21.233              3.399   \n",
      "8    SAMBORONDÓN  2012     OCTUBRE              19.950              3.754   \n",
      "9    SAMBORONDÓN  2012   NOVIEMBRE              20.685              3.410   \n",
      "10   SAMBORONDÓN  2012   DICIEMBRE              25.570              4.604   \n",
      "11   SAMBORONDÓN  2013       ENERO              37.598              3.234   \n",
      "12   SAMBORONDÓN  2013     FEBRERO              37.623              3.660   \n",
      "13   SAMBORONDÓN  2013       MARZO              42.649              3.840   \n",
      "14   SAMBORONDÓN  2013       ABRIL              40.124              3.552   \n",
      "15   SAMBORONDÓN  2013        MAYO              40.168              3.834   \n",
      "16   SAMBORONDÓN  2013       JUNIO              40.253              3.748   \n",
      "17   SAMBORONDÓN  2013       JULIO              36.345              3.667   \n",
      "18   SAMBORONDÓN  2013      AGOSTO              34.370              3.628   \n",
      "19   SAMBORONDÓN  2013  SEPTIEMBRE              37.540              3.749   \n",
      "20   SAMBORONDÓN  2013     OCTUBRE              35.998              3.789   \n",
      "21   SAMBORONDÓN  2013   NOVIEMBRE              37.178              3.619   \n",
      "22   SAMBORONDÓN  2013   DICIEMBRE              45.080              4.628   \n",
      "23   SAMBORONDÓN  2014       ENERO              42.914              3.790   \n",
      "24   SAMBORONDÓN  2014     FEBRERO              41.736              3.505   \n",
      "25   SAMBORONDÓN  2014       MARZO              50.254              3.828   \n",
      "26   SAMBORONDÓN  2014       ABRIL              44.752              3.424   \n",
      "27   SAMBORONDÓN  2014        MAYO              43.184              3.730   \n",
      "28   SAMBORONDÓN  2014       JUNIO              41.602              3.097   \n",
      "29   SAMBORONDÓN  2014       JULIO              42.966              3.732   \n",
      "..           ...   ...         ...                 ...                ...   \n",
      "292        MACAS  2014      AGOSTO               1.606                175   \n",
      "293        MACAS  2014  SEPTIEMBRE               1.455                151   \n",
      "294        MACAS  2014     OCTUBRE               1.292                169   \n",
      "295        MACAS  2014   NOVIEMBRE               1.471                134   \n",
      "296        MACAS  2014   DICIEMBRE               1.776                187   \n",
      "297        MACAS  2015       ENERO               1.602                212   \n",
      "298        MACAS  2015     FEBRERO               1.430                246   \n",
      "299        MACAS  2015       MARZO               1.519                266   \n",
      "300        MACAS  2015       ABRIL               1.494                326   \n",
      "301        MACAS  2015        MAYO               1.694                329   \n",
      "302        MACAS  2015       JUNIO               1.491                287   \n",
      "303   NUEVA LOJA  2014  SEPTIEMBRE               2.019                  -   \n",
      "304   NUEVA LOJA  2014     OCTUBRE               2.065                  9   \n",
      "305   NUEVA LOJA  2014   DICIEMBRE               2.104                165   \n",
      "306   NUEVA LOJA  2015       ENERO               1.855                112   \n",
      "307   NUEVA LOJA  2015     FEBRERO               1.905                115   \n",
      "308   NUEVA LOJA  2015       MARZO               2.085                129   \n",
      "309   NUEVA LOJA  2015       ABRIL               2.161                492   \n",
      "310   NUEVA LOJA  2015        MAYO               2.175                266   \n",
      "311   NUEVA LOJA  2015       JUNIO               1.950                243   \n",
      "312       TULCÁN  2014  SEPTIEMBRE               1.174                142   \n",
      "313       TULCÁN  2014     OCTUBRE             988.000                120   \n",
      "314       TULCÁN  2014   NOVIEMBRE               2.324                200   \n",
      "315       TULCÁN  2014   DICIEMBRE               2.455                237   \n",
      "316       TULCÁN  2015       ENERO               2.142                232   \n",
      "317       TULCÁN  2015     FEBRERO               1.886                245   \n",
      "318       TULCÁN  2015       MARZO               2.196                265   \n",
      "319       TULCÁN  2015       ABRIL               2.355                254   \n",
      "320       TULCÁN  2015        MAYO               2.447                221   \n",
      "321       TULCÁN  2015       JUNIO               1.722                230   \n",
      "\n",
      "     INCIDENTE_SALUD INCIDENTE_SERVICIOS_MUNICIPALES  INCIDENTE_BOMBEROS  \\\n",
      "0              2.762                           3.439             690.000   \n",
      "1              3.568                           3.171             700.000   \n",
      "2              3.114                           2.541             730.000   \n",
      "3              2.836                           2.213             610.000   \n",
      "4              2.598                           1.148             611.000   \n",
      "5              2.648                           1.379             921.000   \n",
      "6              2.313                             767               1.075   \n",
      "7              1.993                             562               1.188   \n",
      "8              2.421                             701               1.340   \n",
      "9              2.289                             803               1.465   \n",
      "10             3.100                           2.066               1.518   \n",
      "11             2.302                           2.285             644.000   \n",
      "12             2.674                           2.201             489.000   \n",
      "13             3.653                           4.144             619.000   \n",
      "14             3.637                           2.673             661.000   \n",
      "15             3.928                           1.669             824.000   \n",
      "16             3.850                           1.089             764.000   \n",
      "17             4.364                             983             941.000   \n",
      "18             5.165                           1.114               1.357   \n",
      "19             5.235                           1.437               1.469   \n",
      "20             5.256                           1.069               1.378   \n",
      "21             5.769                             688               1.300   \n",
      "22             5.870                             619               1.712   \n",
      "23             6.222                               0               1.007   \n",
      "24             6.161                               0             635.000   \n",
      "25             6.559                               0             835.000   \n",
      "26             6.170                               0             741.000   \n",
      "27             6.637                               0             789.000   \n",
      "28             6.560                               0             773.000   \n",
      "29             6.710                               0               1.080   \n",
      "..               ...                             ...                 ...   \n",
      "292          491.000                               2              57.000   \n",
      "293          519.000                               -              58.000   \n",
      "294          522.000                               4              33.000   \n",
      "295          590.000                              33              33.000   \n",
      "296          542.000                              11              35.000   \n",
      "297          726.000                               1              43.000   \n",
      "298          558.000                              40              54.000   \n",
      "299          733.000                              68              52.000   \n",
      "300          685.000                              66             111.000   \n",
      "301          681.000                              86              50.000   \n",
      "302          634.000                              40              71.000   \n",
      "303          361.000                              31              54.000   \n",
      "304          318.000                              47              26.000   \n",
      "305          450.000                              58              59.000   \n",
      "306          391.000                              36              29.000   \n",
      "307          380.000                              41              40.000   \n",
      "308          361.000                              35              35.000   \n",
      "309          492.000                              54              27.000   \n",
      "310          536.000                              52              37.000   \n",
      "311          535.000                              68              27.000   \n",
      "312          231.000                              56             201.000   \n",
      "313          207.000                              82             113.000   \n",
      "314          661.000                             167             151.000   \n",
      "315          702.000                             159             143.000   \n",
      "316          690.000                             104              97.000   \n",
      "317          636.000                             117             133.000   \n",
      "318          666.000                             156             162.000   \n",
      "319          656.000                             133             153.000   \n",
      "320          725.000                             117             175.000   \n",
      "321          715.000                               0             108.000   \n",
      "\n",
      "    INCIDENTE_GESTIÓN_DE_RIESGO INCIDENTE_MILITAR  \\\n",
      "0                           327                 3   \n",
      "1                           219                18   \n",
      "2                            34                53   \n",
      "3                            15                15   \n",
      "4                            10                12   \n",
      "5                             7                13   \n",
      "6                             1                25   \n",
      "7                             5                14   \n",
      "8                             3                 6   \n",
      "9                             2                 4   \n",
      "10                            7                 7   \n",
      "11                           12                16   \n",
      "12                           45                42   \n",
      "13                          480                46   \n",
      "14                           29                22   \n",
      "15                            6                24   \n",
      "16                            2                 6   \n",
      "17                            5                30   \n",
      "18                           14                22   \n",
      "19                           16                12   \n",
      "20                           13                14   \n",
      "21                            6                14   \n",
      "22                           10                16   \n",
      "23                          114                26   \n",
      "24                           51                22   \n",
      "25                           61                47   \n",
      "26                           25                37   \n",
      "27                          255                17   \n",
      "28                            9                16   \n",
      "29                           27                37   \n",
      "..                          ...               ...   \n",
      "292                           2                60   \n",
      "293                           4                45   \n",
      "294                           0                39   \n",
      "295                           -                18   \n",
      "296                           0                21   \n",
      "297                           0                33   \n",
      "298                           1                25   \n",
      "299                           0                55   \n",
      "300                           0                19   \n",
      "301                           0                38   \n",
      "302                           -                51   \n",
      "303                           4                81   \n",
      "304                           3               243   \n",
      "305                           3               450   \n",
      "306                           3               290   \n",
      "307                           5               301   \n",
      "308                           5               370   \n",
      "309                           6               333   \n",
      "310                           1               365   \n",
      "311                           8               470   \n",
      "312                           -                30   \n",
      "313                           -                 9   \n",
      "314                           2                58   \n",
      "315                           6                59   \n",
      "316                           -               106   \n",
      "317                           1                58   \n",
      "318                           1                99   \n",
      "319                           7                53   \n",
      "320                           1                62   \n",
      "321                           0                 0   \n",
      "\n",
      "     TOTAL_DE_INCIDENTES_RECEPTADOS  \n",
      "0                            27.507  \n",
      "1                            32.457  \n",
      "2                            30.489  \n",
      "3                            33.589  \n",
      "4                            31.837  \n",
      "5                            35.762  \n",
      "6                            30.971  \n",
      "7                            28.394  \n",
      "8                            28.175  \n",
      "9                            28.658  \n",
      "10                           36.872  \n",
      "11                           46.091  \n",
      "12                           46.734  \n",
      "13                           55.431  \n",
      "14                           50.698  \n",
      "15                           50.453  \n",
      "16                           49.712  \n",
      "17                           46.335  \n",
      "18                           45.670  \n",
      "19                           49.458  \n",
      "20                           47.517  \n",
      "21                           48.574  \n",
      "22                           57.935  \n",
      "23                           54.073  \n",
      "24                           52.110  \n",
      "25                           61.584  \n",
      "26                           55.149  \n",
      "27                           54.612  \n",
      "28                           52.057  \n",
      "29                           54.552  \n",
      "..                              ...  \n",
      "292                           2.393  \n",
      "293                           2.232  \n",
      "294                           2.059  \n",
      "295                           2.279  \n",
      "296                           2.572  \n",
      "297                           2.617  \n",
      "298                           2.354  \n",
      "299                           2.693  \n",
      "300                           2.701  \n",
      "301                           2.878  \n",
      "302                           2.574  \n",
      "303                           2.550  \n",
      "304                           2.711  \n",
      "305                           3.289  \n",
      "306                           2.716  \n",
      "307                           2.787  \n",
      "308                           3.020  \n",
      "309                           3.565  \n",
      "310                           3.432  \n",
      "311                           3.301  \n",
      "312                           1.834  \n",
      "313                           1.519  \n",
      "314                           3.563  \n",
      "315                           3.761  \n",
      "316                           3.371  \n",
      "317                           3.076  \n",
      "318                           3.545  \n",
      "319                           3.611  \n",
      "320                           3.748  \n",
      "321                           2.775  \n",
      "\n",
      "[322 rows x 11 columns]\n"
     ]
    }
   ],
   "source": [
    "from bokeh.palettes import Plasma11\n",
    "from bokeh.layouts import gridplot\n",
    "\n",
    "output_file('lineas_de_dispersion.html')\n",
    "\n",
    "dff = pd.read_csv('estadisticas911.csv', sep = ',', decimal = '.')\n",
    "df = dff.fillna(value = 0) # los espacios en blanco los convierte en 0\n",
    "print(df)"
   ]
  },
  {
   "cell_type": "markdown",
   "metadata": {},
   "source": [
    "Se implementa el to_datetime para asegurar de que la columna ANIO sera leida como tiempo. Se envia datetime al constructor de figuras como dato del eje x como tiempo.\n",
    "\n",
    "Seguidamente se envian al constructor los datos que seran graficados y especificando un color"
   ]
  },
  {
   "cell_type": "code",
   "execution_count": 25,
   "metadata": {},
   "outputs": [
    {
     "data": {
      "text/html": [
       "\n",
       "\n",
       "\n",
       "\n",
       "\n",
       "\n",
       "  <div class=\"bk-root\" id=\"35abc676-cb74-4cae-bd61-5d3fd2e57828\" data-root-id=\"1500\"></div>\n"
      ]
     },
     "metadata": {},
     "output_type": "display_data"
    },
    {
     "data": {
      "application/javascript": [
       "(function(root) {\n",
       "  function embed_document(root) {\n",
       "    \n",
       "  var docs_json = {\"9b660f5d-21ea-48a4-b33b-a1855660d6c7\":{\"roots\":{\"references\":[{\"attributes\":{\"below\":[{\"id\":\"1509\",\"type\":\"DatetimeAxis\"}],\"left\":[{\"id\":\"1514\",\"type\":\"LinearAxis\"}],\"plot_height\":500,\"plot_width\":900,\"renderers\":[{\"id\":\"1509\",\"type\":\"DatetimeAxis\"},{\"id\":\"1513\",\"type\":\"Grid\"},{\"id\":\"1514\",\"type\":\"LinearAxis\"},{\"id\":\"1518\",\"type\":\"Grid\"},{\"id\":\"1527\",\"type\":\"BoxAnnotation\"},{\"id\":\"1558\",\"type\":\"Legend\"},{\"id\":\"1537\",\"type\":\"GlyphRenderer\"},{\"id\":\"1563\",\"type\":\"GlyphRenderer\"},{\"id\":\"1590\",\"type\":\"GlyphRenderer\"}],\"title\":{\"id\":\"1539\",\"type\":\"Title\"},\"toolbar\":{\"id\":\"1525\",\"type\":\"Toolbar\"},\"x_range\":{\"id\":\"1501\",\"type\":\"DataRange1d\"},\"x_scale\":{\"id\":\"1505\",\"type\":\"LinearScale\"},\"y_range\":{\"id\":\"1503\",\"type\":\"DataRange1d\"},\"y_scale\":{\"id\":\"1507\",\"type\":\"LinearScale\"}},\"id\":\"1500\",\"subtype\":\"Figure\",\"type\":\"Plot\"},{\"attributes\":{},\"id\":\"1520\",\"type\":\"WheelZoomTool\"},{\"attributes\":{\"base\":60,\"mantissas\":[1,2,5,10,15,20,30],\"max_interval\":1800000.0,\"min_interval\":1000.0,\"num_minor_ticks\":0},\"id\":\"1547\",\"type\":\"AdaptiveTicker\"},{\"attributes\":{\"days\":[1,15]},\"id\":\"1552\",\"type\":\"DaysTicker\"},{\"attributes\":{\"base\":24,\"mantissas\":[1,2,4,6,8,12],\"max_interval\":43200000.0,\"min_interval\":3600000.0,\"num_minor_ticks\":0},\"id\":\"1548\",\"type\":\"AdaptiveTicker\"},{\"attributes\":{},\"id\":\"1519\",\"type\":\"PanTool\"},{\"attributes\":{\"days\":[1,2,3,4,5,6,7,8,9,10,11,12,13,14,15,16,17,18,19,20,21,22,23,24,25,26,27,28,29,30,31]},\"id\":\"1549\",\"type\":\"DaysTicker\"},{\"attributes\":{\"line_color\":\"#CA4678\",\"line_width\":2,\"x\":{\"field\":\"ANIO\"},\"y\":{\"field\":\"INCIDENTE_BOMBEROS\"}},\"id\":\"1588\",\"type\":\"Line\"},{\"attributes\":{\"days\":[1,4,7,10,13,16,19,22,25,28]},\"id\":\"1550\",\"type\":\"DaysTicker\"},{\"attributes\":{\"months\":[0,1,2,3,4,5,6,7,8,9,10,11]},\"id\":\"1553\",\"type\":\"MonthsTicker\"},{\"attributes\":{\"line_alpha\":0.1,\"line_color\":\"#1f77b4\",\"line_width\":2,\"x\":{\"field\":\"ANIO\"},\"y\":{\"field\":\"INCIDENTE_BOMBEROS\"}},\"id\":\"1589\",\"type\":\"Line\"},{\"attributes\":{},\"id\":\"1505\",\"type\":\"LinearScale\"},{\"attributes\":{\"months\":[0,4,8]},\"id\":\"1555\",\"type\":\"MonthsTicker\"},{\"attributes\":{\"callback\":null},\"id\":\"1503\",\"type\":\"DataRange1d\"},{\"attributes\":{\"label\":{\"value\":\"Incidentes policiacos\"},\"renderers\":[{\"id\":\"1537\",\"type\":\"GlyphRenderer\"}]},\"id\":\"1559\",\"type\":\"LegendItem\"},{\"attributes\":{\"data_source\":{\"id\":\"1499\",\"type\":\"ColumnDataSource\"},\"glyph\":{\"id\":\"1561\",\"type\":\"Line\"},\"hover_glyph\":null,\"muted_glyph\":null,\"nonselection_glyph\":{\"id\":\"1562\",\"type\":\"Line\"},\"selection_glyph\":null,\"view\":{\"id\":\"1564\",\"type\":\"CDSView\"}},\"id\":\"1563\",\"type\":\"GlyphRenderer\"},{\"attributes\":{},\"id\":\"1557\",\"type\":\"YearsTicker\"},{\"attributes\":{},\"id\":\"1544\",\"type\":\"DatetimeTickFormatter\"},{\"attributes\":{\"line_color\":\"#1f77b4\",\"line_width\":2,\"x\":{\"field\":\"ANIO\"},\"y\":{\"field\":\"INCIDENTE_POLICIAL\"}},\"id\":\"1535\",\"type\":\"Line\"},{\"attributes\":{\"axis_label\":\"Incidencia\",\"formatter\":{\"id\":\"1542\",\"type\":\"BasicTickFormatter\"},\"plot\":{\"id\":\"1500\",\"subtype\":\"Figure\",\"type\":\"Plot\"},\"ticker\":{\"id\":\"1515\",\"type\":\"BasicTicker\"}},\"id\":\"1514\",\"type\":\"LinearAxis\"},{\"attributes\":{\"data_source\":{\"id\":\"1499\",\"type\":\"ColumnDataSource\"},\"glyph\":{\"id\":\"1588\",\"type\":\"Line\"},\"hover_glyph\":null,\"muted_glyph\":null,\"nonselection_glyph\":{\"id\":\"1589\",\"type\":\"Line\"},\"selection_glyph\":null,\"view\":{\"id\":\"1591\",\"type\":\"CDSView\"}},\"id\":\"1590\",\"type\":\"GlyphRenderer\"},{\"attributes\":{\"months\":[0,6]},\"id\":\"1556\",\"type\":\"MonthsTicker\"},{\"attributes\":{\"num_minor_ticks\":5,\"tickers\":[{\"id\":\"1546\",\"type\":\"AdaptiveTicker\"},{\"id\":\"1547\",\"type\":\"AdaptiveTicker\"},{\"id\":\"1548\",\"type\":\"AdaptiveTicker\"},{\"id\":\"1549\",\"type\":\"DaysTicker\"},{\"id\":\"1550\",\"type\":\"DaysTicker\"},{\"id\":\"1551\",\"type\":\"DaysTicker\"},{\"id\":\"1552\",\"type\":\"DaysTicker\"},{\"id\":\"1553\",\"type\":\"MonthsTicker\"},{\"id\":\"1554\",\"type\":\"MonthsTicker\"},{\"id\":\"1555\",\"type\":\"MonthsTicker\"},{\"id\":\"1556\",\"type\":\"MonthsTicker\"},{\"id\":\"1557\",\"type\":\"YearsTicker\"}]},\"id\":\"1510\",\"type\":\"DatetimeTicker\"},{\"attributes\":{\"label\":{\"value\":\"Incidentes de bomberos\"},\"renderers\":[{\"id\":\"1590\",\"type\":\"GlyphRenderer\"}]},\"id\":\"1613\",\"type\":\"LegendItem\"},{\"attributes\":{\"line_alpha\":0.1,\"line_color\":\"#1f77b4\",\"line_width\":2,\"x\":{\"field\":\"ANIO\"},\"y\":{\"field\":\"INCIDENTE_POLICIAL\"}},\"id\":\"1536\",\"type\":\"Line\"},{\"attributes\":{\"months\":[0,2,4,6,8,10]},\"id\":\"1554\",\"type\":\"MonthsTicker\"},{\"attributes\":{\"source\":{\"id\":\"1499\",\"type\":\"ColumnDataSource\"}},\"id\":\"1591\",\"type\":\"CDSView\"},{\"attributes\":{},\"id\":\"1585\",\"type\":\"UnionRenderers\"},{\"attributes\":{\"label\":{\"value\":\"Incidentes de salud\"},\"renderers\":[{\"id\":\"1563\",\"type\":\"GlyphRenderer\"}]},\"id\":\"1586\",\"type\":\"LegendItem\"},{\"attributes\":{},\"id\":\"1515\",\"type\":\"BasicTicker\"},{\"attributes\":{\"plot\":{\"id\":\"1500\",\"subtype\":\"Figure\",\"type\":\"Plot\"},\"ticker\":{\"id\":\"1510\",\"type\":\"DatetimeTicker\"}},\"id\":\"1513\",\"type\":\"Grid\"},{\"attributes\":{\"callback\":null,\"data\":{\"ANIO\":{\"__ndarray__\":\"AAAADWlJc0IAAICFNr9zQgAAQJixNHRCAAAAqyyqdEI=\",\"dtype\":\"float64\",\"shape\":[4]},\"INCIDENTE_BOMBEROS\":{\"__ndarray__\":\"x0s3ieHquUCHFtnOz0LXQFTjpZvk3uBAdZMYBDYE0UA=\",\"dtype\":\"float64\",\"shape\":[4]},\"INCIDENTE_POLICIAL\":{\"__ndarray__\":\"mG4Sg8BEckBGtvP9NOrnQKNFtvO9sKRAjJduEoPdjkA=\",\"dtype\":\"float64\",\"shape\":[4]},\"INCIDENTE_SALUD\":{\"__ndarray__\":\"FtnO91MvdkBiEFg5zBfVQNZ46SYBlthAJQaBlVMVyUA=\",\"dtype\":\"float64\",\"shape\":[4]}},\"selected\":{\"id\":\"1584\",\"type\":\"Selection\"},\"selection_policy\":{\"id\":\"1585\",\"type\":\"UnionRenderers\"}},\"id\":\"1499\",\"type\":\"ColumnDataSource\"},{\"attributes\":{\"line_alpha\":0.1,\"line_color\":\"#1f77b4\",\"line_width\":2,\"x\":{\"field\":\"ANIO\"},\"y\":{\"field\":\"INCIDENTE_SALUD\"}},\"id\":\"1562\",\"type\":\"Line\"},{\"attributes\":{\"days\":[1,8,15,22]},\"id\":\"1551\",\"type\":\"DaysTicker\"},{\"attributes\":{\"mantissas\":[1,2,5],\"max_interval\":500.0,\"num_minor_ticks\":0},\"id\":\"1546\",\"type\":\"AdaptiveTicker\"},{\"attributes\":{\"source\":{\"id\":\"1499\",\"type\":\"ColumnDataSource\"}},\"id\":\"1564\",\"type\":\"CDSView\"},{\"attributes\":{\"overlay\":{\"id\":\"1527\",\"type\":\"BoxAnnotation\"}},\"id\":\"1521\",\"type\":\"BoxZoomTool\"},{\"attributes\":{\"callback\":null},\"id\":\"1501\",\"type\":\"DataRange1d\"},{\"attributes\":{},\"id\":\"1522\",\"type\":\"SaveTool\"},{\"attributes\":{\"line_color\":\"#40039C\",\"line_width\":2,\"x\":{\"field\":\"ANIO\"},\"y\":{\"field\":\"INCIDENTE_SALUD\"}},\"id\":\"1561\",\"type\":\"Line\"},{\"attributes\":{\"plot\":null,\"text\":\"\"},\"id\":\"1539\",\"type\":\"Title\"},{\"attributes\":{},\"id\":\"1542\",\"type\":\"BasicTickFormatter\"},{\"attributes\":{\"items\":[{\"id\":\"1559\",\"type\":\"LegendItem\"},{\"id\":\"1586\",\"type\":\"LegendItem\"},{\"id\":\"1613\",\"type\":\"LegendItem\"}],\"plot\":{\"id\":\"1500\",\"subtype\":\"Figure\",\"type\":\"Plot\"}},\"id\":\"1558\",\"type\":\"Legend\"},{\"attributes\":{\"data_source\":{\"id\":\"1499\",\"type\":\"ColumnDataSource\"},\"glyph\":{\"id\":\"1535\",\"type\":\"Line\"},\"hover_glyph\":null,\"muted_glyph\":null,\"nonselection_glyph\":{\"id\":\"1536\",\"type\":\"Line\"},\"selection_glyph\":null,\"view\":{\"id\":\"1538\",\"type\":\"CDSView\"}},\"id\":\"1537\",\"type\":\"GlyphRenderer\"},{\"attributes\":{},\"id\":\"1507\",\"type\":\"LinearScale\"},{\"attributes\":{\"bottom_units\":\"screen\",\"fill_alpha\":{\"value\":0.5},\"fill_color\":{\"value\":\"lightgrey\"},\"left_units\":\"screen\",\"level\":\"overlay\",\"line_alpha\":{\"value\":1.0},\"line_color\":{\"value\":\"black\"},\"line_dash\":[4,4],\"line_width\":{\"value\":2},\"plot\":null,\"render_mode\":\"css\",\"right_units\":\"screen\",\"top_units\":\"screen\"},\"id\":\"1527\",\"type\":\"BoxAnnotation\"},{\"attributes\":{},\"id\":\"1523\",\"type\":\"ResetTool\"},{\"attributes\":{\"formatter\":{\"id\":\"1544\",\"type\":\"DatetimeTickFormatter\"},\"plot\":{\"id\":\"1500\",\"subtype\":\"Figure\",\"type\":\"Plot\"},\"ticker\":{\"id\":\"1510\",\"type\":\"DatetimeTicker\"}},\"id\":\"1509\",\"type\":\"DatetimeAxis\"},{\"attributes\":{},\"id\":\"1524\",\"type\":\"HelpTool\"},{\"attributes\":{\"source\":{\"id\":\"1499\",\"type\":\"ColumnDataSource\"}},\"id\":\"1538\",\"type\":\"CDSView\"},{\"attributes\":{\"active_drag\":\"auto\",\"active_inspect\":\"auto\",\"active_multi\":null,\"active_scroll\":\"auto\",\"active_tap\":\"auto\",\"tools\":[{\"id\":\"1519\",\"type\":\"PanTool\"},{\"id\":\"1520\",\"type\":\"WheelZoomTool\"},{\"id\":\"1521\",\"type\":\"BoxZoomTool\"},{\"id\":\"1522\",\"type\":\"SaveTool\"},{\"id\":\"1523\",\"type\":\"ResetTool\"},{\"id\":\"1524\",\"type\":\"HelpTool\"}]},\"id\":\"1525\",\"type\":\"Toolbar\"},{\"attributes\":{},\"id\":\"1584\",\"type\":\"Selection\"},{\"attributes\":{\"dimension\":1,\"plot\":{\"id\":\"1500\",\"subtype\":\"Figure\",\"type\":\"Plot\"},\"ticker\":{\"id\":\"1515\",\"type\":\"BasicTicker\"}},\"id\":\"1518\",\"type\":\"Grid\"}],\"root_ids\":[\"1500\"]},\"title\":\"Bokeh Application\",\"version\":\"1.0.3\"}};\n",
       "  var render_items = [{\"docid\":\"9b660f5d-21ea-48a4-b33b-a1855660d6c7\",\"roots\":{\"1500\":\"35abc676-cb74-4cae-bd61-5d3fd2e57828\"}}];\n",
       "  root.Bokeh.embed.embed_items_notebook(docs_json, render_items);\n",
       "\n",
       "  }\n",
       "  if (root.Bokeh !== undefined) {\n",
       "    embed_document(root);\n",
       "  } else {\n",
       "    var attempts = 0;\n",
       "    var timer = setInterval(function(root) {\n",
       "      if (root.Bokeh !== undefined) {\n",
       "        embed_document(root);\n",
       "        clearInterval(timer);\n",
       "      }\n",
       "      attempts++;\n",
       "      if (attempts > 100) {\n",
       "        console.log(\"Bokeh: ERROR: Unable to run BokehJS code because BokehJS library is missing\");\n",
       "        clearInterval(timer);\n",
       "      }\n",
       "    }, 10, root)\n",
       "  }\n",
       "})(window);"
      ],
      "application/vnd.bokehjs_exec.v0+json": ""
     },
     "metadata": {
      "application/vnd.bokehjs_exec.v0+json": {
       "id": "1500"
      }
     },
     "output_type": "display_data"
    }
   ],
   "source": [
    "df['ANIO'] = pd.to_datetime(df['ANIO'], format='%Y')\n",
    "\n",
    "grouped = df.groupby('ANIO')['INCIDENTE_POLICIAL', 'INCIDENTE_TRANSITO', 'INCIDENTE_SALUD', 'INCIDENTE_SERVICIOS_MUNICIPALES', 'INCIDENTE_BOMBEROS', 'INCIDENTE_GESTIÓN_DE_RIESGO', 'INCIDENTE_MILITAR'].sum()\n",
    "\n",
    "source = ColumnDataSource(grouped)\n",
    "\n",
    "p = figure(x_axis_type = 'datetime',\n",
    "\tplot_height = 500,\n",
    "\tplot_width = 900)\n",
    "\n",
    "p.line(x = 'ANIO', y = 'INCIDENTE_POLICIAL', line_width = 2, source = source, legend = 'Incidentes policiacos')\n",
    "\n",
    "p.line(x = 'ANIO', y = 'INCIDENTE_SALUD', line_width = 2, source = source, color = Plasma11[1],  legend = 'Incidentes de salud')\n",
    "p.line(x = 'ANIO', y = 'INCIDENTE_BOMBEROS', line_width = 2, source = source, color = Plasma11[5],  legend = 'Incidentes de bomberos')\n",
    "\n",
    "p.yaxis.axis_label = 'Incidencia'\n",
    "\n",
    "show(p)"
   ]
  },
  {
   "cell_type": "markdown",
   "metadata": {},
   "source": [
    "La grafica nos demuestra los aumentos y disminuciones de incidencias en bomberos, policia y servicios de salud en el intervalo 2012, 2015"
   ]
  },
  {
   "cell_type": "code",
   "execution_count": null,
   "metadata": {},
   "outputs": [],
   "source": []
  }
 ],
 "metadata": {
  "kernelspec": {
   "display_name": "Python 3",
   "language": "python",
   "name": "python3"
  },
  "language_info": {
   "codemirror_mode": {
    "name": "ipython",
    "version": 3
   },
   "file_extension": ".py",
   "mimetype": "text/x-python",
   "name": "python",
   "nbconvert_exporter": "python",
   "pygments_lexer": "ipython3",
   "version": "3.7.1"
  }
 },
 "nbformat": 4,
 "nbformat_minor": 2
}
